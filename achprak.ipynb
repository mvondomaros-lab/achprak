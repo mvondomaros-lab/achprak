{
 "cells": [
  {
   "cell_type": "markdown",
   "id": "1af49bdf-e5af-43e7-9c5c-bbccd449c2f0",
   "metadata": {},
   "source": [
    "# Photoschalter\n",
    "\n",
    "## Einführung in Theoretisch-Chemische Denkweisen und Arbeitsprozesse\n",
    "\n",
    "### Motivation\n",
    "\n",
    "### Lernziele\n",
    "\n",
    "### Theorie"
   ]
  },
  {
   "cell_type": "code",
   "execution_count": 1,
   "id": "65ff5577-6f08-42e5-99c1-b6dc933b925b",
   "metadata": {},
   "outputs": [
    {
     "data": {
      "application/vnd.jupyter.widget-view+json": {
       "model_id": "c7f06f66871949d1b2f0f487f0e8ac4e",
       "version_major": 2,
       "version_minor": 0
      },
      "text/plain": []
     },
     "metadata": {},
     "output_type": "display_data"
    }
   ],
   "source": [
    "import achprak"
   ]
  },
  {
   "cell_type": "markdown",
   "id": "fc15bbbb-6c93-4211-84c9-d0a506841b61",
   "metadata": {},
   "source": [
    "## Werkzeug I: Strukturerstellung\n",
    "\n",
    "Erklärungen ..."
   ]
  },
  {
   "cell_type": "code",
   "execution_count": 2,
   "id": "188619e8-e45b-40d4-a571-a380dbb1c0f0",
   "metadata": {},
   "outputs": [
    {
     "data": {
      "application/vnd.jupyter.widget-view+json": {
       "model_id": "c5e50574cfcc4b169e66eee50645737b",
       "version_major": 2,
       "version_minor": 0
      },
      "text/plain": [
       "Label(value='Konformation', style=LabelStyle(font_size='15px', font_weight='bold'))"
      ]
     },
     "metadata": {},
     "output_type": "display_data"
    },
    {
     "data": {
      "application/vnd.jupyter.widget-view+json": {
       "model_id": "2ce7674f85cb4d7eac3abe86d1974232",
       "version_major": 2,
       "version_minor": 0
      },
      "text/plain": [
       "RadioButtons(options=('trans', 'cis'), orientation='horizontal', value='trans')"
      ]
     },
     "metadata": {},
     "output_type": "display_data"
    },
    {
     "data": {
      "application/vnd.jupyter.widget-view+json": {
       "model_id": "06d6ccb5e1d64fdeb33290ed94a8c16b",
       "version_major": 2,
       "version_minor": 0
      },
      "text/plain": [
       "Label(value='Substituenten am ersten Ring', style=LabelStyle(font_size='15px', font_weight='bold'))"
      ]
     },
     "metadata": {},
     "output_type": "display_data"
    },
    {
     "data": {
      "application/vnd.jupyter.widget-view+json": {
       "model_id": "5344a882187547a0ba1d2c5138c1f29e",
       "version_major": 2,
       "version_minor": 0
      },
      "text/plain": [
       "HBox(children=(Dropdown(description='C1 (ortho):', layout=Layout(width='max-content'), options=('H', 'F', 'Cl'…"
      ]
     },
     "metadata": {},
     "output_type": "display_data"
    },
    {
     "data": {
      "application/vnd.jupyter.widget-view+json": {
       "model_id": "10f88136facc43eca4f9701508a1155f",
       "version_major": 2,
       "version_minor": 0
      },
      "text/plain": [
       "Label(value='Substituenten am zweiten Ring', style=LabelStyle(font_size='15px', font_weight='bold'))"
      ]
     },
     "metadata": {},
     "output_type": "display_data"
    },
    {
     "data": {
      "application/vnd.jupyter.widget-view+json": {
       "model_id": "5c39a9bd78fe4b3a83c52579698aeb37",
       "version_major": 2,
       "version_minor": 0
      },
      "text/plain": [
       "HBox(children=(Dropdown(description='C1 (ortho):', layout=Layout(width='max-content'), options=('H', 'F', 'Cl'…"
      ]
     },
     "metadata": {},
     "output_type": "display_data"
    },
    {
     "data": {
      "application/vnd.jupyter.widget-view+json": {
       "model_id": "b64162cdbe43426886cbfa25eef4e76d",
       "version_major": 2,
       "version_minor": 0
      },
      "text/plain": [
       "Label(value='2D-Struktur', style=LabelStyle(font_size='15px', font_weight='bold'))"
      ]
     },
     "metadata": {},
     "output_type": "display_data"
    },
    {
     "data": {
      "application/vnd.jupyter.widget-view+json": {
       "model_id": "408716536ee54c8aa1c3f52c22345fe6",
       "version_major": 2,
       "version_minor": 0
      },
      "text/plain": [
       "Output()"
      ]
     },
     "metadata": {},
     "output_type": "display_data"
    },
    {
     "data": {
      "application/vnd.jupyter.widget-view+json": {
       "model_id": "d224262a965948ec815fba45198f1dd8",
       "version_major": 2,
       "version_minor": 0
      },
      "text/plain": [
       "Label(value='Ausgabe', style=LabelStyle(font_size='15px', font_weight='bold'))"
      ]
     },
     "metadata": {},
     "output_type": "display_data"
    },
    {
     "data": {
      "application/vnd.jupyter.widget-view+json": {
       "model_id": "65476df0829c47d08acdad8aea9e42ca",
       "version_major": 2,
       "version_minor": 0
      },
      "text/plain": [
       "Accordion(children=(NGLWidget(),), titles=('3D-Struktur',))"
      ]
     },
     "metadata": {},
     "output_type": "display_data"
    },
    {
     "data": {
      "application/vnd.jupyter.widget-view+json": {
       "model_id": "4cfc9cf04abb45358abafdaad5aab2fc",
       "version_major": 2,
       "version_minor": 0
      },
      "text/plain": [
       "Accordion(children=(VBox(children=(Output(), Button(description='Kopieren 📋', style=ButtonStyle()))),), titles…"
      ]
     },
     "metadata": {},
     "output_type": "display_data"
    }
   ],
   "source": [
    "achprak.azobenzene.TemplateTool().show()"
   ]
  },
  {
   "cell_type": "markdown",
   "id": "ed895418-3b2f-413c-a487-8756b67b8bd9",
   "metadata": {},
   "source": [
    "## Werkzeug II: Berechnung der Energie und ausgewählter geometrischer Eigenschaften\n",
    "\n",
    "Erklärungen ..."
   ]
  },
  {
   "cell_type": "code",
   "execution_count": 3,
   "id": "615ee7eb-12cd-4658-9e99-b968aeb142ad",
   "metadata": {},
   "outputs": [
    {
     "data": {
      "application/vnd.jupyter.widget-view+json": {
       "model_id": "9b923ec3de8e4d2a8cc866732267a516",
       "version_major": 2,
       "version_minor": 0
      },
      "text/plain": [
       "Label(value='Koordinaten (XYZ-Format)', style=LabelStyle(font_size='15px', font_weight='bold'))"
      ]
     },
     "metadata": {},
     "output_type": "display_data"
    },
    {
     "data": {
      "application/vnd.jupyter.widget-view+json": {
       "model_id": "0ef040593276455fa35ba8b0b3bbefc2",
       "version_major": 2,
       "version_minor": 0
      },
      "text/plain": [
       "Button(description='Einfügen  📥', style=ButtonStyle())"
      ]
     },
     "metadata": {},
     "output_type": "display_data"
    },
    {
     "data": {
      "application/vnd.jupyter.widget-view+json": {
       "model_id": "e0de26cf7cb24c36a3012931d95684a3",
       "version_major": 2,
       "version_minor": 0
      },
      "text/plain": [
       "Output()"
      ]
     },
     "metadata": {},
     "output_type": "display_data"
    },
    {
     "data": {
      "application/vnd.jupyter.widget-view+json": {
       "model_id": "5a4e7c331ff849789550b7e1e72709e6",
       "version_major": 2,
       "version_minor": 0
      },
      "text/plain": [
       "Label(value='Ausgabe', style=LabelStyle(font_size='15px', font_weight='bold'))"
      ]
     },
     "metadata": {},
     "output_type": "display_data"
    },
    {
     "data": {
      "application/vnd.jupyter.widget-view+json": {
       "model_id": "ee35ffdaf5f344a49113ff5700598213",
       "version_major": 2,
       "version_minor": 0
      },
      "text/plain": [
       "Accordion(children=(HBox(children=(Text(value='', disabled=True), Label(value=' kJ/mol'))),), titles=('Energie…"
      ]
     },
     "metadata": {},
     "output_type": "display_data"
    },
    {
     "data": {
      "application/vnd.jupyter.widget-view+json": {
       "model_id": "06c56e8827ee4bc78a61a1c94f7beba8",
       "version_major": 2,
       "version_minor": 0
      },
      "text/plain": [
       "Accordion(children=(HBox(children=(Text(value='', disabled=True), Label(value=' °'))),), titles=('Diederwinkel…"
      ]
     },
     "metadata": {},
     "output_type": "display_data"
    },
    {
     "data": {
      "application/vnd.jupyter.widget-view+json": {
       "model_id": "88df561d9b3843928b86f1b60a094fc8",
       "version_major": 2,
       "version_minor": 0
      },
      "text/plain": [
       "Accordion(children=(HBox(children=(Text(value='', disabled=True), Label(value=' pm'))),), titles=('Ringabstand…"
      ]
     },
     "metadata": {},
     "output_type": "display_data"
    }
   ],
   "source": [
    "achprak.azobenzene.PropertiesTool().show()"
   ]
  },
  {
   "cell_type": "markdown",
   "id": "fbd18b80-2c9c-4c36-80be-97e99180547a",
   "metadata": {},
   "source": [
    "## Werkzeug III: Strukturoptimierung\n",
    "\n",
    "Erklärungen ..."
   ]
  },
  {
   "cell_type": "code",
   "execution_count": 4,
   "id": "fc5b65d6-e245-459f-aa38-a7af3fd50b5b",
   "metadata": {},
   "outputs": [
    {
     "data": {
      "application/vnd.jupyter.widget-view+json": {
       "model_id": "82dc902e28b44afcb2bf5129d1391265",
       "version_major": 2,
       "version_minor": 0
      },
      "text/plain": [
       "Label(value='Koordinaten (XYZ-Format)', style=LabelStyle(font_size='15px', font_weight='bold'))"
      ]
     },
     "metadata": {},
     "output_type": "display_data"
    },
    {
     "data": {
      "application/vnd.jupyter.widget-view+json": {
       "model_id": "7f80dc1405b64952a7987512f03556e7",
       "version_major": 2,
       "version_minor": 0
      },
      "text/plain": [
       "Button(description='Einfügen  📥', style=ButtonStyle())"
      ]
     },
     "metadata": {},
     "output_type": "display_data"
    },
    {
     "data": {
      "application/vnd.jupyter.widget-view+json": {
       "model_id": "dc13b0e923fa4ac5ae84f06386963994",
       "version_major": 2,
       "version_minor": 0
      },
      "text/plain": [
       "Output()"
      ]
     },
     "metadata": {},
     "output_type": "display_data"
    },
    {
     "data": {
      "application/vnd.jupyter.widget-view+json": {
       "model_id": "0ce49fb4f6454eb2ab6f7378b081516f",
       "version_major": 2,
       "version_minor": 0
      },
      "text/plain": [
       "Label(value='Ausgabe', style=LabelStyle(font_size='15px', font_weight='bold'))"
      ]
     },
     "metadata": {},
     "output_type": "display_data"
    },
    {
     "data": {
      "application/vnd.jupyter.widget-view+json": {
       "model_id": "d06479f0575a4ef09dea88b985b04e8f",
       "version_major": 2,
       "version_minor": 0
      },
      "text/plain": [
       "Accordion(children=(Output(layout=Layout(height='250px', overflow='auto')),), titles=('Programmausgabe',))"
      ]
     },
     "metadata": {},
     "output_type": "display_data"
    },
    {
     "data": {
      "application/vnd.jupyter.widget-view+json": {
       "model_id": "3cb962afc4114561bddec09d3db9dc89",
       "version_major": 2,
       "version_minor": 0
      },
      "text/plain": [
       "Accordion(children=(NGLWidget(),), titles=('3D-Struktur',))"
      ]
     },
     "metadata": {},
     "output_type": "display_data"
    },
    {
     "data": {
      "application/vnd.jupyter.widget-view+json": {
       "model_id": "6b51d1edad3c4458ada2747086f81b5c",
       "version_major": 2,
       "version_minor": 0
      },
      "text/plain": [
       "Accordion(children=(VBox(children=(Output(), Button(description='Kopieren 📋', style=ButtonStyle()))),), titles…"
      ]
     },
     "metadata": {},
     "output_type": "display_data"
    }
   ],
   "source": [
    "achprak.azobenzene.OptMinTool().show()"
   ]
  },
  {
   "cell_type": "markdown",
   "id": "a9886684-143f-46fc-ad96-aa724228eeb1",
   "metadata": {},
   "source": [
    "## Werkzeug IV: Übergangsstruktursuche\n",
    "\n",
    "Erklärungen ..."
   ]
  },
  {
   "cell_type": "code",
   "execution_count": 5,
   "id": "d430f0a1-2248-4c6f-ae36-7d1886dbf4e2",
   "metadata": {},
   "outputs": [
    {
     "data": {
      "application/vnd.jupyter.widget-view+json": {
       "model_id": "309247a0194042aaa2ecb3a670ad5386",
       "version_major": 2,
       "version_minor": 0
      },
      "text/plain": [
       "Label(value='Koordinaten (XYZ-Format)', style=LabelStyle(font_size='15px', font_weight='bold'))"
      ]
     },
     "metadata": {},
     "output_type": "display_data"
    },
    {
     "data": {
      "application/vnd.jupyter.widget-view+json": {
       "model_id": "0acfedd8993c42cd918e99b44f448f43",
       "version_major": 2,
       "version_minor": 0
      },
      "text/plain": [
       "Button(description='Einfügen  📥', style=ButtonStyle())"
      ]
     },
     "metadata": {},
     "output_type": "display_data"
    },
    {
     "data": {
      "application/vnd.jupyter.widget-view+json": {
       "model_id": "3cd6cae3bd864b43bb9138eef8482b90",
       "version_major": 2,
       "version_minor": 0
      },
      "text/plain": [
       "Output()"
      ]
     },
     "metadata": {},
     "output_type": "display_data"
    },
    {
     "data": {
      "application/vnd.jupyter.widget-view+json": {
       "model_id": "43f6c727c66f433c95f46ed4d5a10688",
       "version_major": 2,
       "version_minor": 0
      },
      "text/plain": [
       "Label(value='Ausgabe', style=LabelStyle(font_size='15px', font_weight='bold'))"
      ]
     },
     "metadata": {},
     "output_type": "display_data"
    },
    {
     "data": {
      "application/vnd.jupyter.widget-view+json": {
       "model_id": "6357cd1761f34b6b98f704d95df2df8c",
       "version_major": 2,
       "version_minor": 0
      },
      "text/plain": [
       "Accordion(children=(Output(layout=Layout(height='250px', overflow='auto')),), titles=('Programmausgabe',))"
      ]
     },
     "metadata": {},
     "output_type": "display_data"
    },
    {
     "data": {
      "application/vnd.jupyter.widget-view+json": {
       "model_id": "a1cf1702af29430eaa300d85acd3f41b",
       "version_major": 2,
       "version_minor": 0
      },
      "text/plain": [
       "Accordion(children=(NGLWidget(),), titles=('3D-Struktur',))"
      ]
     },
     "metadata": {},
     "output_type": "display_data"
    },
    {
     "data": {
      "application/vnd.jupyter.widget-view+json": {
       "model_id": "ea05eb9579d54f7f8a4d26ecb2459443",
       "version_major": 2,
       "version_minor": 0
      },
      "text/plain": [
       "Accordion(children=(VBox(children=(Output(), Button(description='Kopieren 📋', style=ButtonStyle()))),), titles…"
      ]
     },
     "metadata": {},
     "output_type": "display_data"
    }
   ],
   "source": [
    "achprak.azobenzene.OptTSTool().show()"
   ]
  },
  {
   "cell_type": "markdown",
   "id": "5c109c06-7100-46e0-b0c1-dfddd09aaaa5",
   "metadata": {},
   "source": [
    "## Teil V: UV/Vis Spektrum\n",
    "\n",
    "Erklärungen ..."
   ]
  },
  {
   "cell_type": "code",
   "execution_count": 6,
   "id": "5313d4ca-b031-4e74-a8c1-39c821849eef",
   "metadata": {},
   "outputs": [
    {
     "data": {
      "application/vnd.jupyter.widget-view+json": {
       "model_id": "ee42fb967123413ca531db201bb74f91",
       "version_major": 2,
       "version_minor": 0
      },
      "text/plain": [
       "Label(value='Koordinaten (XYZ-Format)', style=LabelStyle(font_size='15px', font_weight='bold'))"
      ]
     },
     "metadata": {},
     "output_type": "display_data"
    },
    {
     "data": {
      "application/vnd.jupyter.widget-view+json": {
       "model_id": "82f22599923548e48fd4b6614cb3edc4",
       "version_major": 2,
       "version_minor": 0
      },
      "text/plain": [
       "Button(description='Einfügen  📥', style=ButtonStyle())"
      ]
     },
     "metadata": {},
     "output_type": "display_data"
    },
    {
     "data": {
      "application/vnd.jupyter.widget-view+json": {
       "model_id": "f136f958ae364111ae6a36952c8776fb",
       "version_major": 2,
       "version_minor": 0
      },
      "text/plain": [
       "Output()"
      ]
     },
     "metadata": {},
     "output_type": "display_data"
    },
    {
     "data": {
      "application/vnd.jupyter.widget-view+json": {
       "model_id": "cf6f9a931e8843cf8edf1b5a66814afd",
       "version_major": 2,
       "version_minor": 0
      },
      "text/plain": [
       "Label(value='Ausgabe', style=LabelStyle(font_size='15px', font_weight='bold'))"
      ]
     },
     "metadata": {},
     "output_type": "display_data"
    },
    {
     "data": {
      "application/vnd.jupyter.widget-view+json": {
       "model_id": "8eeca18ba16243859c793bd1d34e6aee",
       "version_major": 2,
       "version_minor": 0
      },
      "text/plain": [
       "Accordion(children=(Output(layout=Layout(height='250px', overflow='auto')),), titles=('Programmausgabe',))"
      ]
     },
     "metadata": {},
     "output_type": "display_data"
    },
    {
     "data": {
      "application/vnd.jupyter.widget-view+json": {
       "model_id": "2445f634ea6b4e28aa4cf68c90eefe3e",
       "version_major": 2,
       "version_minor": 0
      },
      "text/plain": [
       "Accordion(children=(Output(),), titles=('Absorptionsspektrum (UV/Vis)',))"
      ]
     },
     "metadata": {},
     "output_type": "display_data"
    }
   ],
   "source": [
    "achprak.uvvis.UVVisTool().show()"
   ]
  },
  {
   "cell_type": "code",
   "execution_count": null,
   "id": "d464123a-b2d3-45aa-ab08-7f44296bf1bc",
   "metadata": {},
   "outputs": [],
   "source": []
  }
 ],
 "metadata": {
  "kernelspec": {
   "display_name": "Python 3 (ipykernel)",
   "language": "python",
   "name": "python3"
  },
  "language_info": {
   "codemirror_mode": {
    "name": "ipython",
    "version": 3
   },
   "file_extension": ".py",
   "mimetype": "text/x-python",
   "name": "python",
   "nbconvert_exporter": "python",
   "pygments_lexer": "ipython3",
   "version": "3.13.5"
  }
 },
 "nbformat": 4,
 "nbformat_minor": 5
}
