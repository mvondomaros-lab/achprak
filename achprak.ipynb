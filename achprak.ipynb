{
 "cells": [
  {
   "cell_type": "markdown",
   "id": "1af49bdf-e5af-43e7-9c5c-bbccd449c2f0",
   "metadata": {},
   "source": [
    "# Photoschalter\n",
    "\n",
    "## Einführung in Theoretisch-Chemische Denkweisen und Arbeitsprozesse\n",
    "\n",
    "### Motivation\n",
    "\n",
    "### Lernziele\n",
    "\n",
    "### Theorie"
   ]
  },
  {
   "cell_type": "code",
   "execution_count": 1,
   "id": "65ff5577-6f08-42e5-99c1-b6dc933b925b",
   "metadata": {},
   "outputs": [
    {
     "data": {
      "application/vnd.jupyter.widget-view+json": {
       "model_id": "e73ededab6ce4fa7a0bd093d530b9ca6",
       "version_major": 2,
       "version_minor": 0
      },
      "text/plain": []
     },
     "metadata": {},
     "output_type": "display_data"
    }
   ],
   "source": [
    "import achprak"
   ]
  },
  {
   "cell_type": "markdown",
   "id": "fc15bbbb-6c93-4211-84c9-d0a506841b61",
   "metadata": {},
   "source": [
    "## Werkzeug I: Strukturerstellung\n",
    "\n",
    "Erklärungen ..."
   ]
  },
  {
   "cell_type": "code",
   "execution_count": 2,
   "id": "188619e8-e45b-40d4-a571-a380dbb1c0f0",
   "metadata": {},
   "outputs": [
    {
     "data": {
      "application/vnd.jupyter.widget-view+json": {
       "model_id": "3f572675375b4dd3bbda9f3a33f749e8",
       "version_major": 2,
       "version_minor": 0
      },
      "text/plain": [
       "Label(value='Konformation', style=LabelStyle(font_size='15px', font_weight='bold'))"
      ]
     },
     "metadata": {},
     "output_type": "display_data"
    },
    {
     "data": {
      "application/vnd.jupyter.widget-view+json": {
       "model_id": "853bcf1c9ca849669f0eefaad792fd25",
       "version_major": 2,
       "version_minor": 0
      },
      "text/plain": [
       "RadioButtons(options=('trans', 'cis'), orientation='horizontal', value='trans')"
      ]
     },
     "metadata": {},
     "output_type": "display_data"
    },
    {
     "data": {
      "application/vnd.jupyter.widget-view+json": {
       "model_id": "170bb470771e4c6389c2c94c9ac33985",
       "version_major": 2,
       "version_minor": 0
      },
      "text/plain": [
       "Label(value='Substituenten am ersten Ring', style=LabelStyle(font_size='15px', font_weight='bold'))"
      ]
     },
     "metadata": {},
     "output_type": "display_data"
    },
    {
     "data": {
      "application/vnd.jupyter.widget-view+json": {
       "model_id": "153eb4ecc123472ca0c4307e3670ca1b",
       "version_major": 2,
       "version_minor": 0
      },
      "text/plain": [
       "HBox(children=(Dropdown(description='C2 (ortho):', layout=Layout(width='max-content'), options=('H', 'Me', 'NM…"
      ]
     },
     "metadata": {},
     "output_type": "display_data"
    },
    {
     "data": {
      "application/vnd.jupyter.widget-view+json": {
       "model_id": "78286c379e2b49b19693c4194d4b818a",
       "version_major": 2,
       "version_minor": 0
      },
      "text/plain": [
       "Label(value='Substituenten am zweiten Ring', style=LabelStyle(font_size='15px', font_weight='bold'))"
      ]
     },
     "metadata": {},
     "output_type": "display_data"
    },
    {
     "data": {
      "application/vnd.jupyter.widget-view+json": {
       "model_id": "700a01d45d7449d180100af88fa61333",
       "version_major": 2,
       "version_minor": 0
      },
      "text/plain": [
       "HBox(children=(Dropdown(description='C2 (ortho):', layout=Layout(width='max-content'), options=('H', 'Me', 'NM…"
      ]
     },
     "metadata": {},
     "output_type": "display_data"
    },
    {
     "data": {
      "application/vnd.jupyter.widget-view+json": {
       "model_id": "481d92b267904135914a3e4bd59a93ba",
       "version_major": 2,
       "version_minor": 0
      },
      "text/plain": [
       "Label(value='2D-Struktur', style=LabelStyle(font_size='15px', font_weight='bold'))"
      ]
     },
     "metadata": {},
     "output_type": "display_data"
    },
    {
     "data": {
      "application/vnd.jupyter.widget-view+json": {
       "model_id": "fd8ba07c20b34544a68ad71334068a06",
       "version_major": 2,
       "version_minor": 0
      },
      "text/plain": [
       "Output()"
      ]
     },
     "metadata": {},
     "output_type": "display_data"
    },
    {
     "data": {
      "application/vnd.jupyter.widget-view+json": {
       "model_id": "285663588607433f8f6d5cc65390c656",
       "version_major": 2,
       "version_minor": 0
      },
      "text/plain": [
       "Label(value='Koordinaten (XYZ-Format)', style=LabelStyle(font_size='15px', font_weight='bold'))"
      ]
     },
     "metadata": {},
     "output_type": "display_data"
    },
    {
     "data": {
      "application/vnd.jupyter.widget-view+json": {
       "model_id": "971fa2a3054e4bd5826fbdc66aff3398",
       "version_major": 2,
       "version_minor": 0
      },
      "text/plain": [
       "Output()"
      ]
     },
     "metadata": {},
     "output_type": "display_data"
    },
    {
     "data": {
      "application/vnd.jupyter.widget-view+json": {
       "model_id": "a0a1b84414894bc4891ce3be9d30d119",
       "version_major": 2,
       "version_minor": 0
      },
      "text/plain": [
       "Button(description='Kopieren 📋', style=ButtonStyle())"
      ]
     },
     "metadata": {},
     "output_type": "display_data"
    }
   ],
   "source": [
    "template_tool = achprak.azobenzene.TemplateTool()\n",
    "template_tool.show()"
   ]
  },
  {
   "cell_type": "markdown",
   "id": "ed895418-3b2f-413c-a487-8756b67b8bd9",
   "metadata": {},
   "source": [
    "## Werkzeug II: 3D-Visualisierung und Berechnung ausgewählter molekularer Eigenschaften\n",
    "\n",
    "Erklärungen ..."
   ]
  },
  {
   "cell_type": "code",
   "execution_count": 3,
   "id": "615ee7eb-12cd-4658-9e99-b968aeb142ad",
   "metadata": {},
   "outputs": [
    {
     "data": {
      "application/vnd.jupyter.widget-view+json": {
       "model_id": "e33572ca297d434ca28914d8af7310f4",
       "version_major": 2,
       "version_minor": 0
      },
      "text/plain": [
       "Label(value='Koordinaten (XYZ-Format)', style=LabelStyle(font_size='15px', font_weight='bold'))"
      ]
     },
     "metadata": {},
     "output_type": "display_data"
    },
    {
     "data": {
      "application/vnd.jupyter.widget-view+json": {
       "model_id": "f1873f58f85b4dd6bccf40aad664d708",
       "version_major": 2,
       "version_minor": 0
      },
      "text/plain": [
       "Button(description='Einfügen  📥', style=ButtonStyle())"
      ]
     },
     "metadata": {},
     "output_type": "display_data"
    },
    {
     "data": {
      "application/vnd.jupyter.widget-view+json": {
       "model_id": "60cbbd592044460f9dfcb0f82a8fb535",
       "version_major": 2,
       "version_minor": 0
      },
      "text/plain": [
       "Output()"
      ]
     },
     "metadata": {},
     "output_type": "display_data"
    },
    {
     "data": {
      "application/vnd.jupyter.widget-view+json": {
       "model_id": "e22ba4ce124446e9bb7b84c5b842e115",
       "version_major": 2,
       "version_minor": 0
      },
      "text/plain": [
       "Accordion(children=(NGLWidget(),), titles=('3D-Struktur',))"
      ]
     },
     "metadata": {},
     "output_type": "display_data"
    },
    {
     "data": {
      "application/vnd.jupyter.widget-view+json": {
       "model_id": "8ae172799e8546e79ef901ffa60d35ba",
       "version_major": 2,
       "version_minor": 0
      },
      "text/plain": [
       "Label(value='Berechnung', style=LabelStyle(font_size='15px', font_weight='bold'))"
      ]
     },
     "metadata": {},
     "output_type": "display_data"
    },
    {
     "data": {
      "application/vnd.jupyter.widget-view+json": {
       "model_id": "923ad491f5cf45d1979c06f0224adba0",
       "version_major": 2,
       "version_minor": 0
      },
      "text/plain": [
       "Button(description='Starten  ▶️', disabled=True, style=ButtonStyle())"
      ]
     },
     "metadata": {},
     "output_type": "display_data"
    },
    {
     "data": {
      "application/vnd.jupyter.widget-view+json": {
       "model_id": "0fd096d738c743b88c4d12bda0daeb17",
       "version_major": 2,
       "version_minor": 0
      },
      "text/plain": [
       "Accordion(children=(HBox(children=(Text(value='', disabled=True), Label(value=' kJ/mol'))),), titles=('Energie…"
      ]
     },
     "metadata": {},
     "output_type": "display_data"
    },
    {
     "data": {
      "application/vnd.jupyter.widget-view+json": {
       "model_id": "3aa39ce93fe449519bca3256b17445ba",
       "version_major": 2,
       "version_minor": 0
      },
      "text/plain": [
       "Accordion(children=(HBox(children=(Text(value='', disabled=True), Label(value=' °'))),), titles=('Diederwinkel…"
      ]
     },
     "metadata": {},
     "output_type": "display_data"
    },
    {
     "data": {
      "application/vnd.jupyter.widget-view+json": {
       "model_id": "0fe81502f88f43f496d6729e8e3a8c33",
       "version_major": 2,
       "version_minor": 0
      },
      "text/plain": [
       "Accordion(children=(HBox(children=(Text(value='', disabled=True), Label(value=' pm'))),), titles=('Ringabstand…"
      ]
     },
     "metadata": {},
     "output_type": "display_data"
    }
   ],
   "source": [
    "properties_tool = achprak.azobenzene.PropertiesTool()\n",
    "properties_tool.show()"
   ]
  },
  {
   "cell_type": "markdown",
   "id": "fbd18b80-2c9c-4c36-80be-97e99180547a",
   "metadata": {},
   "source": [
    "## Werkzeug III: Strukturoptimierung\n",
    "\n",
    "Erklärungen ..."
   ]
  },
  {
   "cell_type": "code",
   "execution_count": 4,
   "id": "fc5b65d6-e245-459f-aa38-a7af3fd50b5b",
   "metadata": {},
   "outputs": [
    {
     "data": {
      "application/vnd.jupyter.widget-view+json": {
       "model_id": "6db47e72b9314546b76656a8519a8e25",
       "version_major": 2,
       "version_minor": 0
      },
      "text/plain": [
       "Label(value='Zielstruktur', style=LabelStyle(font_size='15px', font_weight='bold'))"
      ]
     },
     "metadata": {},
     "output_type": "display_data"
    },
    {
     "data": {
      "application/vnd.jupyter.widget-view+json": {
       "model_id": "495f1d9261e34c97be7501b539785919",
       "version_major": 2,
       "version_minor": 0
      },
      "text/plain": [
       "RadioButtons(options=('Minimum', 'Übergangszustand'), orientation='horizontal', value='Minimum')"
      ]
     },
     "metadata": {},
     "output_type": "display_data"
    },
    {
     "data": {
      "application/vnd.jupyter.widget-view+json": {
       "model_id": "f89aabf1bab84dd68b230a171f2f2d3e",
       "version_major": 2,
       "version_minor": 0
      },
      "text/plain": [
       "Label(value='Koordinaten (XYZ-Format)', style=LabelStyle(font_size='15px', font_weight='bold'))"
      ]
     },
     "metadata": {},
     "output_type": "display_data"
    },
    {
     "data": {
      "application/vnd.jupyter.widget-view+json": {
       "model_id": "c13a6756d9034bb3b78080480c0576f1",
       "version_major": 2,
       "version_minor": 0
      },
      "text/plain": [
       "Button(description='Einfügen  📥', style=ButtonStyle())"
      ]
     },
     "metadata": {},
     "output_type": "display_data"
    },
    {
     "data": {
      "application/vnd.jupyter.widget-view+json": {
       "model_id": "00b204443aec4c56b30ee34010d5aa90",
       "version_major": 2,
       "version_minor": 0
      },
      "text/plain": [
       "Output()"
      ]
     },
     "metadata": {},
     "output_type": "display_data"
    },
    {
     "data": {
      "application/vnd.jupyter.widget-view+json": {
       "model_id": "b5f9a3155f7f41929784f5db1c0e49e9",
       "version_major": 2,
       "version_minor": 0
      },
      "text/plain": [
       "Label(value='Berechnung', style=LabelStyle(font_size='15px', font_weight='bold'))"
      ]
     },
     "metadata": {},
     "output_type": "display_data"
    },
    {
     "data": {
      "application/vnd.jupyter.widget-view+json": {
       "model_id": "ea6bfc6fb220483d988160b7e77e696c",
       "version_major": 2,
       "version_minor": 0
      },
      "text/plain": [
       "Button(description='Starten  ▶️', disabled=True, style=ButtonStyle())"
      ]
     },
     "metadata": {},
     "output_type": "display_data"
    },
    {
     "data": {
      "application/vnd.jupyter.widget-view+json": {
       "model_id": "648d2488ea9248f1ad69babd30e11a99",
       "version_major": 2,
       "version_minor": 0
      },
      "text/plain": [
       "Accordion(children=(Output(layout=Layout(height='250px', overflow='auto')),), titles=('Programmausgabe',))"
      ]
     },
     "metadata": {},
     "output_type": "display_data"
    },
    {
     "data": {
      "application/vnd.jupyter.widget-view+json": {
       "model_id": "3f60083671e54563bf4367ef0a2ab508",
       "version_major": 2,
       "version_minor": 0
      },
      "text/plain": [
       "Accordion(children=(NGLWidget(),), titles=('Trajektorie',))"
      ]
     },
     "metadata": {},
     "output_type": "display_data"
    },
    {
     "data": {
      "application/vnd.jupyter.widget-view+json": {
       "model_id": "2de485547ea5495a9a0eb25e3cd2213d",
       "version_major": 2,
       "version_minor": 0
      },
      "text/plain": [
       "Accordion(children=(VBox(children=(Output(), Button(description='Kopieren 📋', style=ButtonStyle()))),), titles…"
      ]
     },
     "metadata": {},
     "output_type": "display_data"
    }
   ],
   "source": [
    "opt_tool = achprak.optimization.OptTool()\n",
    "opt_tool.show()"
   ]
  },
  {
   "cell_type": "markdown",
   "id": "5c109c06-7100-46e0-b0c1-dfddd09aaaa5",
   "metadata": {},
   "source": [
    "## Werkzeug IV: UV/Vis Spektrum\n",
    "\n",
    "Erklärungen ..."
   ]
  },
  {
   "cell_type": "code",
   "execution_count": 5,
   "id": "5313d4ca-b031-4e74-a8c1-39c821849eef",
   "metadata": {},
   "outputs": [
    {
     "data": {
      "application/vnd.jupyter.widget-view+json": {
       "model_id": "bb5cd662c03d42d28221a05093288109",
       "version_major": 2,
       "version_minor": 0
      },
      "text/plain": [
       "Label(value='Koordinaten (XYZ-Format)', style=LabelStyle(font_size='15px', font_weight='bold'))"
      ]
     },
     "metadata": {},
     "output_type": "display_data"
    },
    {
     "data": {
      "application/vnd.jupyter.widget-view+json": {
       "model_id": "95c695a15d4c46d0a39c7e1282fb3da9",
       "version_major": 2,
       "version_minor": 0
      },
      "text/plain": [
       "Button(description='Einfügen  📥', style=ButtonStyle())"
      ]
     },
     "metadata": {},
     "output_type": "display_data"
    },
    {
     "data": {
      "application/vnd.jupyter.widget-view+json": {
       "model_id": "c3ffae61502d43ebb7d48c5059fa8901",
       "version_major": 2,
       "version_minor": 0
      },
      "text/plain": [
       "Output()"
      ]
     },
     "metadata": {},
     "output_type": "display_data"
    },
    {
     "data": {
      "application/vnd.jupyter.widget-view+json": {
       "model_id": "cc940937d6f540549b7caf688bc4de71",
       "version_major": 2,
       "version_minor": 0
      },
      "text/plain": [
       "Label(value='Berechnung', style=LabelStyle(font_size='15px', font_weight='bold'))"
      ]
     },
     "metadata": {},
     "output_type": "display_data"
    },
    {
     "data": {
      "application/vnd.jupyter.widget-view+json": {
       "model_id": "14ed92b2f1bd4032bcea0c6a29bd8532",
       "version_major": 2,
       "version_minor": 0
      },
      "text/plain": [
       "Button(description='Starten  ▶️', disabled=True, style=ButtonStyle())"
      ]
     },
     "metadata": {},
     "output_type": "display_data"
    },
    {
     "data": {
      "application/vnd.jupyter.widget-view+json": {
       "model_id": "a8ac9d0a8bd248d5ab07658ca49f4242",
       "version_major": 2,
       "version_minor": 0
      },
      "text/plain": [
       "Accordion(children=(Output(layout=Layout(height='250px', overflow='auto')),), titles=('Programmausgabe',))"
      ]
     },
     "metadata": {},
     "output_type": "display_data"
    },
    {
     "data": {
      "application/vnd.jupyter.widget-view+json": {
       "model_id": "6009fddcafa7456681e245a05e0708d5",
       "version_major": 2,
       "version_minor": 0
      },
      "text/plain": [
       "Accordion(children=(Output(),), titles=('Absorptionsspektrum (UV/Vis)',))"
      ]
     },
     "metadata": {},
     "output_type": "display_data"
    }
   ],
   "source": [
    "uvvis_tool = achprak.uvvis.UVVisTool()\n",
    "uvvis_tool.show()"
   ]
  },
  {
   "cell_type": "code",
   "execution_count": null,
   "id": "80df5296-5dc9-4e6f-9425-98b4c27e3c46",
   "metadata": {},
   "outputs": [],
   "source": []
  }
 ],
 "metadata": {
  "kernelspec": {
   "display_name": "Python 3 (ipykernel)",
   "language": "python",
   "name": "python3"
  },
  "language_info": {
   "codemirror_mode": {
    "name": "ipython",
    "version": 3
   },
   "file_extension": ".py",
   "mimetype": "text/x-python",
   "name": "python",
   "nbconvert_exporter": "python",
   "pygments_lexer": "ipython3",
   "version": "3.13.5"
  }
 },
 "nbformat": 4,
 "nbformat_minor": 5
}
