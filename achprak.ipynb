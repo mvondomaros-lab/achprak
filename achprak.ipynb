{
 "cells": [
  {
   "cell_type": "markdown",
   "id": "1af49bdf-e5af-43e7-9c5c-bbccd449c2f0",
   "metadata": {},
   "source": [
    "# Photoschalter\n",
    "\n",
    "## Einführung in Theoretisch-Chemische Denkweisen und Arbeitsprozesse\n",
    "\n",
    "### Motivation\n",
    "\n",
    "### Lernziele\n",
    "\n",
    "### Theorie"
   ]
  },
  {
   "cell_type": "code",
   "execution_count": 1,
   "id": "65ff5577-6f08-42e5-99c1-b6dc933b925b",
   "metadata": {},
   "outputs": [
    {
     "data": {
      "application/vnd.jupyter.widget-view+json": {
       "model_id": "75ccfaa1e54840d1b87d76c7018716d6",
       "version_major": 2,
       "version_minor": 0
      },
      "text/plain": []
     },
     "metadata": {},
     "output_type": "display_data"
    },
    {
     "name": "stderr",
     "output_type": "stream",
     "text": [
      "/Users/mvondomaros/Projects/AChPrak/.pixi/envs/default/lib/python3.13/site-packages/nglview/__init__.py:12: UserWarning: pkg_resources is deprecated as an API. See https://setuptools.pypa.io/en/latest/pkg_resources.html. The pkg_resources package is slated for removal as early as 2025-11-30. Refrain from using this package or pin to Setuptools<81.\n",
      "  import pkg_resources\n"
     ]
    },
    {
     "ename": "ModuleNotFoundError",
     "evalue": "No module named 'tblite'",
     "output_type": "error",
     "traceback": [
      "\u001b[31m---------------------------------------------------------------------------\u001b[39m",
      "\u001b[31mModuleNotFoundError\u001b[39m                       Traceback (most recent call last)",
      "\u001b[36mCell\u001b[39m\u001b[36m \u001b[39m\u001b[32mIn[1]\u001b[39m\u001b[32m, line 1\u001b[39m\n\u001b[32m----> \u001b[39m\u001b[32m1\u001b[39m \u001b[38;5;28;01mimport\u001b[39;00m\u001b[38;5;250m \u001b[39m\u001b[34;01machprak\u001b[39;00m\n",
      "\u001b[36mFile \u001b[39m\u001b[32m~/Projects/AChPrak/achprak/__init__.py:1\u001b[39m\n\u001b[32m----> \u001b[39m\u001b[32m1\u001b[39m \u001b[38;5;28;01mfrom\u001b[39;00m\u001b[38;5;250m \u001b[39m\u001b[34;01m.\u001b[39;00m\u001b[38;5;250m \u001b[39m\u001b[38;5;28;01mimport\u001b[39;00m azobenzene\n\u001b[32m      2\u001b[39m \u001b[38;5;28;01mfrom\u001b[39;00m\u001b[38;5;250m \u001b[39m\u001b[34;01m.\u001b[39;00m\u001b[38;5;250m \u001b[39m\u001b[38;5;28;01mimport\u001b[39;00m optimization\n\u001b[32m      3\u001b[39m \u001b[38;5;28;01mfrom\u001b[39;00m\u001b[38;5;250m \u001b[39m\u001b[34;01m.\u001b[39;00m\u001b[38;5;250m \u001b[39m\u001b[38;5;28;01mimport\u001b[39;00m uvvis\n",
      "\u001b[36mFile \u001b[39m\u001b[32m~/Projects/AChPrak/achprak/azobenzene.py:12\u001b[39m\n\u001b[32m     10\u001b[39m \u001b[38;5;28;01mimport\u001b[39;00m\u001b[38;5;250m \u001b[39m\u001b[34;01mrdkit\u001b[39;00m\u001b[34;01m.\u001b[39;00m\u001b[34;01mChem\u001b[39;00m\u001b[34;01m.\u001b[39;00m\u001b[34;01mrdMolTransforms\u001b[39;00m\n\u001b[32m     11\u001b[39m \u001b[38;5;28;01mimport\u001b[39;00m\u001b[38;5;250m \u001b[39m\u001b[34;01mscipy\u001b[39;00m\u001b[34;01m.\u001b[39;00m\u001b[34;01mconstants\u001b[39;00m\n\u001b[32m---> \u001b[39m\u001b[32m12\u001b[39m \u001b[38;5;28;01mimport\u001b[39;00m\u001b[38;5;250m \u001b[39m\u001b[34;01mtblite\u001b[39;00m\u001b[34;01m.\u001b[39;00m\u001b[34;01mase\u001b[39;00m\n\u001b[32m     14\u001b[39m \u001b[38;5;28;01mfrom\u001b[39;00m\u001b[38;5;250m \u001b[39m\u001b[34;01m.\u001b[39;00m\u001b[38;5;250m \u001b[39m\u001b[38;5;28;01mimport\u001b[39;00m common, optimization\n\u001b[32m     17\u001b[39m \u001b[38;5;28;01mclass\u001b[39;00m\u001b[38;5;250m \u001b[39m\u001b[34;01mTemplate\u001b[39;00m:\n",
      "\u001b[31mModuleNotFoundError\u001b[39m: No module named 'tblite'"
     ]
    }
   ],
   "source": [
    "import achprak"
   ]
  },
  {
   "cell_type": "markdown",
   "id": "fc15bbbb-6c93-4211-84c9-d0a506841b61",
   "metadata": {},
   "source": [
    "## Werkzeug I: Strukturerstellung\n",
    "\n",
    "Erklärungen ..."
   ]
  },
  {
   "cell_type": "code",
   "execution_count": null,
   "id": "188619e8-e45b-40d4-a571-a380dbb1c0f0",
   "metadata": {},
   "outputs": [],
   "source": [
    "achprak.azobenzene.TemplateTool().show()"
   ]
  },
  {
   "cell_type": "markdown",
   "id": "ed895418-3b2f-413c-a487-8756b67b8bd9",
   "metadata": {},
   "source": [
    "## Werkzeug II: Berechnung der Energie und ausgewählter geometrischer Eigenschaften\n",
    "\n",
    "Erklärungen ..."
   ]
  },
  {
   "cell_type": "code",
   "execution_count": null,
   "id": "615ee7eb-12cd-4658-9e99-b968aeb142ad",
   "metadata": {},
   "outputs": [],
   "source": [
    "achprak.azobenzene.PropertiesTool().show()"
   ]
  },
  {
   "cell_type": "markdown",
   "id": "fbd18b80-2c9c-4c36-80be-97e99180547a",
   "metadata": {},
   "source": [
    "## Werkzeug III: Strukturoptimierung\n",
    "\n",
    "Erklärungen ..."
   ]
  },
  {
   "cell_type": "code",
   "execution_count": null,
   "id": "fc5b65d6-e245-459f-aa38-a7af3fd50b5b",
   "metadata": {},
   "outputs": [],
   "source": [
    "achprak.azobenzene.OptMinTool().show()"
   ]
  },
  {
   "cell_type": "markdown",
   "id": "a9886684-143f-46fc-ad96-aa724228eeb1",
   "metadata": {},
   "source": [
    "## Werkzeug IV: Übergangsstruktursuche\n",
    "\n",
    "Erklärungen ..."
   ]
  },
  {
   "cell_type": "code",
   "execution_count": null,
   "id": "d430f0a1-2248-4c6f-ae36-7d1886dbf4e2",
   "metadata": {},
   "outputs": [],
   "source": [
    "achprak.azobenzene.OptTSTool().show()"
   ]
  },
  {
   "cell_type": "markdown",
   "id": "5c109c06-7100-46e0-b0c1-dfddd09aaaa5",
   "metadata": {},
   "source": [
    "## Teil V: UV/Vis Spektrum\n",
    "\n",
    "Erklärungen ..."
   ]
  },
  {
   "cell_type": "code",
   "execution_count": null,
   "id": "5313d4ca-b031-4e74-a8c1-39c821849eef",
   "metadata": {},
   "outputs": [],
   "source": [
    "achprak.uvvis.UVVisTool().show()"
   ]
  }
 ],
 "metadata": {
  "kernelspec": {
   "display_name": "Python 3 (ipykernel)",
   "language": "python",
   "name": "python3"
  },
  "language_info": {
   "codemirror_mode": {
    "name": "ipython",
    "version": 3
   },
   "file_extension": ".py",
   "mimetype": "text/x-python",
   "name": "python",
   "nbconvert_exporter": "python",
   "pygments_lexer": "ipython3",
   "version": "3.13.5"
  }
 },
 "nbformat": 4,
 "nbformat_minor": 5
}
