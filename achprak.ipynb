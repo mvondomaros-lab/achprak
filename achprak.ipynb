{
 "cells": [
  {
   "cell_type": "markdown",
   "id": "2a34ccbf-cad0-4d6b-952d-f0f703d7c27c",
   "metadata": {
    "deletable": false,
    "editable": false,
    "slideshow": {
     "slide_type": ""
    },
    "tags": []
   },
   "source": [
    "# Wie Moleküle auf Licht reagieren – ein theoretischer Blick auf Photoschalter 💡"
   ]
  },
  {
   "cell_type": "markdown",
   "id": "26675d84-ac83-4ada-b046-82b80ea81c5c",
   "metadata": {
    "deletable": false,
    "editable": false,
    "slideshow": {
     "slide_type": ""
    },
    "tags": []
   },
   "source": [
    "## Erste Schritte"
   ]
  },
  {
   "cell_type": "markdown",
   "id": "cc67ec0f-32e3-4063-afc7-37bf464ab196",
   "metadata": {
    "deletable": false,
    "editable": false,
    "slideshow": {
     "slide_type": ""
    },
    "tags": []
   },
   "source": [
    ":::{seealso} Grundlagen\n",
    "\n",
    "Eine Beschreibung der **Grundlagen** dieses Versuchs finden Sie [online](https://mvondomaros-lab.github.io/achprak/).\n",
    "\n",
    ":::\n",
    "\n",
    "\n",
    ":::{important} Notebook-Bedienung\n",
    "\n",
    "Dieser Versuch wird in einem **Jupyter Notebook** durchgeführt.  \n",
    "Notebooks bestehen aus einzelnen **Zellen**, die entweder **Text** (wie dieser Hinweis) oder **ausführbaren Code** enthalten können.  \n",
    "\n",
    "Im Verlauf des Versuchs werden Sie daher kurze Python-Codeausschnitte sehen – beispielsweise:\n",
    "\n",
    "```python\n",
    "import achprak\n",
    "```\n",
    "\n",
    "👉 Sie müssen diesen Code **nicht** verstehen oder verändern – alle Aufgaben lassen sich interaktiv mit der Maus bearbeiten.  \n",
    "\n",
    "⚡ Um das Notebook vorzubereiten, klicken Sie bitte zunächst auf das **⏩-Symbol** am oberen Bildschirmrand. Dadurch werden alle Codezellen einmalig ausgeführt.\n",
    "\n",
    ":::\n",
    "\n",
    "\n",
    "::::{warning} Versehentliches Betreten des Bearbeitungsmodus\n",
    "\n",
    "Durch ein versehentliches Doppelklicken auf eine Textzelle gelangen Sie in den **Bearbeitungsmodus** dieser Zelle; die Formatierung des Fließtextes wirkt dann eventuell „zerschossen“.  \n",
    "\n",
    "Verlassen Sie den Bearbeitungsmodus mit <kbd>Strg</kbd> + <kbd>Enter</kbd>.\n",
    "\n",
    "::::\n",
    "\n",
    "::::{warning} Bei technischen Problemen\n",
    "\n",
    "Manchmal verhalten sich Computerprogramme nicht so, wie man es erwartet.  \n",
    "Eine bewährte Lösung ist ein **Neustart**.  \n",
    "\n",
    "👉 Sie können dieses Notebook selbst neu starten, indem Sie auf das **⏩-Symbol** am oberen Bildschirmrand klicken.  \n",
    "\n",
    "Bei anhaltenden Problemen informieren Sie bitte kurz die **Assistent*innen**.\n",
    "\n",
    "::::"
   ]
  },
  {
   "cell_type": "markdown",
   "id": "8b5632babf552f9b",
   "metadata": {
    "editable": false,
    "slideshow": {
     "slide_type": ""
    },
    "tags": []
   },
   "source": [
    "## Versuchsdurchführung"
   ]
  },
  {
   "cell_type": "markdown",
   "id": "a8e143f62e485d45",
   "metadata": {
    "editable": false,
    "slideshow": {
     "slide_type": ""
    },
    "tags": []
   },
   "source": [
    "In den folgenden Abschnitten werden Sie Schritt für Schritt in die Verwendung der benötigten Werkzeuge eingeführt:\n",
    "\n",
    "1. **Strukturerstellung**  \n",
    "2. **Dreidimensionale Visualisierung** und Berechnung ausgewählter molekularer Eigenschaften  \n",
    "3. **Strukturoptimierung**  \n",
    "4. **UV/Vis-Spektrum**\n",
    "\n",
    "Zu Beginn jedes Abschnitts finden Sie eine kurze Beschreibung des jeweiligen Werkzeugs sowie weiterführende Aufgaben.\n",
    "\n",
    "\n",
    ":::{seealso} Protokoll\n",
    "\n",
    "Die Ergebnisse Ihrer Untersuchungen protokollieren Sie bitte in dem über **ILIAS** bereitgestellten Word-Dokument (bearbeitbar z. B. mit *LibreOffice Writer*).  \n",
    "\n",
    "Dieses besprechen Sie im Anschluss an den Versuch mit Ihren **Assistent*innen**.  \n",
    "\n",
    "👉 Das Protokoll können Sie sich für Ihre Unterlagen selbst per Mail zusenden oder auf einen **Cloudspeicher** hochladen.\n",
    "\n",
    ":::"
   ]
  },
  {
   "cell_type": "code",
   "execution_count": 1,
   "id": "6d8335d2933c5358",
   "metadata": {
    "editable": false,
    "execution": {
     "iopub.execute_input": "2025-08-27T10:46:07.078862Z",
     "iopub.status.busy": "2025-08-27T10:46:07.078519Z",
     "iopub.status.idle": "2025-08-27T10:46:10.042690Z",
     "shell.execute_reply": "2025-08-27T10:46:10.042184Z",
     "shell.execute_reply.started": "2025-08-27T10:46:07.078825Z"
    },
    "slideshow": {
     "slide_type": ""
    },
    "tags": []
   },
   "outputs": [
    {
     "data": {
      "application/vnd.jupyter.widget-view+json": {
       "model_id": "dec47f804c01492dba6deab1b208435f",
       "version_major": 2,
       "version_minor": 0
      },
      "text/plain": []
     },
     "metadata": {},
     "output_type": "display_data"
    }
   ],
   "source": [
    "import achprak"
   ]
  },
  {
   "cell_type": "markdown",
   "id": "1f401bdc-b3f9-4771-add2-5dfbfcc26fb3",
   "metadata": {
    "deletable": false,
    "editable": false,
    "slideshow": {
     "slide_type": ""
    },
    "tags": []
   },
   "source": [
    "## Werkzeug 1: Strukturerstellung"
   ]
  },
  {
   "cell_type": "markdown",
   "id": "fc15bbbb-6c93-4211-84c9-d0a506841b61",
   "metadata": {
    "deletable": false,
    "editable": false,
    "slideshow": {
     "slide_type": ""
    },
    "tags": []
   },
   "source": [
    "Mit diesem Werkzeug können Sie Moleküle mit einem Azobenzolgrundgerüst virtuell erzeugen.\n",
    "Die untenstehende Eingabemaske erlaubt es Ihnen, sowohl die Konformation der Azogruppe (cis/trans) als auch die Substituenten an den Kohlenstoffatomen 2–6 bzw. 2′–6′ festzulegen.\n",
    "Die zugehörige Strukturformel wird Ihnen anschließend direkt angezeigt.\n",
    "Neben Strukturformeln erzeugt das Werkzeug für Sie auch atomare Koordinaten im XYZ-Format. Diese können Sie mit einem Klick auf den `Kopieren 📋` Button in die Zwischenablage Ihres Computers kopieren und auf ähnliche Art- und Weise an anderer Stelle wieder einfügen.\n",
    "\n",
    "::::{tip} Aufgabe 1.1\n",
    "\n",
    "Erzeugen Sie eine Strukturformel der folgenden Moleküle mit den weiter unten gezeigten Werkzeug:\n",
    "\n",
    "1. trans-4-Fluoroazobenzol\n",
    "2. cis-4,4′-Difluoroazobenzol\n",
    "3. trans-2-Fluoro-4-methoxy-4′-trifluormethylsulfonylazobenzol\n",
    "\n",
    "Speichern Sie jeweils ein Bild der Strukturformel in Ihrem Protokoll.\n",
    "\n",
    "::::\n",
    "\n",
    "::::{note} Speichern von Bildern\n",
    "\n",
    "Die mit diesem Notebook erzeugten Grafiken können Sie per *Drag & Drop* direkt in Ihr Word-Dokument einfügen.  \n",
    "Bewegen Sie hierzu die Maus über das gewünschte Bild, halten Sie die linke Maustaste gedrückt und ziehen Sie das Bild an die gewünschte Stelle in Ihrem Dokument.\n",
    "\n",
    "::::\n",
    "\n",
    "::::{tip} Aufgabe 1.2\n",
    "\n",
    "Aus wie vielen Atomen bestehen trans-4,4′-Difluoroazobenzol und cis-4,4′-Difluoroazobenzol?  \n",
    "Warum ist die Anzahl in beiden Fällen gleich?\n",
    "\n",
    "::::\n",
    "\n",
    "::::{tip} Aufgabe 1.3\n",
    "\n",
    "Gehen Sie von trans-Azobenzol aus und substituieren Sie die Wasserstoffatome an den Kohlenstoffatomen 2, 2′, 6 und 6′ (also an allen Kohlenstoffatomen in direkter Nachbarschaft zu den primären Kohlenstoffatomen 1 und 1′) durch eine Methoxygruppe.\n",
    "Wie heißt dieses Molekül? Wechseln Sie anschließend die Konformation von trans nach cis.\n",
    "\n",
    "Beschreiben Sie, was passiert, und erklären Sie, warum die zweidimensionale Darstellung in diesem Fall ungeeignet ist.\n",
    "Wie könnten die Atome des Moleküls dieses Problem in der Realität umgehen?\n",
    "::::\n",
    "\n"
   ]
  },
  {
   "cell_type": "code",
   "execution_count": 2,
   "id": "188619e8-e45b-40d4-a571-a380dbb1c0f0",
   "metadata": {
    "deletable": false,
    "editable": false,
    "execution": {
     "iopub.execute_input": "2025-08-27T10:46:10.043701Z",
     "iopub.status.busy": "2025-08-27T10:46:10.043393Z",
     "iopub.status.idle": "2025-08-27T10:46:10.100543Z",
     "shell.execute_reply": "2025-08-27T10:46:10.098898Z",
     "shell.execute_reply.started": "2025-08-27T10:46:10.043681Z"
    },
    "jupyter": {
     "source_hidden": true
    },
    "slideshow": {
     "slide_type": ""
    },
    "tags": []
   },
   "outputs": [
    {
     "data": {
      "application/vnd.jupyter.widget-view+json": {
       "model_id": "0db836202b0e495db0f88fc342957045",
       "version_major": 2,
       "version_minor": 0
      },
      "text/plain": [
       "Label(value='Konformation', style=LabelStyle(font_size='15px', font_weight='bold'))"
      ]
     },
     "metadata": {},
     "output_type": "display_data"
    },
    {
     "data": {
      "application/vnd.jupyter.widget-view+json": {
       "model_id": "b5104571bd844629a73db96fa15c86c7",
       "version_major": 2,
       "version_minor": 0
      },
      "text/plain": [
       "RadioButtons(options=('trans', 'cis'), orientation='horizontal', value='trans')"
      ]
     },
     "metadata": {},
     "output_type": "display_data"
    },
    {
     "data": {
      "application/vnd.jupyter.widget-view+json": {
       "model_id": "fdecd17ae812406d9b0c48e9a455cf25",
       "version_major": 2,
       "version_minor": 0
      },
      "text/plain": [
       "Label(value='Substituenten am ersten Ring', style=LabelStyle(font_size='15px', font_weight='bold'))"
      ]
     },
     "metadata": {},
     "output_type": "display_data"
    },
    {
     "data": {
      "application/vnd.jupyter.widget-view+json": {
       "model_id": "2e2ffc0211e24f6faca3b626820f77b0",
       "version_major": 2,
       "version_minor": 0
      },
      "text/plain": [
       "HBox(children=(Dropdown(description='C2:', layout=Layout(width='max-content'), options=('H', 'Me', 'NMe2', 'CF…"
      ]
     },
     "metadata": {},
     "output_type": "display_data"
    },
    {
     "data": {
      "application/vnd.jupyter.widget-view+json": {
       "model_id": "5f0763b1c5d341a69a110ed81225be7f",
       "version_major": 2,
       "version_minor": 0
      },
      "text/plain": [
       "Label(value='Substituenten am zweiten Ring', style=LabelStyle(font_size='15px', font_weight='bold'))"
      ]
     },
     "metadata": {},
     "output_type": "display_data"
    },
    {
     "data": {
      "application/vnd.jupyter.widget-view+json": {
       "model_id": "594c60f1dca541ffa88a36fe38e89031",
       "version_major": 2,
       "version_minor": 0
      },
      "text/plain": [
       "HBox(children=(Dropdown(description=\"C2':\", layout=Layout(width='max-content'), options=('H', 'Me', 'NMe2', 'C…"
      ]
     },
     "metadata": {},
     "output_type": "display_data"
    },
    {
     "data": {
      "application/vnd.jupyter.widget-view+json": {
       "model_id": "0632a475ca6d4839a0e84c340f6de341",
       "version_major": 2,
       "version_minor": 0
      },
      "text/plain": [
       "Label(value='2D-Struktur', style=LabelStyle(font_size='15px', font_weight='bold'))"
      ]
     },
     "metadata": {},
     "output_type": "display_data"
    },
    {
     "data": {
      "application/vnd.jupyter.widget-view+json": {
       "model_id": "7364cfd38ac343b78bdd890b0c56ad8c",
       "version_major": 2,
       "version_minor": 0
      },
      "text/plain": [
       "Output()"
      ]
     },
     "metadata": {},
     "output_type": "display_data"
    },
    {
     "data": {
      "application/vnd.jupyter.widget-view+json": {
       "model_id": "444d9dbd54534152ae95e657b5dffc92",
       "version_major": 2,
       "version_minor": 0
      },
      "text/plain": [
       "Label(value='Koordinaten (XYZ-Format)', style=LabelStyle(font_size='15px', font_weight='bold'))"
      ]
     },
     "metadata": {},
     "output_type": "display_data"
    },
    {
     "data": {
      "application/vnd.jupyter.widget-view+json": {
       "model_id": "9c0d46eeca1c45a3870c96dca4a66d4f",
       "version_major": 2,
       "version_minor": 0
      },
      "text/plain": [
       "Output()"
      ]
     },
     "metadata": {},
     "output_type": "display_data"
    },
    {
     "data": {
      "application/vnd.jupyter.widget-view+json": {
       "model_id": "11c37523a6c54fc89295c1f26dc8df43",
       "version_major": 2,
       "version_minor": 0
      },
      "text/plain": [
       "Button(description='Kopieren 📋', style=ButtonStyle())"
      ]
     },
     "metadata": {},
     "output_type": "display_data"
    }
   ],
   "source": [
    "template_tool = achprak.azobenzene.TemplateTool()\n",
    "template_tool.show()"
   ]
  },
  {
   "cell_type": "markdown",
   "id": "9963eab1-341f-46eb-89ce-5229036b5e85",
   "metadata": {
    "deletable": false,
    "editable": false,
    "slideshow": {
     "slide_type": ""
    },
    "tags": []
   },
   "source": [
    "## Werkzeug 2: Dreidimensionale Visualisierung und Berechnung ausgewählter molekularer Eigenschaften"
   ]
  },
  {
   "cell_type": "markdown",
   "id": "ed895418-3b2f-413c-a487-8756b67b8bd9",
   "metadata": {
    "deletable": false,
    "editable": false,
    "slideshow": {
     "slide_type": ""
    },
    "tags": []
   },
   "source": [
    "Zweidimensionale Darstellungen molekularer Strukturen können wichtige Details verbergen.\n",
    "Sind die hier untersuchten Moleküle beispielsweise tatsächlich alle planar?\n",
    "Was passiert, wenn große Substituenten in unmittelbarer Nähe zu den primären Kohlenstoffatomen des Rings eingeführt werden (siehe Aufgabe 1.3)?\n",
    "Kommt es dabei zu räumlichen Überlappungen?\n",
    "\n",
    "Mithilfe dreidimensionaler Visualisierung lassen sich solche Fragen leicht und intuitiv beantworten.\n",
    "Das folgende Werkzeug ermöglicht es Ihnen, Molekülstrukturen dreidimensional darzustellen.\n",
    "\n",
    "Erzeugen Sie zunächst die Koordinaten im XYZ-Format mit Werkzeug 1, kopieren Sie diese in die Zwischenablage und fügen Sie sie anschließend mit einem Klick auf den Button `Einfügen 📥` an dieser Stelle wieder ein.\n",
    "Durch Aufklappen des Inhalts unter der Überschrift `3D-Struktur` lässt sich das Molekül als Stäbchenmodell anzeigen.\n",
    "\n",
    "::::{danger} Wichtig\n",
    "\n",
    "Werkzeug 1 erzeugt nur näherungsweise molekulare Strukturen.\n",
    "Diese entsprechen nicht zwingend der energetisch günstigsten (optimierten) Struktur in der jeweiligen Konformation.  \n",
    "Bitte behalten Sie dies bei der Beantwortung der folgenden Fragen im Hinterkopf – alle Beispiele werden später noch einmal mit optimierten Strukturen betrachtet.\n",
    "\n",
    "::::\n",
    "\n",
    "::::{tip} Aufgabe 2.1\n",
    "\n",
    "Visualisieren Sie cis- und trans-Azobenzol.\n",
    "Handelt es sich um planare Moleküle?\n",
    "\n",
    "Tipp: Die 3D-Struktur kann durch Gedrückthalten der linken Maustaste und gleichzeitiges Bewegen der Maus gedreht werden (ähnlich wie in einem Computerspiel).\n",
    "Mit dem Mausrad können Sie hinein- und herauszoomen.\n",
    "\n",
    "::::\n",
    "\n",
    "::::{tip} Aufgabe 2.2\n",
    "\n",
    "Erstellen Sie noch einmal das Molekül aus Aufgabe 1.3 und visualisieren Sie dieses.\n",
    "Haben sich Ihre Vermutungen bestätigt?\n",
    "Wie ist es möglich, vier sperrige Substituenten ohne Überlapp der Atome in einer cis-Konformation zu realisieren?\n",
    "\n",
    "::::\n",
    "\n",
    "Werkzeug 2 ermöglicht neben der Visualisierung auch die Berechnung verschiedener molekularer Eigenschaften. Diese Eigenschaften erhalten Sie durch einen Klick auf den Button `Starten ▶️`.\n",
    "\n",
    "::::{tip} Aufgabe 2.3\n",
    "\n",
    "Berechnen Sie die Energien von cis- und trans-Azobenzol sowie die Energiedifferenz für die Reaktion von trans nach cis.\n",
    "Welche Konformation ist stabiler?\n",
    "\n",
    "::::\n",
    "\n",
    "Neben der Energie können mit dem zweiten Werkzeug auch ausgewählte geometrische Eigenschaften berechnet werden.\n",
    "Der Diederwinkel (C–N=N–C) ist ein Maß dafür, wie planar das Molekül ist.\n",
    "\n",
    ":::{figure} assets/dihedral.png\n",
    ":align: left\n",
    ":width: 600px\n",
    "\n",
    "Diederwinkel werden zwischen vier miteinander verbundenen Atomen (A–B–C–D) definiert.\n",
    "Dreht man das Molekül so, dass man entlang der Bindung B–C blickt (also zwischen den beiden zentralen Atomen), so misst der Diederwinkel den Winkel zwischen den Bindungen A–B und C–D.\n",
    ":::\n",
    "\n",
    "::::{tip} Aufgabe 2.4\n",
    "\n",
    "Visualisieren Sie trans-Azobenzol.\n",
    "Rotieren Sie das Molekül so, dass Sie entlang der N=N-Bindung schauen.\n",
    "Versuchen Sie den Diederwinkel abzuschätzen und vergleichen Sie Ihre Schätzung mit dem berechneten Wert.\n",
    "\n",
    "Welche Diederwinkel haben trans- und cis-Azobenzol?\n",
    "::::\n",
    "\n",
    "Der Ringabstand gibt den Abstand zwischen den Massenschwerpunkten der beiden Phenylringe in Picometern (pm) an.\n",
    "\n",
    "::::{tip} Aufgabe 2.5\n",
    "\n",
    "Welche Ringabstände liegen in trans- und cis-Azobenzol vor?\n",
    "\n",
    "::::"
   ]
  },
  {
   "cell_type": "code",
   "execution_count": 3,
   "id": "615ee7eb-12cd-4658-9e99-b968aeb142ad",
   "metadata": {
    "deletable": false,
    "editable": false,
    "execution": {
     "iopub.execute_input": "2025-08-27T10:46:10.102629Z",
     "iopub.status.busy": "2025-08-27T10:46:10.102082Z",
     "iopub.status.idle": "2025-08-27T10:46:10.129228Z",
     "shell.execute_reply": "2025-08-27T10:46:10.128948Z",
     "shell.execute_reply.started": "2025-08-27T10:46:10.102584Z"
    },
    "jupyter": {
     "source_hidden": true
    },
    "slideshow": {
     "slide_type": ""
    },
    "tags": []
   },
   "outputs": [
    {
     "data": {
      "application/vnd.jupyter.widget-view+json": {
       "model_id": "08b4baff9d994ae9987e3aa76900c2fe",
       "version_major": 2,
       "version_minor": 0
      },
      "text/plain": [
       "Label(value='Koordinaten (XYZ-Format)', style=LabelStyle(font_size='15px', font_weight='bold'))"
      ]
     },
     "metadata": {},
     "output_type": "display_data"
    },
    {
     "data": {
      "application/vnd.jupyter.widget-view+json": {
       "model_id": "9dce61df202c4820bb367249d83e061a",
       "version_major": 2,
       "version_minor": 0
      },
      "text/plain": [
       "Button(description='Einfügen  📥', style=ButtonStyle())"
      ]
     },
     "metadata": {},
     "output_type": "display_data"
    },
    {
     "data": {
      "application/vnd.jupyter.widget-view+json": {
       "model_id": "abe04122fce844f19a112d220bfb9126",
       "version_major": 2,
       "version_minor": 0
      },
      "text/plain": [
       "Output()"
      ]
     },
     "metadata": {},
     "output_type": "display_data"
    },
    {
     "data": {
      "application/vnd.jupyter.widget-view+json": {
       "model_id": "704ce8883c774168b55896ca724a0c4d",
       "version_major": 2,
       "version_minor": 0
      },
      "text/plain": [
       "Accordion(children=(NGLWidget(),), titles=('3D-Struktur',))"
      ]
     },
     "metadata": {},
     "output_type": "display_data"
    },
    {
     "data": {
      "application/vnd.jupyter.widget-view+json": {
       "model_id": "3a0edb3ad8ac4bb38b3603a8af5a2c0f",
       "version_major": 2,
       "version_minor": 0
      },
      "text/plain": [
       "Label(value='Berechnung', style=LabelStyle(font_size='15px', font_weight='bold'))"
      ]
     },
     "metadata": {},
     "output_type": "display_data"
    },
    {
     "data": {
      "application/vnd.jupyter.widget-view+json": {
       "model_id": "0b0d57e82b624b96929353bc5c9f860c",
       "version_major": 2,
       "version_minor": 0
      },
      "text/plain": [
       "Button(description='Starten  ▶️', disabled=True, style=ButtonStyle())"
      ]
     },
     "metadata": {},
     "output_type": "display_data"
    },
    {
     "data": {
      "application/vnd.jupyter.widget-view+json": {
       "model_id": "fb9c69c854224308994a29809039fb1c",
       "version_major": 2,
       "version_minor": 0
      },
      "text/plain": [
       "Accordion(children=(HBox(children=(Text(value='', disabled=True), Label(value=' kJ/mol'))),), titles=('Energie…"
      ]
     },
     "metadata": {},
     "output_type": "display_data"
    },
    {
     "data": {
      "application/vnd.jupyter.widget-view+json": {
       "model_id": "e103899c691842feb2270a368eeddb7a",
       "version_major": 2,
       "version_minor": 0
      },
      "text/plain": [
       "Accordion(children=(HBox(children=(Text(value='', disabled=True), Label(value=' °'))),), titles=('Diederwinkel…"
      ]
     },
     "metadata": {},
     "output_type": "display_data"
    },
    {
     "data": {
      "application/vnd.jupyter.widget-view+json": {
       "model_id": "3126d901f99948a5aba1da48e747bec7",
       "version_major": 2,
       "version_minor": 0
      },
      "text/plain": [
       "Accordion(children=(HBox(children=(Text(value='', disabled=True), Label(value=' pm'))),), titles=('Ringabstand…"
      ]
     },
     "metadata": {},
     "output_type": "display_data"
    }
   ],
   "source": [
    "properties_tool = achprak.azobenzene.PropertiesTool()\n",
    "properties_tool.show()"
   ]
  },
  {
   "cell_type": "markdown",
   "id": "299b476b-0607-4506-aa23-337b8d60ed54",
   "metadata": {
    "deletable": false,
    "editable": false,
    "slideshow": {
     "slide_type": ""
    },
    "tags": []
   },
   "source": [
    "## Werkzeug 3: Strukturoptimierung"
   ]
  },
  {
   "cell_type": "markdown",
   "id": "fbd18b80-2c9c-4c36-80be-97e99180547a",
   "metadata": {
    "deletable": false,
    "editable": false,
    "slideshow": {
     "slide_type": ""
    },
    "tags": []
   },
   "source": [
    "Werkzeug 3 ermöglicht die Berechnung von Minimumsstrukturen und Übergangszuständen.  \n",
    "Erzeugen Sie zunächst eine Startstruktur mit Werkzeug 1 und übertragen Sie diese anschließend über `Kopieren 📋` und `Einfügen 📥` in dieses Werkzeug.  \n",
    "Über den Schalter `Zielstruktur` können Sie auswählen, ob ein Minimum oder eine Übergangsstruktur gesucht werden soll.  \n",
    "Mit einem Klick auf `Starten ▶️` wird die Rechnung gestartet.  \n",
    "Strukturoptimierungen benötigen in der Regel einige Momente.\n",
    "\n",
    ":::{seealso} Programmausgabe\n",
    ":class: dropdown\n",
    "\n",
    "Durch Aufklappen des Inhalts unter der Überschrift `Programmausgabe` lässt sich der Fortschritt der Rechnung verfolgen.\n",
    "Hier wird unter anderem der Verlauf der Energie auf dem Weg zum Minimum oder Maximum angezeigt.\n",
    ":::\n",
    "\n",
    "Nach Abschluss der Rechnung klappen Sie bitte den Inhalt unter der Überschrift `Trajektorie` auf.\n",
    "Im Falle einer Minimumsstruktur sehen Sie hier einen Film der auf dem Weg zum Minimum durchlaufenen Strukturen.\n",
    "Bei einem Übergangszustand wird eine Animation derjenigen Bewegungen angezeigt, die zu einer Verringerung der Energie führen – also hin zu den nächstgelegenen Minimumsstrukturen.\n",
    "\n",
    "Unter der  Überschrift `Koordinaten (XYZ-Format)` erhalten Sie die Koordinaten der optimierten Strukturen. Diese können Sie `Kopieren 📋` und in Werkzeug 2 `Einfügen 📥`.\n",
    "\n",
    "::::{tip} Aufgabe 3.1\n",
    "\n",
    "In dieser Aufgabe wiederholen Sie die Überlegungen aus den Aufgaben 2.1 bis 2.3 – diesmal mit optimierten Strukturen.\n",
    "\n",
    "Optimieren Sie die Strukturen von cis- und trans-Azobenzol.  \n",
    "Handelt es sich nach der Optimierung um planare Moleküle?  \n",
    "Welche Konformation ist stabiler?  \n",
    "Wie groß ist die Energiedifferenz zwischen trans- und cis-Azobenzol?\n",
    "\n",
    "::::\n",
    "\n",
    "::::{tip} Aufgabe 3.2\n",
    "\n",
    "Bestimmen Sie die Übergangsstruktur der cis–trans-Isomerisierung.  \n",
    "Betrachten Sie anschließend die Trajektorie dieser Übergangsstruktur.  \n",
    "Beschreiben Sie die molekularen Bewegungen, die von der Übergangsstruktur wegführen (z. B. Verdrehung der Ringe, Änderung von Bindungslängen usw.).\n",
    "\n",
    "::::\n",
    "\n",
    "::::{tip} Aufgabe 3.3\n",
    "\n",
    "Bestimmen Sie die Aktivierungsenergie für den Übergang von trans nach cis.\n",
    "\n",
    "Durch thermische Bewegungen bei Raumtemperatur schwanken molekulare Energien typischerweise in der Größenordnung von  \n",
    "$RT \\approx 2.5\\ \\text{kJ mol}^{-1}$ (mit $R$ als universeller Gaskonstante).  \n",
    "Reichen diese thermischen Energiefluktuationen aus, um die trans→cis-Barriere zu überwinden – oder sind deutlich größere Energien erforderlich?\n",
    "\n",
    "::::\n",
    "\n",
    "\n",
    "::::{tip} Aufgabe 3.4\n",
    "\n",
    "Welche Diederwinkel haben die optimieren trans- und cis-Azobenzolstrukturen?\n",
    "Welche Ringabstände liegen in trans- und cis-Azobenzol vor?\n",
    "\n",
    "::::"
   ]
  },
  {
   "cell_type": "code",
   "execution_count": 4,
   "id": "fc5b65d6-e245-459f-aa38-a7af3fd50b5b",
   "metadata": {
    "deletable": false,
    "editable": false,
    "execution": {
     "iopub.execute_input": "2025-08-27T10:46:10.129658Z",
     "iopub.status.busy": "2025-08-27T10:46:10.129568Z",
     "iopub.status.idle": "2025-08-27T10:46:10.149473Z",
     "shell.execute_reply": "2025-08-27T10:46:10.149203Z",
     "shell.execute_reply.started": "2025-08-27T10:46:10.129649Z"
    },
    "jupyter": {
     "source_hidden": true
    },
    "slideshow": {
     "slide_type": ""
    },
    "tags": []
   },
   "outputs": [
    {
     "data": {
      "application/vnd.jupyter.widget-view+json": {
       "model_id": "d89cd1c3618b4f2cbc78b0eeef63a8f5",
       "version_major": 2,
       "version_minor": 0
      },
      "text/plain": [
       "Label(value='Zielstruktur', style=LabelStyle(font_size='15px', font_weight='bold'))"
      ]
     },
     "metadata": {},
     "output_type": "display_data"
    },
    {
     "data": {
      "application/vnd.jupyter.widget-view+json": {
       "model_id": "be3cc664e5b04bef9d9cfbdc99a54d58",
       "version_major": 2,
       "version_minor": 0
      },
      "text/plain": [
       "RadioButtons(options=('Minimum', 'Übergangszustand'), orientation='horizontal', value='Minimum')"
      ]
     },
     "metadata": {},
     "output_type": "display_data"
    },
    {
     "data": {
      "application/vnd.jupyter.widget-view+json": {
       "model_id": "1e8bac8ae0ad4389b5ce6d1d6f21c2d9",
       "version_major": 2,
       "version_minor": 0
      },
      "text/plain": [
       "Label(value='Koordinaten (XYZ-Format)', style=LabelStyle(font_size='15px', font_weight='bold'))"
      ]
     },
     "metadata": {},
     "output_type": "display_data"
    },
    {
     "data": {
      "application/vnd.jupyter.widget-view+json": {
       "model_id": "edd600085a6a4ae787fc72afa6f757ff",
       "version_major": 2,
       "version_minor": 0
      },
      "text/plain": [
       "Button(description='Einfügen  📥', style=ButtonStyle())"
      ]
     },
     "metadata": {},
     "output_type": "display_data"
    },
    {
     "data": {
      "application/vnd.jupyter.widget-view+json": {
       "model_id": "2cf18924f39d4570a56063820c6787d7",
       "version_major": 2,
       "version_minor": 0
      },
      "text/plain": [
       "Output()"
      ]
     },
     "metadata": {},
     "output_type": "display_data"
    },
    {
     "data": {
      "application/vnd.jupyter.widget-view+json": {
       "model_id": "e02e326d204d428ea930f0252273158a",
       "version_major": 2,
       "version_minor": 0
      },
      "text/plain": [
       "Label(value='Berechnung', style=LabelStyle(font_size='15px', font_weight='bold'))"
      ]
     },
     "metadata": {},
     "output_type": "display_data"
    },
    {
     "data": {
      "application/vnd.jupyter.widget-view+json": {
       "model_id": "22016d738e894c95b30d5f51a1944f5e",
       "version_major": 2,
       "version_minor": 0
      },
      "text/plain": [
       "Button(description='Starten  ▶️', disabled=True, style=ButtonStyle())"
      ]
     },
     "metadata": {},
     "output_type": "display_data"
    },
    {
     "data": {
      "application/vnd.jupyter.widget-view+json": {
       "model_id": "48143e45a5804cb08faefb1fece1c6e0",
       "version_major": 2,
       "version_minor": 0
      },
      "text/plain": [
       "Accordion(children=(Output(layout=Layout(height='250px', overflow='auto')),), titles=('Programmausgabe',))"
      ]
     },
     "metadata": {},
     "output_type": "display_data"
    },
    {
     "data": {
      "application/vnd.jupyter.widget-view+json": {
       "model_id": "2f81561f1537451c8625bc12b09fb194",
       "version_major": 2,
       "version_minor": 0
      },
      "text/plain": [
       "Accordion(children=(NGLWidget(),), titles=('Trajektorie',))"
      ]
     },
     "metadata": {},
     "output_type": "display_data"
    },
    {
     "data": {
      "application/vnd.jupyter.widget-view+json": {
       "model_id": "04f75da39f314f39a9d8e14cfc0955b2",
       "version_major": 2,
       "version_minor": 0
      },
      "text/plain": [
       "Accordion(children=(VBox(children=(Output(), Button(description='Kopieren 📋', style=ButtonStyle()))),), titles…"
      ]
     },
     "metadata": {},
     "output_type": "display_data"
    }
   ],
   "source": [
    "opt_tool = achprak.optimization.OptTool()\n",
    "opt_tool.show()"
   ]
  },
  {
   "cell_type": "markdown",
   "id": "99b60a56-0b3f-4cce-8824-900e0125b281",
   "metadata": {
    "deletable": false,
    "editable": false,
    "slideshow": {
     "slide_type": ""
    },
    "tags": []
   },
   "source": [
    "## Werkzeug 4: UV/Vis Spektrum"
   ]
  },
  {
   "cell_type": "markdown",
   "id": "5c109c06-7100-46e0-b0c1-dfddd09aaaa5",
   "metadata": {
    "deletable": false,
    "editable": false,
    "slideshow": {
     "slide_type": ""
    },
    "tags": []
   },
   "source": [
    "Werkzeug 4 ermöglicht die Berechnung von UV/Vis-Spektren.\n",
    "Die Bedienung erfolgt analog zu den anderen Werkzeugen:\n",
    "Fügen Sie geeignete Koordinaten im XYZ-Format über `Einfügen 📥` ein und starten Sie die Berechnung mit `Starten ▶️`.\n",
    "Im Anschluss erhalten Sie unter der Überschrift `Absorptionsspektrum (UV/Vis)` das simulierte Spektrum.\n",
    "\n",
    ":::{seealso} Programmausgabe\n",
    ":class: dropdown\n",
    "\n",
    "Durch Aufklappen des Inhalts unter der Überschrift `Programmausgabe` lässt sich der Fortschritt der Berechnung verfolgen.\n",
    "Bei der Berechnung von UV/Vis-Spektren ist die Ausgabe jedoch relativ ausführlich und ohne vertiefte Kenntnisse der theoretischen Chemie schwer zu interpretieren.\n",
    ":::\n",
    "\n",
    "::::{danger} Wichtig\n",
    "\n",
    "Zur Berechnung von UV/Vis-Spektren benötigen Sie optimierte Minimumsstrukturen.\n",
    "Diese erhalten Sie mithilfe von Werkzeug 3.\n",
    "Die Verwendung nicht-optimierter Strukturen führt zu quantitativ und qualitativ falschen Spektren.\n",
    "\n",
    "Der Ablauf der folgenden Aufgaben ist daher immer:\n",
    "\n",
    "1. Molekül mit Werkzeug 1 erstellen\n",
    "2. Struktur mit Werkzeug 3 optimieren\n",
    "3. UV/Vis-Spektrum mit Werkzeug 4 berechnen\n",
    "\n",
    "::::\n",
    "\n",
    "::::{tip} Aufgabe 4.1\n",
    "\n",
    "Berechnen Sie die UV/Vis-Spektren von cis- und trans-Azobenzol.\n",
    "Bei welcher Energie ist die Absorption jeweils maximal?\n",
    "In welchem Bereich des elektromagnetischen Spektrums liegen diese Energien?\n",
    "Decken sich die Vorhersagen mit der oben erwähnten Tatsache, dass Azobenzol farblos ist?\n",
    "\n",
    "::::\n",
    "\n",
    "::::{tip} Aufgabe 4.2\n",
    "\n",
    "Berechnen Sie die Absorptionsspektren der folgenden in 4-Position substituierten Azobenzolderivate (jeweils in der trans-Konformation):\n",
    "\n",
    "1. 4-Me  \n",
    "2. 4-F  \n",
    "3. 4-NMe₂  \n",
    "4. 4-OMe  \n",
    "5. 4-SO₂CF₃\n",
    "\n",
    "Bestimmen Sie in jedem Fall die Energie, bei der die Absorption maximal ist.\n",
    "Welcher Substituent führt zu der stärksten Verschiebung in Richtung des sichtbaren Bereichs des elektromagnetischen Spektrums (also zu kleineren Energien)?\n",
    "::::\n",
    "\n",
    "::::{seealso} Für besonders Interessierte: Der Einfluss von Substituenten auf das Spektrum\n",
    ":class: dropdown\n",
    "\n",
    "Aromatische Verbindungen wie Azobenzol besitzen ein System von delokalisierten π-Elektronen. Das bedeutet: Die Elektronen sind nicht nur an eine einzelne Bindung gebunden, sondern über das gesamte Grundgerüst verteilt.  \n",
    "Wenn Licht auf ein solches Molekül trifft, können diese Elektronen in einen höheren Energiezustand gehoben werden (siehe Abbildung, Fall A). Die dafür nötige Energie entspricht einer bestimmten Wellenlänge, die im UV/Vis-Spektrum sichtbar wird.  \n",
    "\n",
    "Bringt man nun Substituenten an den aromatischen Ring, verändert sich die Elektronenverteilung und damit auch der Energieunterschied, den die Elektronen beim Übergang überwinden müssen. Viele Substituenten können dabei entweder das Energieniveau des Grundzustands anheben (Fall B) oder das des angeregten Zustands absenken (Fall C). In beiden Fällen wird die Energiedifferenz kleiner – das Molekül absorbiert also Licht längerer Wellenlängen, man spricht von einer „Rotverschiebung“. (Umgekehrt kann eine Vergrößerung der Energiedifferenz zu einer „Blauverschiebung“ führen.)  \n",
    "\n",
    "Besonders stark ist dieser Effekt, wenn der Substituent selbst ein π-Elektronensystem enthält, das mit dem Ring wechselwirken kann. Dadurch vergrößert sich das gesamte delokalisierte System, sodass noch weniger Energie für die Anregung nötig ist.  \n",
    "Die Folge: Je nach Art der Substituenten kann sich die Absorption so weit verschieben, dass sie in den sichtbaren Bereich des elektromagnetischen Spektrums fällt. Das Molekül erscheint dann farbig.  \n",
    "\n",
    "Genauere Erklärungen zu den energetischen Zusammenhängen erhalten Sie im Rahmen der theoretisch-chemischen Ausbildung.\n",
    "\n",
    ":::{figure} assets/substituent-effects.png\n",
    ":align: left\n",
    ":width: 600px\n",
    "\n",
    "Einfluss von Substituenten auf die Lage ausgewählter Energieniveaus eines aromatischen Systems.  \n",
    "Fall A: Unsubstituiertes System.  \n",
    "Fall B: Anhebung des Energieniveaus des Grundzustands durch Substituenten.  \n",
    "Fall C: Absenkung des Energieniveaus des angeregten Zustands durch Substituenten.  \n",
    ":::\n",
    "\n",
    "::::\n",
    "\n",
    "\n",
    "\n",
    "\n",
    "::::{tip} Aufgabe 4.3\n",
    "\n",
    "Ihre Kreativität ist gefragt 🙂  \n",
    "Da Azobenzol selbst farblos ist, ist es ein häufiges Ziel, das Molekül durch geeignete Substitution so zu verändern, dass das Absorptionsspektrum möglichst weit in den sichtbaren Bereich verschoben wird.\n",
    "\n",
    "Erkunden Sie mindestens zehn mögliche Strukturen, indem Sie Art, Anzahl und Position der Substituenten variieren.\n",
    "Dokumentieren Sie Ihre Überlegungen und Ergebnisse.\n",
    "\n",
    "::::"
   ]
  },
  {
   "cell_type": "code",
   "execution_count": 5,
   "id": "5313d4ca-b031-4e74-a8c1-39c821849eef",
   "metadata": {
    "deletable": false,
    "editable": false,
    "execution": {
     "iopub.execute_input": "2025-08-27T10:46:10.150098Z",
     "iopub.status.busy": "2025-08-27T10:46:10.150006Z",
     "iopub.status.idle": "2025-08-27T10:46:10.160646Z",
     "shell.execute_reply": "2025-08-27T10:46:10.160406Z",
     "shell.execute_reply.started": "2025-08-27T10:46:10.150088Z"
    },
    "jupyter": {
     "source_hidden": true
    },
    "slideshow": {
     "slide_type": ""
    },
    "tags": []
   },
   "outputs": [
    {
     "data": {
      "application/vnd.jupyter.widget-view+json": {
       "model_id": "3942f7a3019a4c8f815abd43c68d14ef",
       "version_major": 2,
       "version_minor": 0
      },
      "text/plain": [
       "Label(value='Koordinaten (XYZ-Format)', style=LabelStyle(font_size='15px', font_weight='bold'))"
      ]
     },
     "metadata": {},
     "output_type": "display_data"
    },
    {
     "data": {
      "application/vnd.jupyter.widget-view+json": {
       "model_id": "1e4946a9b9894da7b08363ccf04f2c4a",
       "version_major": 2,
       "version_minor": 0
      },
      "text/plain": [
       "Button(description='Einfügen  📥', style=ButtonStyle())"
      ]
     },
     "metadata": {},
     "output_type": "display_data"
    },
    {
     "data": {
      "application/vnd.jupyter.widget-view+json": {
       "model_id": "0620dad2e1524e56bc8925fa30c1f2a7",
       "version_major": 2,
       "version_minor": 0
      },
      "text/plain": [
       "Output()"
      ]
     },
     "metadata": {},
     "output_type": "display_data"
    },
    {
     "data": {
      "application/vnd.jupyter.widget-view+json": {
       "model_id": "c4ded4b43be34f9d81b8b3c4487adaef",
       "version_major": 2,
       "version_minor": 0
      },
      "text/plain": [
       "Label(value='Berechnung', style=LabelStyle(font_size='15px', font_weight='bold'))"
      ]
     },
     "metadata": {},
     "output_type": "display_data"
    },
    {
     "data": {
      "application/vnd.jupyter.widget-view+json": {
       "model_id": "08b8355a50a142ed8aea8098623d4df4",
       "version_major": 2,
       "version_minor": 0
      },
      "text/plain": [
       "Button(description='Starten  ▶️', disabled=True, style=ButtonStyle())"
      ]
     },
     "metadata": {},
     "output_type": "display_data"
    },
    {
     "data": {
      "application/vnd.jupyter.widget-view+json": {
       "model_id": "18ffc69ec9c34c9a90b0600eb5a243ec",
       "version_major": 2,
       "version_minor": 0
      },
      "text/plain": [
       "Accordion(children=(Output(layout=Layout(height='250px', overflow='auto')),), titles=('Programmausgabe',))"
      ]
     },
     "metadata": {},
     "output_type": "display_data"
    },
    {
     "data": {
      "application/vnd.jupyter.widget-view+json": {
       "model_id": "07c4e2119f214d9ca004830f78448069",
       "version_major": 2,
       "version_minor": 0
      },
      "text/plain": [
       "Accordion(children=(Output(),), titles=('Absorptionsspektrum (UV/Vis)',))"
      ]
     },
     "metadata": {},
     "output_type": "display_data"
    }
   ],
   "source": [
    "uvvis_tool = achprak.uvvis.UVVisTool()\n",
    "uvvis_tool.show()"
   ]
  },
  {
   "cell_type": "markdown",
   "id": "e6690b3f-f3f9-483c-8ffc-c935349635d4",
   "metadata": {
    "deletable": false,
    "editable": false,
    "slideshow": {
     "slide_type": ""
    },
    "tags": []
   },
   "source": [
    "## Zusatzmaterial"
   ]
  },
  {
   "cell_type": "markdown",
   "id": "24249ee1-45aa-4dc2-adb1-8b2b263733e5",
   "metadata": {
    "deletable": false,
    "editable": false,
    "slideshow": {
     "slide_type": ""
    },
    "tags": []
   },
   "source": [
    "Das folgende Werkzeug können Sie benutzen um Energie und Wellenlänge im UV/Vis-Bereich ineinander umzuwandeln."
   ]
  },
  {
   "cell_type": "code",
   "execution_count": 6,
   "id": "37ec423f-2e5a-4195-a5a4-b58d26474c37",
   "metadata": {
    "deletable": false,
    "editable": false,
    "execution": {
     "iopub.execute_input": "2025-08-27T10:46:10.162332Z",
     "iopub.status.busy": "2025-08-27T10:46:10.162201Z",
     "iopub.status.idle": "2025-08-27T10:46:10.166852Z",
     "shell.execute_reply": "2025-08-27T10:46:10.166616Z",
     "shell.execute_reply.started": "2025-08-27T10:46:10.162321Z"
    },
    "jupyter": {
     "source_hidden": true
    },
    "slideshow": {
     "slide_type": ""
    },
    "tags": []
   },
   "outputs": [
    {
     "data": {
      "application/vnd.jupyter.widget-view+json": {
       "model_id": "6f686fc00a1b4cdcbe7cd03a062597e1",
       "version_major": 2,
       "version_minor": 0
      },
      "text/plain": [
       "FloatSlider(value=3.5, description='Energie / eV: ', max=5.5, min=1.5, step=0.01, style=SliderStyle(descriptio…"
      ]
     },
     "metadata": {},
     "output_type": "display_data"
    },
    {
     "data": {
      "application/vnd.jupyter.widget-view+json": {
       "model_id": "7709a762850145158e3b7004627cc05f",
       "version_major": 2,
       "version_minor": 0
      },
      "text/plain": [
       "FloatSlider(value=354.0, description='Wellenlänge / nm: ', max=827.0, min=225.0, readout_format='.0f', step=1.…"
      ]
     },
     "metadata": {},
     "output_type": "display_data"
    }
   ],
   "source": [
    "conv_tool = achprak.conversion.EnergyWavelengthTool()\n",
    "conv_tool.show()"
   ]
  }
 ],
 "metadata": {
  "kernelspec": {
   "display_name": "Python 3 (ipykernel)",
   "language": "python",
   "name": "python3"
  },
  "language_info": {
   "codemirror_mode": {
    "name": "ipython",
    "version": 3
   },
   "file_extension": ".py",
   "mimetype": "text/x-python",
   "name": "python",
   "nbconvert_exporter": "python",
   "pygments_lexer": "ipython3",
   "version": "3.13.5"
  },
  "toc": {
   "base_numbering": 0
  }
 },
 "nbformat": 4,
 "nbformat_minor": 5
}
