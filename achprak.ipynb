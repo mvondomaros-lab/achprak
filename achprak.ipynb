{
 "cells": [
  {
   "cell_type": "markdown",
   "id": "2a34ccbf-cad0-4d6b-952d-f0f703d7c27c",
   "metadata": {
    "deletable": false,
    "editable": false,
    "slideshow": {
     "slide_type": ""
    },
    "tags": []
   },
   "source": [
    "# Wie Moleküle auf Licht reagieren – ein theoretischer Blick auf Photoschalter 💡"
   ]
  },
  {
   "cell_type": "markdown",
   "id": "26675d84-ac83-4ada-b046-82b80ea81c5c",
   "metadata": {
    "deletable": false,
    "editable": false,
    "slideshow": {
     "slide_type": ""
    },
    "tags": []
   },
   "source": [
    "## Erste Schritte"
   ]
  },
  {
   "cell_type": "markdown",
   "id": "cc67ec0f-32e3-4063-afc7-37bf464ab196",
   "metadata": {
    "deletable": false,
    "editable": false,
    "slideshow": {
     "slide_type": ""
    },
    "tags": []
   },
   "source": [
    ":::{seealso} Grundlagen\n",
    "\n",
    "Eine Beschreibung der **Grundlagen** dieses Versuchs finden Sie [online](https://mvondomaros-lab.github.io/achprak/).\n",
    "\n",
    ":::\n",
    "\n",
    "\n",
    ":::{important} Notebook-Bedienung\n",
    "\n",
    "Dieser Versuch wird in einem **Jupyter Notebook** durchgeführt.  \n",
    "Notebooks bestehen aus einzelnen **Zellen**, die entweder **Text** (wie dieser Hinweis) oder **ausführbaren Code** enthalten können.  \n",
    "\n",
    "Im Verlauf des Versuchs werden Sie daher kurze Python-Codeausschnitte sehen – beispielsweise:\n",
    "\n",
    "```python\n",
    "import achprak\n",
    "```\n",
    "\n",
    "👉 Sie müssen diesen Code **nicht** verstehen oder verändern – alle Aufgaben lassen sich interaktiv mit der Maus bearbeiten.  \n",
    "\n",
    "⚡ Um das Notebook vorzubereiten, klicken Sie bitte zunächst auf das **⏩-Symbol** am oberen Bildschirmrand. Dadurch werden alle Codezellen einmalig ausgeführt.\n",
    "\n",
    ":::\n",
    "\n",
    "\n",
    "::::{warning} Versehentliches Betreten des Bearbeitungsmodus\n",
    "\n",
    "Durch ein versehentliches Doppelklicken auf eine Textzelle gelangen Sie in den **Bearbeitungsmodus** dieser Zelle; die Formatierung des Fließtextes wirkt dann eventuell „zerschossen“.  \n",
    "\n",
    "Verlassen Sie den Bearbeitungsmodus mit <kbd>Strg</kbd> + <kbd>Enter</kbd>.\n",
    "\n",
    "::::\n",
    "\n",
    "::::{warning} Bei technischen Problemen\n",
    "\n",
    "Manchmal verhalten sich Computerprogramme nicht so, wie man es erwartet.  \n",
    "Eine bewährte Lösung ist ein **Neustart**.  \n",
    "\n",
    "👉 Sie können dieses Notebook selbst neu starten, indem Sie auf das **⏩-Symbol** am oberen Bildschirmrand klicken.  \n",
    "\n",
    "Bei anhaltenden Problemen informieren Sie bitte kurz die **Assistent*innen**.\n",
    "\n",
    "::::"
   ]
  },
  {
   "cell_type": "markdown",
   "id": "8b5632babf552f9b",
   "metadata": {
    "editable": false,
    "slideshow": {
     "slide_type": ""
    },
    "tags": []
   },
   "source": [
    "## Versuchsdurchführung"
   ]
  },
  {
   "cell_type": "markdown",
   "id": "a8e143f62e485d45",
   "metadata": {
    "editable": false,
    "slideshow": {
     "slide_type": ""
    },
    "tags": []
   },
   "source": [
    "In den folgenden Abschnitten werden Sie Schritt für Schritt in die Verwendung der benötigten Werkzeuge eingeführt:\n",
    "\n",
    "1. **Strukturerstellung**  \n",
    "2. **Dreidimensionale Visualisierung** und Berechnung ausgewählter molekularer Eigenschaften  \n",
    "3. **Strukturoptimierung**  \n",
    "4. **UV/Vis-Spektrum**\n",
    "\n",
    "Zu Beginn jedes Abschnitts finden Sie eine kurze Beschreibung des jeweiligen Werkzeugs sowie weiterführende Aufgaben.\n",
    "\n",
    "\n",
    ":::{seealso} Protokoll\n",
    "\n",
    "Die Ergebnisse Ihrer Untersuchungen protokollieren Sie bitte in dem über **ILIAS** bereitgestellten **Online-Office-Dokument**.  \n",
    "\n",
    "Dieses besprechen Sie im Anschluss an den Versuch mit Ihren **Assistent*innen**.  \n",
    "\n",
    "👉 Das Protokoll können Sie sich für Ihre Unterlagen selbst **per Mail zusenden** oder auf einen **Cloudspeicher** hochladen.\n",
    "\n",
    ":::"
   ]
  },
  {
   "cell_type": "code",
   "execution_count": null,
   "id": "6d8335d2933c5358",
   "metadata": {
    "editable": false,
    "jupyter": {
     "source_hidden": true
    },
    "slideshow": {
     "slide_type": ""
    },
    "tags": []
   },
   "outputs": [],
   "source": [
    "import achprak\n",
    "\n",
    "# Fix links not being highlighted: https://github.com/jupyter-book/jupyterlab-myst/issues/248\n",
    "from IPython.display import HTML\n",
    "\n",
    "HTML(\"\"\"\n",
    "<style>\n",
    "    .jp-ThemedContainer .myst :where(a),\n",
    "    .jp-ThemedContainer .myst :where(a):visited {\n",
    "        color: #0074d9 !important;\n",
    "        text-decoration: none;\n",
    "    }\n",
    "\n",
    "    .jp-ThemedContainer .myst :where(a):hover {\n",
    "        text-decoration: none;\n",
    "    }\n",
    "</style>\n",
    "\"\"\")"
   ]
  },
  {
   "cell_type": "markdown",
   "id": "1f401bdc-b3f9-4771-add2-5dfbfcc26fb3",
   "metadata": {
    "deletable": false,
    "editable": false,
    "slideshow": {
     "slide_type": ""
    },
    "tags": []
   },
   "source": [
    "## Werkzeug 1: Strukturerstellung"
   ]
  },
  {
   "cell_type": "markdown",
   "id": "fc15bbbb-6c93-4211-84c9-d0a506841b61",
   "metadata": {
    "deletable": false,
    "editable": false,
    "slideshow": {
     "slide_type": ""
    },
    "tags": []
   },
   "source": [
    "Mit diesem Werkzeug können Sie Moleküle mit einem Azobenzolgrundgerüst virtuell erzeugen.\n",
    "Die untenstehende Eingabemaske erlaubt es Ihnen, sowohl die Konfiguration der Azogruppe (cis/trans) als auch die Substituenten an den Kohlenstoffatomen 2–6 bzw. 2′–6′ festzulegen.\n",
    "Die zugehörige Strukturformel wird Ihnen anschließend direkt angezeigt.\n",
    "Neben Strukturformeln erzeugt das Werkzeug für Sie auch atomare Koordinaten im XYZ-Format. Diese können Sie mit einem Klick auf den `Kopieren 📋` Button in die Zwischenablage Ihres Computers kopieren und auf ähnliche Art- und Weise an anderer Stelle wieder einfügen.\n",
    "\n",
    "::::{tip} Aufgabe 1.1\n",
    "\n",
    "Erzeugen Sie eine Strukturformel der folgenden Moleküle mit den weiter unten gezeigten Werkzeug:\n",
    "\n",
    "1. trans-4-Fluorazobenzol\n",
    "2. cis-4,4′-Difluorazobenzol\n",
    "3. trans-2-Fluor-4-methoxy-4′-(trifluormethansulfonyl)-azobenzol\n",
    "\n",
    "Speichern Sie jeweils ein Bild der Strukturformel in Ihrem Protokoll.\n",
    "\n",
    "::::\n",
    "\n",
    "::::{note} Speichern von Bildern\n",
    "\n",
    "Die mit diesem Notebook erzeugten Grafiken können Sie per *Drag & Drop* direkt in Ihr Office-Dokument einfügen.  \n",
    "Bewegen Sie hierzu die Maus über das gewünschte Bild, halten Sie die linke Maustaste gedrückt und ziehen Sie das Bild an die gewünschte Stelle in Ihrem Dokument.\n",
    "\n",
    "::::\n",
    "\n",
    "::::{tip} Aufgabe 1.2\n",
    "\n",
    "Aus wie vielen Atomen bestehen trans-4,4′-Difluorazobenzol und cis-4,4′-Difluorazobenzol?  \n",
    "Warum ist die Anzahl in beiden Fällen gleich?\n",
    "\n",
    "::::\n",
    "\n",
    "::::{tip} Aufgabe 1.3\n",
    "\n",
    "Gehen Sie von trans-Azobenzol aus und substituieren Sie die Wasserstoffatome an den Kohlenstoffatomen 2, 2′, 6 und 6′ (also an allen Kohlenstoffatomen in direkter Nachbarschaft zu den primären Kohlenstoffatomen 1 und 1′) durch eine Methoxygruppe.\n",
    "Wie heißt dieses Molekül? \n",
    "\n",
    "Wechseln Sie nun die Konfiguration von trans nach cis.\n",
    "Beschreiben Sie, was passiert, und erklären Sie, warum die zweidimensionale Darstellung in diesem Fall ungeeignet ist.\n",
    "Wie könnten die Atome des Moleküls dieses Problem in der Realität umgehen?\n",
    "::::\n",
    "\n"
   ]
  },
  {
   "cell_type": "code",
   "execution_count": null,
   "id": "188619e8-e45b-40d4-a571-a380dbb1c0f0",
   "metadata": {
    "deletable": false,
    "editable": false,
    "jupyter": {
     "source_hidden": true
    },
    "slideshow": {
     "slide_type": ""
    },
    "tags": []
   },
   "outputs": [],
   "source": [
    "template_tool = achprak.azobenzene.TemplateTool()\n",
    "template_tool.show()"
   ]
  },
  {
   "cell_type": "markdown",
   "id": "9963eab1-341f-46eb-89ce-5229036b5e85",
   "metadata": {
    "deletable": false,
    "editable": false,
    "slideshow": {
     "slide_type": ""
    },
    "tags": []
   },
   "source": [
    "## Werkzeug 2: Dreidimensionale Visualisierung und Berechnung ausgewählter molekularer Eigenschaften"
   ]
  },
  {
   "cell_type": "markdown",
   "id": "ed895418-3b2f-413c-a487-8756b67b8bd9",
   "metadata": {
    "deletable": false,
    "editable": false,
    "slideshow": {
     "slide_type": ""
    },
    "tags": []
   },
   "source": [
    "Zweidimensionale Darstellungen molekularer Strukturen können wichtige Details verbergen.\n",
    "Sind die hier untersuchten Moleküle beispielsweise tatsächlich alle planar?\n",
    "Was passiert, wenn große Substituenten in unmittelbarer Nähe zu den primären Kohlenstoffatomen des Rings eingeführt werden (siehe Aufgabe 1.3)?\n",
    "Kommt es dabei zu räumlichen Überlappungen?\n",
    "\n",
    "Mithilfe dreidimensionaler Visualisierung lassen sich solche Fragen leicht und intuitiv beantworten.\n",
    "Das folgende Werkzeug ermöglicht es Ihnen, Molekülstrukturen dreidimensional darzustellen.\n",
    "\n",
    "Erzeugen Sie zunächst die Koordinaten im XYZ-Format mit Werkzeug 1, kopieren Sie diese in die Zwischenablage und fügen Sie sie anschließend mit einem Klick auf den Button `Einfügen 📥` an dieser Stelle wieder ein.\n",
    "Durch Aufklappen des Inhalts unter der Überschrift `3D-Struktur` lässt sich das Molekül als Kugel-Stab-Modell anzeigen.\n",
    "\n",
    "::::{danger} Wichtig\n",
    "\n",
    "Werkzeug 1 erzeugt nur näherungsweise molekulare Strukturen.\n",
    "Diese entsprechen nicht zwingend der energetisch günstigsten (optimierten) Struktur in der jeweiligen Konfiguration.  \n",
    "Bitte behalten Sie dies bei der Beantwortung der folgenden Fragen im Hinterkopf – alle Beispiele werden später noch einmal mit optimierten Strukturen betrachtet.\n",
    "\n",
    "::::\n",
    "\n",
    "::::{tip} Aufgabe 2.1\n",
    "\n",
    "Visualisieren Sie cis- und trans-Azobenzol.\n",
    "Handelt es sich um planare Moleküle?\n",
    "\n",
    "Tipp: Die 3D-Struktur kann durch Gedrückthalten der linken Maustaste und gleichzeitiges Bewegen der Maus gedreht werden (ähnlich wie in einem Computerspiel).\n",
    "Mit dem Mausrad können Sie hinein- und herauszoomen.\n",
    "\n",
    "::::\n",
    "\n",
    "::::{tip} Aufgabe 2.2\n",
    "\n",
    "Erstellen Sie noch einmal das Molekül aus Aufgabe 1.3 und visualisieren Sie dieses.\n",
    "Haben sich Ihre Vermutungen bestätigt?\n",
    "Wie ist es möglich, vier sperrige Substituenten ohne Überlapp der Atome in einer cis-Konfiguration zu realisieren?\n",
    "\n",
    "::::\n",
    "\n",
    "Werkzeug 2 ermöglicht neben der Visualisierung auch die Berechnung verschiedener molekularer Eigenschaften. Diese Eigenschaften erhalten Sie durch einen Klick auf den Button `Starten ▶️`.\n",
    "\n",
    "::::{tip} Aufgabe 2.3\n",
    "\n",
    "Berechnen Sie die Energien von cis- und trans-Azobenzol sowie die Energiedifferenz für die Reaktion von trans nach cis.\n",
    "Welche Konfiguration ist stabiler?\n",
    "\n",
    "::::\n",
    "\n",
    "Neben der Energie können mit dem zweiten Werkzeug auch ausgewählte geometrische Eigenschaften berechnet werden.\n",
    "Der Diederwinkel (C–N=N–C) ist ein Maß dafür, wie planar das Molekül ist.\n",
    "\n",
    ":::{figure} assets/dihedral.png\n",
    ":align: left\n",
    ":width: 600px\n",
    "\n",
    "Diederwinkel werden zwischen vier miteinander verbundenen Atomen (A–B–C–D) definiert.\n",
    "Dreht man das Molekül so, dass man entlang der Bindung B–C blickt (also zwischen den beiden zentralen Atomen), so misst der Diederwinkel den Winkel zwischen den Bindungen A–B und C–D.\n",
    ":::\n",
    "\n",
    "::::{tip} Aufgabe 2.4\n",
    "\n",
    "Visualisieren Sie trans-Azobenzol.\n",
    "Rotieren Sie das Molekül so, dass Sie entlang der N=N-Bindung schauen.\n",
    "Versuchen Sie den Diederwinkel abzuschätzen und vergleichen Sie Ihre Schätzung mit dem berechneten Wert.\n",
    "\n",
    "Welche Diederwinkel haben trans- und cis-Azobenzol?\n",
    "::::\n",
    "\n",
    "Der Ringabstand gibt den Abstand zwischen den Massenschwerpunkten der beiden Phenylringe in Picometern (pm) an.\n",
    "\n",
    "::::{tip} Aufgabe 2.5\n",
    "\n",
    "Welche Ringabstände liegen in trans- und cis-Azobenzol vor?\n",
    "\n",
    "::::"
   ]
  },
  {
   "cell_type": "code",
   "execution_count": null,
   "id": "615ee7eb-12cd-4658-9e99-b968aeb142ad",
   "metadata": {
    "deletable": false,
    "editable": false,
    "jupyter": {
     "source_hidden": true
    },
    "slideshow": {
     "slide_type": ""
    },
    "tags": []
   },
   "outputs": [],
   "source": [
    "properties_tool = achprak.azobenzene.PropertiesTool()\n",
    "properties_tool.show()"
   ]
  },
  {
   "cell_type": "markdown",
   "id": "299b476b-0607-4506-aa23-337b8d60ed54",
   "metadata": {
    "deletable": false,
    "editable": false,
    "slideshow": {
     "slide_type": ""
    },
    "tags": []
   },
   "source": [
    "## Werkzeug 3: Strukturoptimierung"
   ]
  },
  {
   "cell_type": "markdown",
   "id": "fbd18b80-2c9c-4c36-80be-97e99180547a",
   "metadata": {
    "deletable": false,
    "editable": false,
    "slideshow": {
     "slide_type": ""
    },
    "tags": []
   },
   "source": [
    "Werkzeug 3 ermöglicht die Berechnung von Minimumsstrukturen und Übergangszuständen.  \n",
    "Erzeugen Sie zunächst eine Startstruktur mit Werkzeug 1 und übertragen Sie diese anschließend über `Kopieren 📋` und `Einfügen 📥` in dieses Werkzeug.  \n",
    "Über den Schalter `Zielstruktur` können Sie auswählen, ob ein Minimum oder eine Übergangsstruktur gesucht werden soll.  \n",
    "Mit einem Klick auf `Starten ▶️` wird die Rechnung gestartet.  \n",
    "Strukturoptimierungen benötigen in der Regel einige Momente.\n",
    "\n",
    ":::{seealso} Programmausgabe\n",
    ":class: dropdown\n",
    "\n",
    "Durch Aufklappen des Inhalts unter der Überschrift `Programmausgabe` lässt sich der Fortschritt der Rechnung verfolgen.\n",
    "Hier wird unter anderem der Verlauf der Energie auf dem Weg zum Minimum oder Maximum angezeigt.\n",
    ":::\n",
    "\n",
    "Nach Abschluss der Rechnung klappen Sie bitte den Inhalt unter der Überschrift `Trajektorie` auf.\n",
    "Im Falle einer Minimumsstruktur sehen Sie hier einen Film der auf dem Weg zum Minimum durchlaufenen Strukturen.\n",
    "Bei einem Übergangszustand wird eine Animation derjenigen Bewegungen angezeigt, die zu einer Verringerung der Energie führen – also hin zu den nächstgelegenen Minimumsstrukturen.\n",
    "\n",
    "Unter der  Überschrift `Koordinaten (XYZ-Format)` erhalten Sie die Koordinaten der optimierten Strukturen. Diese können Sie `Kopieren 📋` und in Werkzeug 2 `Einfügen 📥`.\n",
    "\n",
    "::::{tip} Aufgabe 3.1\n",
    "\n",
    "In dieser Aufgabe wiederholen Sie die Überlegungen aus den Aufgaben 2.1 bis 2.3 – diesmal mit optimierten Strukturen.\n",
    "\n",
    "Optimieren Sie die Strukturen von cis- und trans-Azobenzol.  \n",
    "Handelt es sich nach der Optimierung um planare Moleküle?  \n",
    "Welche Konfiguration ist stabiler?  \n",
    "Wie groß ist die Energiedifferenz zwischen trans- und cis-Azobenzol?\n",
    "\n",
    "::::\n",
    "\n",
    "::::{tip} Aufgabe 3.2\n",
    "\n",
    "Bestimmen Sie die Übergangsstruktur der cis–trans-Isomerisierung.  \n",
    "Betrachten Sie anschließend die Trajektorie dieser Übergangsstruktur.  \n",
    "Beschreiben Sie die molekularen Bewegungen, die von der Übergangsstruktur wegführen (z. B. Verdrehung der Ringe, Änderung von Bindungslängen usw.).\n",
    "\n",
    "::::\n",
    "\n",
    "::::{tip} Aufgabe 3.3\n",
    "\n",
    "Bestimmen Sie die Aktivierungsenergie für den Übergang von trans nach cis.\n",
    "\n",
    "Durch thermische Bewegungen bei Raumtemperatur schwanken molekulare Energien typischerweise in der Größenordnung von  \n",
    "$RT \\approx 2.5\\ \\text{kJ mol}^{-1}$ (mit $R$ als universeller Gaskonstante).  \n",
    "Reichen diese thermischen Energiefluktuationen aus, um die trans→cis-Barriere zu überwinden – oder sind deutlich größere Energien erforderlich?\n",
    "\n",
    "::::\n",
    "\n",
    "\n",
    "::::{tip} Aufgabe 3.4\n",
    "\n",
    "Welche Diederwinkel haben die optimieren trans- und cis-Azobenzolstrukturen?\n",
    "Welche Ringabstände liegen in trans- und cis-Azobenzol vor?\n",
    "\n",
    "::::"
   ]
  },
  {
   "cell_type": "code",
   "execution_count": null,
   "id": "fc5b65d6-e245-459f-aa38-a7af3fd50b5b",
   "metadata": {
    "deletable": false,
    "editable": false,
    "jupyter": {
     "source_hidden": true
    },
    "slideshow": {
     "slide_type": ""
    },
    "tags": []
   },
   "outputs": [],
   "source": [
    "opt_tool = achprak.optimization.OptTool()\n",
    "opt_tool.show()"
   ]
  },
  {
   "cell_type": "markdown",
   "id": "99b60a56-0b3f-4cce-8824-900e0125b281",
   "metadata": {
    "deletable": false,
    "editable": false,
    "slideshow": {
     "slide_type": ""
    },
    "tags": []
   },
   "source": [
    "## Werkzeug 4: UV/Vis Spektrum"
   ]
  },
  {
   "cell_type": "markdown",
   "id": "5c109c06-7100-46e0-b0c1-dfddd09aaaa5",
   "metadata": {
    "deletable": false,
    "editable": false,
    "slideshow": {
     "slide_type": ""
    },
    "tags": []
   },
   "source": [
    "Werkzeug 4 ermöglicht die Berechnung von UV/Vis-Spektren.\n",
    "Die Bedienung erfolgt analog zu den anderen Werkzeugen:\n",
    "Fügen Sie geeignete Koordinaten im XYZ-Format über `Einfügen 📥` ein und starten Sie die Berechnung mit `Starten ▶️`.\n",
    "Im Anschluss erhalten Sie unter der Überschrift `Absorptionsspektrum (UV/Vis)` das simulierte Spektrum.\n",
    "\n",
    ":::{seealso} Programmausgabe\n",
    ":class: dropdown\n",
    "\n",
    "Durch Aufklappen des Inhalts unter der Überschrift `Programmausgabe` lässt sich der Fortschritt der Berechnung verfolgen.\n",
    "Bei der Berechnung von UV/Vis-Spektren ist die Ausgabe jedoch relativ ausführlich und ohne vertiefte Kenntnisse der theoretischen Chemie schwer zu interpretieren.\n",
    ":::\n",
    "\n",
    "::::{danger} Wichtig\n",
    "\n",
    "Zur Berechnung von UV/Vis-Spektren benötigen Sie optimierte Minimumsstrukturen.\n",
    "Diese erhalten Sie mithilfe von Werkzeug 3.\n",
    "Die Verwendung nicht-optimierter Strukturen führt zu quantitativ und qualitativ falschen Spektren.\n",
    "\n",
    "Der Ablauf der folgenden Aufgaben ist daher immer:\n",
    "\n",
    "1. Molekül mit Werkzeug 1 erstellen\n",
    "2. Struktur mit Werkzeug 3 optimieren\n",
    "3. UV/Vis-Spektrum mit Werkzeug 4 berechnen\n",
    "\n",
    "::::\n",
    "\n",
    "::::{tip} Aufgabe 4.1\n",
    "\n",
    "Berechnen Sie die UV/Vis-Spektren von cis- und trans-Azobenzol.\n",
    "Bei welcher Energie ist die Absorption jeweils maximal?\n",
    "In welchem Bereich des elektromagnetischen Spektrums liegen diese Energien?\n",
    "Decken sich die Vorhersagen mit der oben erwähnten Tatsache, dass Azobenzol farblos ist?\n",
    "\n",
    "::::\n",
    "\n",
    "::::{tip} Aufgabe 4.2\n",
    "\n",
    "Berechnen Sie die Absorptionsspektren der folgenden in 4-Position substituierten Azobenzolderivate (jeweils in der trans-Konfiguration):\n",
    "\n",
    "1. 4-Me  \n",
    "2. 4-F  \n",
    "3. 4-NMe₂  \n",
    "4. 4-OMe  \n",
    "5. 4-SO₂CF₃\n",
    "\n",
    "Bestimmen Sie in jedem Fall die Energie, bei der die Absorption maximal ist.\n",
    "Welcher Substituent führt zu der stärksten Verschiebung in Richtung des sichtbaren Bereichs des elektromagnetischen Spektrums (also zu kleineren Energien)?\n",
    "::::\n",
    "\n",
    "::::{seealso} Für besonders Interessierte: Der Einfluss von Substituenten auf das Spektrum\n",
    ":class: dropdown\n",
    "\n",
    "Aromatische Verbindungen wie Azobenzol besitzen ein System von delokalisierten π-Elektronen. Das bedeutet: Die Elektronen sind nicht nur an eine einzelne Bindung gebunden, sondern über das gesamte Grundgerüst verteilt.  \n",
    "Wenn Licht auf ein solches Molekül trifft, können diese Elektronen in einen höheren Energiezustand gehoben werden (siehe Abbildung, Fall A). Die dafür nötige Energie entspricht einer bestimmten Wellenlänge, die im UV/Vis-Spektrum sichtbar wird.  \n",
    "\n",
    "Bringt man nun Substituenten an den aromatischen Ring, verändert sich die Elektronenverteilung und damit auch der Energieunterschied, den die Elektronen beim Übergang überwinden müssen. Substituenten können dabei entweder das Energieniveau des Grundzustands anheben (Fall B.1) oder das des angeregten Zustands absenken (Fall B.2). In beiden Fällen wird die Energiedifferenz kleiner – das Molekül absorbiert also Licht längerer Wellenlängen, man spricht von einer bathochromen Verschiebung.  \n",
    "\n",
    "Umgekehrt führt eine Vergrößerung der Anregungsenergie durch Absenken des Grundzustands (Fall C.1) oder Anheben des angeregten Zustands (Fall C.2) zu einer Verschiebung zu kürzeren Wellenlängen. Dies bezeichnet man als hypsochrome Verschiebung.  \n",
    "\n",
    "Besonders stark ist dieser Effekt, wenn der Substituent selbst ein π-Elektronensystem enthält, das mit dem Ring wechselwirken kann. Dadurch vergrößert sich das gesamte delokalisierte System, sodass noch weniger Energie für die Anregung nötig ist.  \n",
    "Die Folge: Je nach Art der Substituenten kann sich die Absorption so weit verschieben, dass sie in den sichtbaren Bereich des elektromagnetischen Spektrums fällt. Das Molekül erscheint dann farbig.  \n",
    "\n",
    "Genauere Erklärungen zu den energetischen Zusammenhängen erhalten Sie im Rahmen der theoretisch-chemischen Ausbildung.\n",
    "\n",
    ":::{figure} assets/substituent-effects.png\n",
    ":align: left\n",
    ":width: 600px\n",
    "\n",
    "Einfluss von Substituenten auf die Lage ausgewählter Energieniveaus eines aromatischen Systems.  \n",
    "Fall A: Unsubstituiertes System.  \n",
    "Fall B.1: Anhebung des Energieniveaus des Grundzustands durch Substituenten.  \n",
    "Fall B.2: Absenkung des Energieniveaus des angeregten Zustands durch Substituenten.  \n",
    "Fall C.1: Absenkung des Energieniveaus des Grundzustands durch Substituenten.  \n",
    "Fall C.2: Anhebung des Energieniveaus des angeregten Zustands durch Substituenten.  \n",
    ":::\n",
    "\n",
    "::::\n",
    "\n",
    "::::{tip} Aufgabe 4.3\n",
    "\n",
    "Ihre Kreativität ist gefragt 💡\n",
    "\n",
    "Ziel ist es, das Absorptionsspektrum von Azobenzol durch geeignete Substitution möglichst weit in den sichtbaren Bereich zu verschieben (bathochrome Verschiebung).\n",
    "\n",
    "Erkunden Sie mindestens zehn mögliche Strukturen, indem Sie Art, Anzahl und Position der Substituenten variieren.\n",
    "Entwickeln Sie hierfür in Gruppenarbeit geeignete Versuchsreihen und verteilen Sie die anfallenden Arbeiten für effiziente Analysen.\n",
    "Dokumentieren Sie Ihre Überlegungen (Hypothesen) und die Messergebnisse nachvollziehbar.\n",
    "::::\n"
   ]
  },
  {
   "cell_type": "code",
   "execution_count": null,
   "id": "5313d4ca-b031-4e74-a8c1-39c821849eef",
   "metadata": {
    "deletable": false,
    "editable": false,
    "jupyter": {
     "source_hidden": true
    },
    "slideshow": {
     "slide_type": ""
    },
    "tags": []
   },
   "outputs": [],
   "source": [
    "uvvis_tool = achprak.uvvis.UVVisTool()\n",
    "uvvis_tool.show()"
   ]
  },
  {
   "cell_type": "markdown",
   "id": "e6690b3f-f3f9-483c-8ffc-c935349635d4",
   "metadata": {
    "deletable": false,
    "editable": false,
    "slideshow": {
     "slide_type": ""
    },
    "tags": []
   },
   "source": [
    "## Zusatzmaterial"
   ]
  },
  {
   "cell_type": "markdown",
   "id": "24249ee1-45aa-4dc2-adb1-8b2b263733e5",
   "metadata": {
    "deletable": false,
    "editable": false,
    "slideshow": {
     "slide_type": ""
    },
    "tags": []
   },
   "source": [
    "Das folgende Werkzeug können Sie benutzen um Energie und Wellenlänge im UV/Vis-Bereich ineinander umzuwandeln."
   ]
  },
  {
   "cell_type": "code",
   "execution_count": null,
   "id": "37ec423f-2e5a-4195-a5a4-b58d26474c37",
   "metadata": {
    "deletable": false,
    "editable": false,
    "jupyter": {
     "source_hidden": true
    },
    "slideshow": {
     "slide_type": ""
    },
    "tags": []
   },
   "outputs": [],
   "source": [
    "conv_tool = achprak.conversion.EnergyWavelengthTool()\n",
    "conv_tool.show()"
   ]
  }
 ],
 "metadata": {
  "kernelspec": {
   "display_name": "Python 3 (ipykernel)",
   "language": "python",
   "name": "python3"
  },
  "language_info": {
   "codemirror_mode": {
    "name": "ipython",
    "version": 3
   },
   "file_extension": ".py",
   "mimetype": "text/x-python",
   "name": "python",
   "nbconvert_exporter": "python",
   "pygments_lexer": "ipython3",
   "version": "3.12.11"
  },
  "toc": {
   "base_numbering": 0
  }
 },
 "nbformat": 4,
 "nbformat_minor": 5
}
