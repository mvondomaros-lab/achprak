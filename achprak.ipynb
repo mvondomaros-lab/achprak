{
 "cells": [
  {
   "cell_type": "markdown",
   "id": "1af49bdf-e5af-43e7-9c5c-bbccd449c2f0",
   "metadata": {},
   "source": [
    "# Photoschalter\n",
    "\n",
    "## Einführung in Theoretisch-Chemische Denkweisen und Arbeitsprozesse\n",
    "\n",
    "### Motivation\n",
    "\n",
    "### Lernziele\n",
    "\n",
    "### Theorie"
   ]
  },
  {
   "cell_type": "code",
   "execution_count": 1,
   "id": "65ff5577-6f08-42e5-99c1-b6dc933b925b",
   "metadata": {},
   "outputs": [
    {
     "data": {
      "application/vnd.jupyter.widget-view+json": {
       "model_id": "642094688090433a9cce84e83afb85b1",
       "version_major": 2,
       "version_minor": 0
      },
      "text/plain": []
     },
     "metadata": {},
     "output_type": "display_data"
    }
   ],
   "source": [
    "import achprak"
   ]
  },
  {
   "cell_type": "markdown",
   "id": "fc15bbbb-6c93-4211-84c9-d0a506841b61",
   "metadata": {},
   "source": [
    "## Werkzeug I: Strukturerstellung\n",
    "\n",
    "Erklärungen ..."
   ]
  },
  {
   "cell_type": "code",
   "execution_count": 2,
   "id": "188619e8-e45b-40d4-a571-a380dbb1c0f0",
   "metadata": {},
   "outputs": [
    {
     "data": {
      "application/vnd.jupyter.widget-view+json": {
       "model_id": "e235b80ce9774646b524e084bc0eec60",
       "version_major": 2,
       "version_minor": 0
      },
      "text/plain": [
       "Label(value='Konformation', style=LabelStyle(font_size='15px', font_weight='bold'))"
      ]
     },
     "metadata": {},
     "output_type": "display_data"
    },
    {
     "data": {
      "application/vnd.jupyter.widget-view+json": {
       "model_id": "e030633657b64e44a67b76602a8d3178",
       "version_major": 2,
       "version_minor": 0
      },
      "text/plain": [
       "RadioButtons(options=('trans', 'cis'), orientation='horizontal', value='trans')"
      ]
     },
     "metadata": {},
     "output_type": "display_data"
    },
    {
     "data": {
      "application/vnd.jupyter.widget-view+json": {
       "model_id": "207903b33fb24d08992bfc826d9c8535",
       "version_major": 2,
       "version_minor": 0
      },
      "text/plain": [
       "Label(value='Substituenten am ersten Ring', style=LabelStyle(font_size='15px', font_weight='bold'))"
      ]
     },
     "metadata": {},
     "output_type": "display_data"
    },
    {
     "data": {
      "application/vnd.jupyter.widget-view+json": {
       "model_id": "4e2a145aee7f414bbd6377bec09b97b6",
       "version_major": 2,
       "version_minor": 0
      },
      "text/plain": [
       "HBox(children=(Dropdown(description='C1 (ortho):', layout=Layout(width='max-content'), options=('H', 'F', 'Cl'…"
      ]
     },
     "metadata": {},
     "output_type": "display_data"
    },
    {
     "data": {
      "application/vnd.jupyter.widget-view+json": {
       "model_id": "7dc488fb644e4e4b84ce4a580d054322",
       "version_major": 2,
       "version_minor": 0
      },
      "text/plain": [
       "Label(value='Substituenten am zweiten Ring', style=LabelStyle(font_size='15px', font_weight='bold'))"
      ]
     },
     "metadata": {},
     "output_type": "display_data"
    },
    {
     "data": {
      "application/vnd.jupyter.widget-view+json": {
       "model_id": "26087fe7feeb408681b4cef78efa5677",
       "version_major": 2,
       "version_minor": 0
      },
      "text/plain": [
       "HBox(children=(Dropdown(description='C1 (ortho):', layout=Layout(width='max-content'), options=('H', 'F', 'Cl'…"
      ]
     },
     "metadata": {},
     "output_type": "display_data"
    },
    {
     "data": {
      "application/vnd.jupyter.widget-view+json": {
       "model_id": "7e7090c4870743bf8522f41116aee6e7",
       "version_major": 2,
       "version_minor": 0
      },
      "text/plain": [
       "Label(value='2D-Struktur', style=LabelStyle(font_size='15px', font_weight='bold'))"
      ]
     },
     "metadata": {},
     "output_type": "display_data"
    },
    {
     "data": {
      "application/vnd.jupyter.widget-view+json": {
       "model_id": "9cd26182881f406b98828c1e667c047d",
       "version_major": 2,
       "version_minor": 0
      },
      "text/plain": [
       "Output()"
      ]
     },
     "metadata": {},
     "output_type": "display_data"
    },
    {
     "data": {
      "application/vnd.jupyter.widget-view+json": {
       "model_id": "c3a647fa73cd4de2a40b7a5d9a0d8b4b",
       "version_major": 2,
       "version_minor": 0
      },
      "text/plain": [
       "Label(value='Ausgabe', style=LabelStyle(font_size='15px', font_weight='bold'))"
      ]
     },
     "metadata": {},
     "output_type": "display_data"
    },
    {
     "data": {
      "application/vnd.jupyter.widget-view+json": {
       "model_id": "f9e9fe9a17a54ea59d13dd425fd57ac7",
       "version_major": 2,
       "version_minor": 0
      },
      "text/plain": [
       "Accordion(children=(NGLWidget(),), titles=('3D-Struktur',))"
      ]
     },
     "metadata": {},
     "output_type": "display_data"
    },
    {
     "data": {
      "application/vnd.jupyter.widget-view+json": {
       "model_id": "7c7496c3b8b84784b86c4c85bcd1611b",
       "version_major": 2,
       "version_minor": 0
      },
      "text/plain": [
       "Accordion(children=(VBox(children=(Output(), Button(description='Kopieren 📋', style=ButtonStyle()))),), titles…"
      ]
     },
     "metadata": {},
     "output_type": "display_data"
    }
   ],
   "source": [
    "achprak.azobenzene.TemplateTool().show()"
   ]
  },
  {
   "cell_type": "markdown",
   "id": "ed895418-3b2f-413c-a487-8756b67b8bd9",
   "metadata": {},
   "source": [
    "## Werkzeug II: Berechnung der Energie und ausgewählter geometrischer Eigenschaften\n",
    "\n",
    "Erklärungen ..."
   ]
  },
  {
   "cell_type": "code",
   "execution_count": 3,
   "id": "615ee7eb-12cd-4658-9e99-b968aeb142ad",
   "metadata": {},
   "outputs": [
    {
     "data": {
      "application/vnd.jupyter.widget-view+json": {
       "model_id": "361fe7f7d42e4bbdbea95f25024ff524",
       "version_major": 2,
       "version_minor": 0
      },
      "text/plain": [
       "Label(value='Koordinaten (XYZ-Format)', style=LabelStyle(font_size='15px', font_weight='bold'))"
      ]
     },
     "metadata": {},
     "output_type": "display_data"
    },
    {
     "data": {
      "application/vnd.jupyter.widget-view+json": {
       "model_id": "c0cee389f9a1440ebcc4a50af781d842",
       "version_major": 2,
       "version_minor": 0
      },
      "text/plain": [
       "Button(description='Einfügen  📥', style=ButtonStyle())"
      ]
     },
     "metadata": {},
     "output_type": "display_data"
    },
    {
     "data": {
      "application/vnd.jupyter.widget-view+json": {
       "model_id": "1f6405c412ad47c5b2a93688d0b9f291",
       "version_major": 2,
       "version_minor": 0
      },
      "text/plain": [
       "Output()"
      ]
     },
     "metadata": {},
     "output_type": "display_data"
    },
    {
     "data": {
      "application/vnd.jupyter.widget-view+json": {
       "model_id": "53406ccfa56746188a2c8bc87144aa37",
       "version_major": 2,
       "version_minor": 0
      },
      "text/plain": [
       "Label(value='Ausgabe', style=LabelStyle(font_size='15px', font_weight='bold'))"
      ]
     },
     "metadata": {},
     "output_type": "display_data"
    },
    {
     "data": {
      "application/vnd.jupyter.widget-view+json": {
       "model_id": "2f18c3fe81ba4fbbabc435489da8ffd0",
       "version_major": 2,
       "version_minor": 0
      },
      "text/plain": [
       "Accordion(children=(HBox(children=(Text(value='', disabled=True), Label(value=' kJ/mol'))),), titles=('Energie…"
      ]
     },
     "metadata": {},
     "output_type": "display_data"
    },
    {
     "data": {
      "application/vnd.jupyter.widget-view+json": {
       "model_id": "05998991d1404e34b9ae01abcef54cae",
       "version_major": 2,
       "version_minor": 0
      },
      "text/plain": [
       "Accordion(children=(HBox(children=(Text(value='', disabled=True), Label(value=' °'))),), titles=('Dihedralwink…"
      ]
     },
     "metadata": {},
     "output_type": "display_data"
    },
    {
     "data": {
      "application/vnd.jupyter.widget-view+json": {
       "model_id": "1fa1e6db1ddb4ec78e13b3a4c127454a",
       "version_major": 2,
       "version_minor": 0
      },
      "text/plain": [
       "Accordion(children=(HBox(children=(Text(value='', disabled=True), Label(value=' pm'))),), titles=('Ringabstand…"
      ]
     },
     "metadata": {},
     "output_type": "display_data"
    }
   ],
   "source": [
    "achprak.azobenzene.PropertiesTool().show()"
   ]
  },
  {
   "cell_type": "markdown",
   "id": "fbd18b80-2c9c-4c36-80be-97e99180547a",
   "metadata": {},
   "source": [
    "## Werkzeug III: Geometrieoptimierung\n",
    "\n",
    "Erklärungen ..."
   ]
  },
  {
   "cell_type": "code",
   "execution_count": 4,
   "id": "fc5b65d6-e245-459f-aa38-a7af3fd50b5b",
   "metadata": {},
   "outputs": [
    {
     "data": {
      "application/vnd.jupyter.widget-view+json": {
       "model_id": "124ed101099743d183d87659d07c7942",
       "version_major": 2,
       "version_minor": 0
      },
      "text/plain": [
       "Label(value='Koordinaten (XYZ-Format)', style=LabelStyle(font_size='15px', font_weight='bold'))"
      ]
     },
     "metadata": {},
     "output_type": "display_data"
    },
    {
     "data": {
      "application/vnd.jupyter.widget-view+json": {
       "model_id": "2d32281c88f64d54a2d09d25fea6cf14",
       "version_major": 2,
       "version_minor": 0
      },
      "text/plain": [
       "Button(description='Einfügen 📥', style=ButtonStyle())"
      ]
     },
     "metadata": {},
     "output_type": "display_data"
    },
    {
     "data": {
      "application/vnd.jupyter.widget-view+json": {
       "model_id": "1da8dcf8af424dc69cd12a14b1734d29",
       "version_major": 2,
       "version_minor": 0
      },
      "text/plain": [
       "Output()"
      ]
     },
     "metadata": {},
     "output_type": "display_data"
    },
    {
     "data": {
      "application/vnd.jupyter.widget-view+json": {
       "model_id": "2ffb066d7e8d4d6382b22a8e9adee470",
       "version_major": 2,
       "version_minor": 0
      },
      "text/plain": [
       "Label(value='Ausgabe', style=LabelStyle(font_size='15px', font_weight='bold'))"
      ]
     },
     "metadata": {},
     "output_type": "display_data"
    },
    {
     "data": {
      "application/vnd.jupyter.widget-view+json": {
       "model_id": "8151d8e3269e4a95b23068aaa38b3b15",
       "version_major": 2,
       "version_minor": 0
      },
      "text/plain": [
       "Accordion(children=(Output(layout=Layout(height='250px', overflow='auto')),), titles=('Programmausgabe',))"
      ]
     },
     "metadata": {},
     "output_type": "display_data"
    },
    {
     "data": {
      "application/vnd.jupyter.widget-view+json": {
       "model_id": "d21443a481cc49ccaa2d0871f93b3d6d",
       "version_major": 2,
       "version_minor": 0
      },
      "text/plain": [
       "Accordion(children=(NGLWidget(),), titles=('3D-Struktur',))"
      ]
     },
     "metadata": {},
     "output_type": "display_data"
    },
    {
     "data": {
      "application/vnd.jupyter.widget-view+json": {
       "model_id": "f51111945f9d43fd99167deb72e43501",
       "version_major": 2,
       "version_minor": 0
      },
      "text/plain": [
       "Accordion(children=(VBox(children=(Output(), Button(description='Kopieren 📋', style=ButtonStyle()))),), titles…"
      ]
     },
     "metadata": {},
     "output_type": "display_data"
    }
   ],
   "source": [
    "achprak.azobenzene.InteractiveOptMin().show()"
   ]
  },
  {
   "cell_type": "markdown",
   "id": "a9886684-143f-46fc-ad96-aa724228eeb1",
   "metadata": {},
   "source": [
    "## Werkzeug IV: Übergangsstruktursuche\n",
    "\n",
    "Erklärungen ..."
   ]
  },
  {
   "cell_type": "code",
   "execution_count": 5,
   "id": "d430f0a1-2248-4c6f-ae36-7d1886dbf4e2",
   "metadata": {},
   "outputs": [
    {
     "data": {
      "application/vnd.jupyter.widget-view+json": {
       "model_id": "9899370c14cc44bfb6265596f58431b1",
       "version_major": 2,
       "version_minor": 0
      },
      "text/plain": [
       "Label(value='Koordinaten (XYZ-Format)', style=LabelStyle(font_size='15px', font_weight='bold'))"
      ]
     },
     "metadata": {},
     "output_type": "display_data"
    },
    {
     "data": {
      "application/vnd.jupyter.widget-view+json": {
       "model_id": "1210280d1b5b4448b37eac93a057b8cd",
       "version_major": 2,
       "version_minor": 0
      },
      "text/plain": [
       "Button(description='Einfügen 📥', style=ButtonStyle())"
      ]
     },
     "metadata": {},
     "output_type": "display_data"
    },
    {
     "data": {
      "application/vnd.jupyter.widget-view+json": {
       "model_id": "b17c17c2791c46598931c41b7610a5ee",
       "version_major": 2,
       "version_minor": 0
      },
      "text/plain": [
       "Output()"
      ]
     },
     "metadata": {},
     "output_type": "display_data"
    },
    {
     "data": {
      "application/vnd.jupyter.widget-view+json": {
       "model_id": "e671ea48637043f79c83dfd5db562a8f",
       "version_major": 2,
       "version_minor": 0
      },
      "text/plain": [
       "Label(value='Ausgabe', style=LabelStyle(font_size='15px', font_weight='bold'))"
      ]
     },
     "metadata": {},
     "output_type": "display_data"
    },
    {
     "data": {
      "application/vnd.jupyter.widget-view+json": {
       "model_id": "47d51386f6514348b61b633133ccc7cb",
       "version_major": 2,
       "version_minor": 0
      },
      "text/plain": [
       "Accordion(children=(Output(layout=Layout(height='250px', overflow='auto')),), titles=('Programmausgabe',))"
      ]
     },
     "metadata": {},
     "output_type": "display_data"
    },
    {
     "data": {
      "application/vnd.jupyter.widget-view+json": {
       "model_id": "01fc216050a04a26a3430913588f4e29",
       "version_major": 2,
       "version_minor": 0
      },
      "text/plain": [
       "Accordion(children=(NGLWidget(),), titles=('3D-Struktur',))"
      ]
     },
     "metadata": {},
     "output_type": "display_data"
    },
    {
     "data": {
      "application/vnd.jupyter.widget-view+json": {
       "model_id": "5506c6e97e9745c0a0fa2f7456e20352",
       "version_major": 2,
       "version_minor": 0
      },
      "text/plain": [
       "Accordion(children=(VBox(children=(Output(), Button(description='Kopieren 📋', style=ButtonStyle()))),), titles…"
      ]
     },
     "metadata": {},
     "output_type": "display_data"
    }
   ],
   "source": [
    "opt_ts_tool = achprak.azobenzene.InteractiveOptTS()\n",
    "opt_ts_tool.show()"
   ]
  },
  {
   "cell_type": "markdown",
   "id": "5c109c06-7100-46e0-b0c1-dfddd09aaaa5",
   "metadata": {},
   "source": [
    "## Teil V: UV/Vis Spektrum\n",
    "\n",
    "Erklärungen ..."
   ]
  },
  {
   "cell_type": "code",
   "execution_count": 6,
   "id": "5313d4ca-b031-4e74-a8c1-39c821849eef",
   "metadata": {},
   "outputs": [
    {
     "data": {
      "application/vnd.jupyter.widget-view+json": {
       "model_id": "ea2c0d46b61b45d3b1b2dda602e0f8f6",
       "version_major": 2,
       "version_minor": 0
      },
      "text/plain": [
       "Label(value='Koordinaten (XYZ-Format)', style=LabelStyle(font_size='15px', font_weight='bold'))"
      ]
     },
     "metadata": {},
     "output_type": "display_data"
    },
    {
     "data": {
      "application/vnd.jupyter.widget-view+json": {
       "model_id": "70302a55f0ce460fbfd8430a0e82f765",
       "version_major": 2,
       "version_minor": 0
      },
      "text/plain": [
       "Button(description='Einfügen 📥', style=ButtonStyle())"
      ]
     },
     "metadata": {},
     "output_type": "display_data"
    },
    {
     "data": {
      "application/vnd.jupyter.widget-view+json": {
       "model_id": "a07e9969b898487886aea243f40919bd",
       "version_major": 2,
       "version_minor": 0
      },
      "text/plain": [
       "Output()"
      ]
     },
     "metadata": {},
     "output_type": "display_data"
    },
    {
     "data": {
      "application/vnd.jupyter.widget-view+json": {
       "model_id": "05115f83583742a2bfba1d0ffe18c462",
       "version_major": 2,
       "version_minor": 0
      },
      "text/plain": [
       "Label(value='Ausgabe', style=LabelStyle(font_size='15px', font_weight='bold'))"
      ]
     },
     "metadata": {},
     "output_type": "display_data"
    },
    {
     "data": {
      "application/vnd.jupyter.widget-view+json": {
       "model_id": "3367a2f26f774e77ac179fe245f357a5",
       "version_major": 2,
       "version_minor": 0
      },
      "text/plain": [
       "Accordion(children=(Output(layout=Layout(height='250px', overflow='auto')),), titles=('Programmausgabe',))"
      ]
     },
     "metadata": {},
     "output_type": "display_data"
    },
    {
     "data": {
      "application/vnd.jupyter.widget-view+json": {
       "model_id": "2165fdf5f07d44beb3dbd381be652463",
       "version_major": 2,
       "version_minor": 0
      },
      "text/plain": [
       "Accordion(children=(Output(),), titles=('Absorptionsspektrum (UV/Vis)',))"
      ]
     },
     "metadata": {},
     "output_type": "display_data"
    }
   ],
   "source": [
    "achprak.uvvis.InteractiveUVVis().show()"
   ]
  }
 ],
 "metadata": {
  "kernelspec": {
   "display_name": "Python 3 (ipykernel)",
   "language": "python",
   "name": "python3"
  },
  "language_info": {
   "codemirror_mode": {
    "name": "ipython",
    "version": 3
   },
   "file_extension": ".py",
   "mimetype": "text/x-python",
   "name": "python",
   "nbconvert_exporter": "python",
   "pygments_lexer": "ipython3",
   "version": "3.13.1"
  }
 },
 "nbformat": 4,
 "nbformat_minor": 5
}
