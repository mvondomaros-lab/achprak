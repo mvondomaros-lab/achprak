{
 "cells": [
  {
   "cell_type": "markdown",
   "id": "2a34ccbf-cad0-4d6b-952d-f0f703d7c27c",
   "metadata": {
    "deletable": false,
    "editable": false,
    "slideshow": {
     "slide_type": ""
    },
    "tags": []
   },
   "source": [
    "# Wie Moleküle auf Licht reagieren – ein theoretischer Blick auf Photoschalter 💡"
   ]
  },
  {
   "cell_type": "markdown",
   "id": "26675d84-ac83-4ada-b046-82b80ea81c5c",
   "metadata": {
    "deletable": false,
    "editable": false,
    "slideshow": {
     "slide_type": ""
    },
    "tags": []
   },
   "source": [
    "## Motivation"
   ]
  },
  {
   "cell_type": "markdown",
   "id": "cc67ec0f-32e3-4063-afc7-37bf464ab196",
   "metadata": {
    "deletable": false,
    "editable": false,
    "slideshow": {
     "slide_type": ""
    },
    "tags": []
   },
   "source": [
    "Molekulare Photoschalter sind chemische Verbindungen, die auf Licht durch Veränderung der räumlichen Struktur reagieren.\n",
    "Damit ändern sich auch ihre chemischen und physikalischen Eigenschaften.\n",
    "Man kann sich diese Moleküle wie winzige Lichtschalter vorstellen – durch gezielte Bestrahlung lassen sie sich zwischen zwei Zuständen umschalten.\n",
    "\n",
    "Solche Systeme sind nicht nur faszinierend, sondern auch technologisch relevant.\n",
    "Sie kommen zum Beispiel in lichtaktivierbaren Arzneistoffen oder in Materialien zum Einsatz, die ihre Eigenschaften unter Bestrahlung gezielt anpassen.\n",
    "\n",
    "In diesem Computerexperiment untersuchen Sie exemplarisch einige Photoschalter und berechnen deren Absorptionsspektren im sichtbaren und ultravioletten Bereich des elektromagnetischen Spektrums.\n",
    "So erhalten Sie einen ersten Einblick, wie Methoden der theoretischen Chemie zur strukturellen und spektroskopischen Analyse lichtinduzierter Schaltprozesse eingesetzt werden können.\n",
    "\n",
    ":::{important} Computerexperiment  \n",
    "Dieser Versuch wird ausschließlich am Computer durchgeführt.  \n",
    "Das bedeutet:  \n",
    "- 🧯 keine Unfallgefahr  \n",
    "- 🥽 keine Schutzkleidung erforderlich  \n",
    "- ☕ Getränke sind erlaubt  \n",
    ":::\n",
    "\n",
    ":::{important} Lernziele  \n",
    "Nach Abschluss dieses Versuches können Sie:\n",
    "- erklären, wie ein Photoschalter (am Beispiel Azobenzol) zwischen Isomeren wechselt und welche Rolle Licht dabei spielt.\n",
    "- den Zusammenhang zwischen Energie $E$ und Wellenlänge $\\lambda$ nutzen und Einheiten sicher umrechnen (J, eV, nm).\n",
    "- mit den bereitgestellten Werkzeugen Strukturen erzeugen, Eigenschaften visualisieren, Minimumsstrukturen und Übergangszustände finden sowie ein UV/Vis‑Spektrum interpretieren.\n",
    "- Verschiebungen im UV/Vis-Spektrum erknenn und einzelnen Substituenten zuorden.\n",
    ":::\n",
    "\n",
    "::::{important} Bei technischen Problemen\n",
    "\n",
    "Manchmal verhalten sich Computerprogramme nicht so, wie man es erwartet.\n",
    "\n",
    "Dieses Notebook ist in Zellen organisiert. Durch ein versehentliches Doppelklicken auf eine Zelle gelangen Sie in den Bearbeitungsmodus einer Zelle; die Formatierung des Fließtextes wirkt dann eventuell „zerschossen“. Verlassen Sie den Bearbeitungsmodus <kbd>Strg</kbd> + <kbd>Enter</kbd>.\n",
    "\n",
    "Eine bewährte Alternative – auch für viele andere Probleme – ist ein Neustart.\n",
    "Sie können dieses Notebook selbst neu starten, indem Sie oben in der Symbolleiste auf das ⏩-Symbol klicken.\n",
    "\n",
    "Bei anhaltenden Problemen informieren Sie bitte kurz die Assistent*innen.\n",
    "::::"
   ]
  },
  {
   "cell_type": "markdown",
   "id": "940c3442-3dc3-4cfe-8be9-891a1fbd304c",
   "metadata": {
    "deletable": false,
    "editable": false,
    "slideshow": {
     "slide_type": ""
    },
    "tags": []
   },
   "source": [
    "## Grundlagen"
   ]
  },
  {
   "cell_type": "markdown",
   "id": "420aab96-c34d-4b93-af29-e5fae4124af6",
   "metadata": {
    "deletable": false,
    "editable": false,
    "slideshow": {
     "slide_type": ""
    },
    "tags": []
   },
   "source": [
    "### Azobenzol"
   ]
  },
  {
   "cell_type": "markdown",
   "id": "575f637b-f94c-444d-820c-90d39a3fc3af",
   "metadata": {
    "deletable": false,
    "editable": false,
    "jp-MarkdownHeadingCollapsed": true,
    "slideshow": {
     "slide_type": ""
    },
    "tags": []
   },
   "source": [
    "In diesem Versuch arbeiten Sie mit dem Molekül Azobenzol.\n",
    "Es besteht aus zwei Phenylgruppen, die über eine Azobrücke (–N=N–) miteinander verbunden sind.\n",
    "\n",
    ":::{figure} assets/azobenzene.svg\n",
    ":width: 350px\n",
    ":align: left\n",
    "Azobenzol, dargestellt als Skelettformel.\n",
    ":::\n",
    "\n",
    "::::{seealso} Summen-, Struktur- und Skelettformeln\n",
    ":class: dropdown\n",
    "\n",
    "Azobenzol besteht aus 12 Kohlenstoff-, 10 Wasserstoff- und 2 Stickstoffatomen und besitzt somit die Summenformel C₁₂H₁₀N₂.\n",
    "\n",
    "In den beiden Phenylringen ist jedes Kohlenstoffatom mit zwei weiteren Kohlenstoffatomen verbunden. Je ein Kohlenstoffatom pro Ring bindet die Azobrücke. Die übrigen Kohlenstoffatome tragen jeweils ein Wasserstoffatom.\n",
    "\n",
    "Die genauen Bindungsverhältnisse lassen sich mit einer Strukturformel darstellen:\n",
    "\n",
    ":::{figure} assets/azobenzene-explicit.svg\n",
    ":width: 380px\n",
    ":align: left\n",
    "Die Strukturformel des Azobenzols.\n",
    ":::\n",
    "\n",
    "Organische Moleküle besitzen häufig ein Grundgerüst aus Kohlenstoffatomen. Zur besseren Übersicht – und um Zeit beim Zeichnen zu sparen – lässt man in der Skelettformel die Kohlenstoffatome sowie die daran gebundenen Wasserstoffatome weg.\n",
    "::::\n",
    "\n",
    "Azobenzol selbst ist farblos, bildet aber das Grundgerüst für zahlreiche Farbstoffe.\n",
    "Diese entstehen durch Substitution, also durch Austausch von Wasserstoffatomen gegen andere Atome oder Atomgruppen.\n",
    "Wird beispielsweise am vierten Kohlenstoffatom eines Phenylrings ein Wasserstoffatom durch eine Methoxygruppe (–OCH₃) ersetzt, entsteht eine gelbe Verbindung.\n",
    "\n",
    ":::{figure} assets/4-methoxy-azobenzene.svg\n",
    ":width: 400px\n",
    ":align: left\n",
    "4-Methoxyazobenzol – ein gelber Farbstoff.\n",
    ":::\n",
    "\n",
    "::::{seealso} Nomenklatur\n",
    ":class: dropdown\n",
    "\n",
    "Jede chemische Verbindung kann eindeutig benannt werden; die entsprechenden Regeln werden von der IUPAC (International Union of Pure and Applied Chemistry) festgelegt.\n",
    "\n",
    "Ein zentrales Element ist die Durchnummerierung der Kohlenstoffatome im Grundgerüst.\n",
    "Beim Azobenzol werden die Kohlenstoffatome des ersten Phenylrings mit 1–6 und die des zweiten Rings mit 1′–6′ nummeriert. Die Atome 1 und 1′ sind dabei immer die beiden Kohlenstoffatome, die direkt an die Azobrücke gebunden sind.\n",
    "In welcher Richtung anschließend weitergezählt wird (im oder gegen den Uhrzeigersinn) hängt normalerweise von den vorhandenen Substituenten ab – in diesem Versuch wird zur Vereinfachung jedoch eine feste Nummerierung verwendet.\n",
    "\n",
    ":::{figure} assets/azobenzene-numbering.svg\n",
    ":width: 350px\n",
    ":align: left\n",
    "Die in diesem Versuch verwendete Nummerierung der Kohlenstoffatome.\n",
    ":::\n",
    "\n",
    "Wird nun beispielsweise am 2. Kohlenstoffatom ein Wasserstoff durch ein Chloratom ersetzt, erhält man die Verbindung 2-Chloroazobenzol.\n",
    "\n",
    "In diesem Versuch treten die folgenden Substituenten auf:\n",
    "\n",
    "| Summenformel | Abkürzung | Name des Substituenten              |\n",
    "|--------------|-----------|--------------------------------------|\n",
    "| CH₃          | Me        | Methyl                               |\n",
    "| N(CH₃)₂      | NMe₂      | Dimethylamino                        |\n",
    "| CF₃          | CF₃       | Trifluormethyl                       |\n",
    "| OCH₃         | OMe       | Methoxy                              |\n",
    "| F            | F         | Fluor                                |\n",
    "| SO₂CF₃       | SO₂CF₃    | Trifluormethylsulfonyl               |\n",
    "\n",
    "Tritt ein Substituent mehrfach auf, wird dies durch Präfixe wie *di-*, *tri-* oder *tetra-* angezeigt. Wird z. B. beim 2-Chloroazobenzol zusätzlich am dritten Kohlenstoffatom des zweiten Rings ein weiteres Chloratom eingeführt, entsteht die Verbindung 2,3′-Dichloroazobenzol.\n",
    "\n",
    "Mit diesen Regeln können Sie alle im Versuch vorkommenden Moleküle eindeutig benennen. Überprüfen Sie zur Übung, ob es sich bei der folgenden Verbindung um 3,5-Dimethyl-4-methoxy-2′-fluoro-4′-trifluormethyl-5′-dimethylaminoazobenzol handelt:\n",
    "\n",
    ":::{figure} assets/azobenzene-derivative.svg\n",
    ":width: 500px\n",
    ":align: left\n",
    ":::\n",
    "::::\n",
    "\n",
    "Durch die Azobrücke kann Azobenzol in zwei unterschiedlichen räumlichen Anordnungen (Konformationen) vorliegen.\n",
    "Alle bisher gezeigten Strukturen entsprechen der trans-Form, bei der die beiden Phenylringe auf gegenüberliegenden Seiten der Azobrücke stehen.\n",
    "Bei der cis-Form befinden sich beide Ringsysteme auf derselben Seite.\n",
    "\n",
    "::::{seealso} E,Z-Nomenklatur\n",
    ":class: dropdown\n",
    "Eine andere, systematischere Bezeichnungsweise für die Anordnung von Substituenten an Doppelbindungen verwendet die Symbole E (für entgegen) und Z (für zusammen). Für unsere Zwecke reichen jedoch trans und cis aus.\n",
    "\n",
    "::::\n",
    "\n",
    "Moleküle mit gleicher Summenformel und Molekülmasse, die sich jedoch in der räumlichen Anordnung oder Verknüpfung der Atome unterscheiden, bezeichnet man als Isomere.\n",
    "\n",
    ":::{figure} assets/cis-azobenzene.svg\n",
    ":width: 230px\n",
    ":align: left\n",
    "Cis-Azobenzol.\n",
    ":::\n",
    "\n",
    "Die trans-Form ist energetisch stabiler und wird unter normalen Bedingungen bevorzugt.\n",
    "Durch Bestrahlung mit Licht geeigneter Wellenlänge kann jedoch eine Umwandlung in die cis-Form ausgelöst werden.\n",
    "Diese lichtinduzierte Isomerisierung bildet die Grundlage für die photoschaltbaren Eigenschaften des Moleküls.\n",
    "\n",
    "Ein Beispiel hierfür ist das oben erwähnte 4-Methoxyazobenzol:\n",
    "Bei Bestrahlung mit ultraviolettem Licht wechselt es von seiner gelblichen trans-Form in eine rot-braune cis-Form.\n",
    "\n",
    ":::{figure} assets/azobenzene-isomerism.svg\n",
    ":width: 800px\n",
    ":align: left\n",
    "Die lichtinduzierte Isomerisierung des Azobenzols.\n",
    ":::\n",
    "\n",
    "::::{seealso} Dreidimensionale Visualisierung\n",
    ":class: dropdown\n",
    "\n",
    "Chemische Strukturformeln eignen sich gut zur Darstellung grundlegender räumlicher Eigenschaften wie der cis-trans-Isomerie, sind jedoch durch ihre zweidimensionale Darstellung begrenzt.\n",
    "Eine Alternative bietet die [3D-Visualisierung](https://de.wikipedia.org/wiki/3D-Visualisierung).\n",
    "So genannte Kalotten- oder Kugel-Stab-Modelle zeigen Moleküle im Raum. Durch Rotation und Bewegung des Moleküls – ähnlich wie in einem Computerspiel – entsteht ein umfassenderes räumliches Bild.\n",
    "\n",
    ":::{figure} https://upload.wikimedia.org/wikipedia/commons/thumb/6/68/Azobenzene-trans-3D-balls.png/512px-Azobenzene-trans-3D-balls.png\n",
    ":width: 512px\n",
    ":align: left\n",
    "Kugel-Stab-Modell des Azobenzols.\n",
    ":::\n",
    "::::"
   ]
  },
  {
   "cell_type": "markdown",
   "id": "96784730-dc95-4b5b-88c7-70d7afa5a6e5",
   "metadata": {
    "deletable": false,
    "editable": false,
    "slideshow": {
     "slide_type": ""
    },
    "tags": []
   },
   "source": [
    "### Das elektromagnetische Spektrum"
   ]
  },
  {
   "cell_type": "markdown",
   "id": "dcb29069-ba80-4347-8fb9-fd45ae90b968",
   "metadata": {
    "deletable": false,
    "editable": false,
    "slideshow": {
     "slide_type": ""
    },
    "tags": []
   },
   "source": [
    "Das Licht, das wir mit dem Auge wahrnehmen können, ist nur ein kleiner Teil des sogenannten elektromagnetischen Spektrums.\n",
    "Dieses umfasst alle Formen elektromagnetischer Strahlung – von energiearmen Radiowellen über Mikrowellen und Infrarotstrahlung bis hin zu sichtbarem Licht, UV-Strahlung, Röntgenstrahlen und hochenergetischen Gammastrahlen.\n",
    "\n",
    "Die einzelnen Bereiche unterscheiden sich in ihrer Energie $E$ bzw. Wellenlänge $\\lambda$.\n",
    "Grundsätzlich gilt: je höher die Energie, desto kürzer die Wellenlänge.\n",
    "Dies wird durch folgende Gleichung beschrieben:\n",
    "\n",
    "$$\n",
    "E = \\frac{hc}{\\lambda}\\,,\n",
    "$$\n",
    "\n",
    "wobei $h$ die Planck-Konstante und $c$ die Lichtgeschwindigkeit im Vakuum ist.\n",
    "Das Produkt der beiden Konstanten beträgt\n",
    "\n",
    "$$\n",
    "hc \\approx 1{,}9864 \\times 10^{-25}\\;\\text{J\\ m} \\;\\;\\approx\\;\\; 1239{,}8\\;\\text{eV\\ nm}.\n",
    "$$\n",
    "\n",
    "In der Atom- und Molekülphysik verwendet man häufig die Einheiten Elektronenvolt (eV) und Nanometer (nm), da sich damit deutlich handlichere Zahlenwerte ergeben als mit Joule bzw. Meter.\n",
    "\n",
    ":::{figure} https://upload.wikimedia.org/wikipedia/commons/f/fc/Spectre.svg\n",
    ":width: 800px\n",
    ":align: left\n",
    ":alt: Tatoute and Phrood~commonswiki, CC BY-SA 3.0, via Wikimedia Commons\n",
    "\n",
    "Das elektromagnetische Spektrum. Die obere Reihe zeigt (von links nach rechts) stilisierte Darstellungen von Gammastrahlen, Röntgenstrahlen, UV-Strahlung, sichtbarem Licht, Infrarotstrahlung, Mikrowellen und Radiowellen.\n",
    "Die untere Reihe vergrößert den sichtbaren Teil des Spektrums.\n",
    ":::"
   ]
  },
  {
   "cell_type": "markdown",
   "id": "c57aaa57-9e2d-4ff7-81e6-6b1830b81392",
   "metadata": {
    "deletable": false,
    "editable": false,
    "slideshow": {
     "slide_type": ""
    },
    "tags": []
   },
   "source": [
    "### Absorption elektromagnetischer Strahlung"
   ]
  },
  {
   "cell_type": "markdown",
   "id": "1af49bdf-e5af-43e7-9c5c-bbccd449c2f0",
   "metadata": {
    "deletable": false,
    "editable": false,
    "slideshow": {
     "slide_type": ""
    },
    "tags": []
   },
   "source": [
    "Moleküle können mit Licht wechselwirken, indem sie dieses absorbieren. Wie diese Wechselwirkung abläuft, wird durch die Gesetze der Quantenmechanik beschrieben.\n",
    "Eine der grundlegenden Erkenntnisse dieser Theorie ist, dass Moleküle nicht Licht beliebiger Energie absorbieren können, sondern nur ganz bestimmte Energien.\n",
    "Stimmt die Energie, so wird das Licht aufgenommen und das Molekül in einen um diesen Energiebetrag höheren energetischen Zustand versetzt.\n",
    "Schematisch lässt sich dieser Prozess wie folgt darstellen:\n",
    "\n",
    ":::{figure} assets/jablonski.png\n",
    ":width: 600px\n",
    ":align: left\n",
    "\n",
    "Jablonskitermschema eines Absorptionsprozesses.\n",
    "Das (fiktive) Molekül kann entweder Licht mit 3.0 eV oder 4.0 eV absorbieren, um in den ersten bzw. zweiten angeregten Zustand versetzt zu werden.\n",
    ":::\n",
    "\n",
    "Trägt man auf, wie stark ein Molekül Licht mit einer bestimmten Energie absorbiert, so erhält man ein Linienspektrum.\n",
    "\n",
    ":::{figure} assets/line-spectrum.png\n",
    ":width: 600px\n",
    ":align: left\n",
    "\n",
    "Das Spektrum eines Moleküls, das Licht mit 3.0 eV und 4.0 eV absorbiert.\n",
    "Die genauen Zahlenwerte der Absorption sind für unseren Versuch nicht relevant; daher wird die Einheit *a.u.* (arbitrary units) verwendet.\n",
    ":::\n",
    "\n",
    "In experimentellen Absorptionsspektren erscheinen jedoch keine scharfen Linien, sondern breite Banden.\n",
    "Das liegt unter anderem daran, dass im Experiment viele miteinander wechselwirkende Moleküle untersucht werden – häufig sogar in Lösung.\n",
    "Außerdem bewegen sich Moleküle aufgrund der Temperatur ständig, wodurch die bevorzugte Übergangsenergie leicht variiert.\n",
    "Hinzu kommen instrumentelle Effekte (z. B. begrenzte Auflösung) sowie fundamentale quantenmechanische Effekte (z. B. endliche Lebensdauer der angeregten Zustände).\n",
    "All dies führt zu einer sogenannten Linienverbreiterung.\n",
    "\n",
    "Es entsteht ein Bandenspektrum.\n",
    "Aus der Lage und Form dieser Banden lassen sich wichtige Informationen über den elektronischen Aufbau eines Moleküls gewinnen.\n",
    "\n",
    ":::{figure} assets/uvvis-spectrum.png\n",
    ":width: 600px\n",
    ":align: left\n",
    "\n",
    "Das Bandenspektrum eines Moleküls, das bevorzugt Licht mit 3.0 eV und 4.0 eV absorbiert.\n",
    "Zur besseren Orientierung wurde das zugrunde liegende Linienspektrum im Hintergrund dargestellt.\n",
    ":::\n",
    "\n",
    "::::{seealso} Für besonders Interessierte: Absorption, Transmission, Extinktion, Übergangswahrscheinlichkeiten\n",
    ":class: dropdown\n",
    "\n",
    "Absorption bezeichnet die Aufnahme von Licht durch ein Molekül.\n",
    "Transmission ist der Anteil des Lichts, der vom Molekül nicht aufgenommen wird und hindurchtritt.\n",
    "Die Extinktion beschreibt die gesamte Abschwächung der Strahlung und umfasst sowohl Absorption als auch Streuung.\n",
    "In spektroskopischen Experimenten wird häufig die Extinktion genutzt, da sie direkt von der Konzentration der absorbierenden Substanz abhängt (Lambert-Beer-Gesetz, siehe auch PC-Versuch).\n",
    "\n",
    "In diesem Computerversuch wird die Übergangswahrscheinlichkeit berechnet, also die Wahrscheinlichkeit, dass ein Molekül durch Licht in einen höheren energetischen Zustand angeregt wird.\n",
    "Diese Größe ist direkt proportional zur Absorption.\n",
    "::::\n",
    "\n",
    "::::{seealso} Motivation: Das elektromagnetische Fenster der Atmosphäre\n",
    ":class: dropdown\n",
    "\n",
    "Absorptionsspektren spielen nicht nur bei der Charakterisierung einzelner Moleküle eine Rolle, sondern sind auch entscheidend für das Verständnis des Energiehaushalts unserer Erde – und damit des Klimawandels.\n",
    "\n",
    "Eines der wichtigsten Beispiele ist das Absorptionsspektrum unserer Atmosphäre. Die folgende Darstellung zeigt die relative Durchlässigkeit (Transmission) für elektromagnetische Strahlung.\n",
    "Das gelb markierte elektromagnetische Fenster ist dabei von besonderer Bedeutung für den Wärmehaushalt unseres Planeten.\n",
    "\n",
    ":::{figure} https://upload.wikimedia.org/wikipedia/commons/8/83/Atmosph%C3%A4rische_Durchl%C3%A4ssigkeit_DE.svg\n",
    ":width: 1024px\n",
    ":alt: Atmosphärische Durchlässigkeit\n",
    ":title: PNG-Version: Herbertweidner (Public domain, via Wikimedia Commons)\n",
    ":::\n",
    "\n",
    "Das elektromagnetische Fenster ist deshalb so wichtig, weil nur in diesem Bereich die Sonnenstrahlung nahezu ungehindert zur Erdoberfläche gelangen kann – und gleichzeitig die von der Erde abgegebene Wärmestrahlung wieder ins Weltall entweichen kann.\n",
    "Würde die Atmosphäre in diesem Bereich stärker absorbieren, würde sich die Erde deutlich stärker aufheizen. 🌍\n",
    "::::"
   ]
  },
  {
   "cell_type": "markdown",
   "id": "6f83f9b9-c917-4a84-a8e8-1796ba2a2bbc",
   "metadata": {
    "deletable": false,
    "editable": false,
    "slideshow": {
     "slide_type": ""
    },
    "tags": []
   },
   "source": [
    "### Theoretische Chemie"
   ]
  },
  {
   "cell_type": "markdown",
   "id": "82c35d4c-ef91-4b27-92cf-72f288716c1f",
   "metadata": {
    "deletable": false,
    "editable": false,
    "slideshow": {
     "slide_type": ""
    },
    "tags": []
   },
   "source": [
    "Die theoretische Chemie beschäftigt sich mit chemischen Fragestellungen, die mithilfe nichtexperimenteller Methoden untersucht werden.  \n",
    "Dazu gehören:\n",
    "\n",
    "- grundlegende Theorien wie die Quantenmechanik oder statistische Mechanik,\n",
    "- computergestützte Berechnungen und Simulationen, mit denen Molekülstrukturen, Energien oder Reaktivitäten bestimmt werden,\n",
    "- die Modellierung komplexer Systeme (z. B. Protein-Docking oder Drug-Design)\n",
    "- sowie vereinfachte, qualitative Modelle, mit denen sich allgemeine Trends abschätzen lassen.\n",
    "\n",
    "In diesem Praktikumsversuch werden Sie verschiedene solcher Berechnungen durchführen.  \n",
    "Wie die zugrundeliegenden Methoden im Detail funktionieren, lernen Sie im Verlauf Ihrer theoretisch-chemischen Ausbildung (3./4. Semester, optional 5./6. Semester sowie im Masterstudium).\n",
    "\n",
    "Für diesen Versuch können Sie sich die eingesetzten Verfahren zunächst als *Blackbox* vorstellen:  \n",
    "Der innere Aufbau muss nicht bekannt sein – wichtig ist lediglich, dass bestimmte Eingaben (z. B. eine Molekülstruktur) zu bestimmten Ausgaben führen (z. B. Energie oder Spektrum).\n",
    "\n",
    ":::{figure} https://upload.wikimedia.org/wikipedia/commons/4/44/Blackbox3D.png\n",
    ":alt: Krauss, CC BY-SA 4.0 <https://creativecommons.org/licenses/by-sa/4.0>, via Wikimedia Commons\n",
    ":align: left\n",
    ":::\n",
    "\n",
    "::::{danger} Genauigkeit\n",
    "\n",
    "Die Entwicklung theoretischer Methoden mit dem Ziel, Moleküleigenschaften vollständig *ab initio* vorherzusagen, ist ein aktiver Bereich der Forschung.\n",
    "Für einige Eigenschaften existieren bereits sehr zuverlässige Verfahren – teilweise sogar genauer als entsprechende Experimente.\n",
    "Andere Eigenschaften lassen sich dagegen deutlich schwieriger vorhersagen.\n",
    "\n",
    "Für die hier betrachteten Moleküle wäre eine genaue Vorhersage energetischer und spektroskopischer Eigenschaften zwar grundsätzlich möglich, würde aber sehr rechenintensive Verfahren erfordern. Solche Berechnungen können Stunden, Tage oder sogar Wochen dauern.\n",
    "\n",
    "Da dieser Versuch in erster Linie das Interesse an theoretischen Methoden wecken soll, wurden bewusst Verfahren ausgewählt, die schnelle Ergebnisse liefern – auch wenn diese im Vergleich zum Experiment leichte Abweichungen aufweisen können.\n",
    "\n",
    "➡️ **Beachten Sie daher**:  \n",
    "Absolute Aussagen wie *„Molekül A absorbiert bei 3.0 eV“* sollten vorsichtig interpretiert werden.  \n",
    "**Vergleichende Aussagen wie *„Molekül B absorbiert bei höheren Energien als Molekül A“* sind hingegen in den meisten Fällen zuverlässig**.\n",
    "::::\n"
   ]
  },
  {
   "cell_type": "markdown",
   "id": "2bf524ba-0b9a-436a-87e3-cdebb833c4ee",
   "metadata": {
    "deletable": false,
    "editable": false,
    "slideshow": {
     "slide_type": ""
    },
    "tags": []
   },
   "source": [
    "### Atomkoordinaten"
   ]
  },
  {
   "cell_type": "markdown",
   "id": "948a0a72-7c99-4c9a-b894-d264c9480e42",
   "metadata": {
    "deletable": false,
    "editable": false,
    "slideshow": {
     "slide_type": ""
    },
    "tags": []
   },
   "source": [
    "Strukturformeln sind für Chemiker*innen zwar intuitiv verständlich, für die maschinelle Weiterverarbeitung jedoch ungeeignet.\n",
    "Deutlich besser geeignet sind atomare Koordinaten, d. h. die Positionen (x, y, z) eines jeden Atoms im Raum.\n",
    "\n",
    "Das Strukturerstellungswerkzeug erzeugt für Sie solche atomaren Koordinaten im sogenannten XYZ-Format.\n",
    "Dieses einfache Textformat ist wie folgt aufgebaut:\n",
    "\n",
    "```text\n",
    "[Anzahl Atome]\n",
    "[Kommentar oder Leerzeile]\n",
    "[Elementsymbol des ersten Atoms]  [X] [Y] [Z]\n",
    "[Elementsymbol des zweiten Atoms] [X] [Y] [Z]\n",
    "[...]\n",
    "```\n",
    "\n",
    "Die Koordinaten werden dabei in der Einheit Ångström angegeben ($1\\ \\mathrm{\\AA} = 10^{-10}\\ \\mathrm{m}$).\n",
    "Die Struktur eines einfachen Wassermoleküls (H₂O) kann zum Beispiel wie folgt im XYZ-Format beschrieben werden:\n",
    "\n",
    "```text\n",
    "3\n",
    "\n",
    "O  0.000  0.000  0.000\n",
    "H  0.000 -0.757  0.587\n",
    "H  0.000  0.757  0.587\n",
    "```\n",
    "\n",
    "Dieses Format zeigt, dass sich das Sauerstoffatom im Ursprung des Koordinatensystems $(x=0,y=0,z=0)$ befindet und dass die beiden Wasserstoffatome in der XY-Ebene liegen $(x = 0)$.\n",
    "\n",
    "Das XYZ-Format dient in diesem Versuch zur Übergabe molekularer Strukturen zwischen den einzelnen Werkzeugen. Es fungiert damit sowohl als Eingabe- als auch als Ausgabeformat der jeweiligen *Black Boxes*. \n",
    "Sie selbst müssen keine XYZ-Dateien erstellen – sollten den grundlegenden Aufbau dieses Formats jedoch kennen und beschreiben können.\n"
   ]
  },
  {
   "cell_type": "markdown",
   "id": "c0183b8a-4de3-45b8-80d9-5fa50c13870a",
   "metadata": {
    "deletable": false,
    "editable": false,
    "slideshow": {
     "slide_type": ""
    },
    "tags": []
   },
   "source": [
    "### Molekulare Energien"
   ]
  },
  {
   "cell_type": "markdown",
   "id": "40d4906f-997a-48ce-b727-02577870feb3",
   "metadata": {
    "deletable": false,
    "editable": false,
    "slideshow": {
     "slide_type": ""
    },
    "tags": []
   },
   "source": [
    "Die vermutlich wichtigste Größe in der theoretischen Chemie ist die Energie eines Moleküls.\n",
    "Alle Moleküle bestehen aus Atomen – diese wiederum aus Atomkernen und Elektronen.\n",
    "Diese Teilchen wechselwirken miteinander:\n",
    "anziehende Wechselwirkungen senken die Energie des Systems, abstoßende Wechselwirkungen erhöhen sie.\n",
    "Ist die Summe aller Wechselwirkungen anziehend, so bleibt das Molekül stabil und zerfällt nicht in seine Einzelteile.\n",
    "Das ist bei allen hier betrachteten Molekülen der Fall – aus diesem Grund sind die berechneten Energien negativ.\n",
    "\n",
    "Vom Betrag her erscheinen die berechneten Energien sehr groß (typischerweise in der Größenordnung von $-100\\,000\\ \\text{kJ mol}^{-1}$.\n",
    "Das liegt daran, dass Energien immer relativ zu einem Bezugspunkt angegeben werden.\n",
    "In theoretisch-chemischen Rechnungen ist dieser Bezugspunkt oft ein hypothetischer Zustand, bei dem alle Atomkerne und Elektronen unendlich weit voneinander entfernt sind.\n",
    "Bringt man diese Teilchen in Molekülform zusammen, wird eine sehr große Energiemenge frei – daher der große negative Wert.\n",
    "In der Realität betrachtet man jedoch häufig Prozesse, bei denen Moleküle ihre Konformation ändern oder durch chemische Reaktionen ineinander übergehen.\n",
    "Bei solchen Veränderungen spielen meist deutlich kleinere Energiemengen eine Rolle. \n",
    "\n",
    "Die Energieunterschiede zwischen zwei Konformationen lassen sich einfach berechnen.  \n",
    "Liegt ein Azobenzolderivat beispielsweise in der trans-Konformation mit einer Energie von  \n",
    "$E_\\mathrm{trans} = -90\\,000\\ \\text{kJ mol}^{-1}$ vor und wechselt anschließend in die cis-Konformation mit  \n",
    "$E_\\mathrm{cis} = -89\\,950\\ \\text{kJ mol}^{-1}$, so ergibt sich für den Energieunterschied\n",
    "\n",
    "$$\n",
    "\\Delta_{\\mathrm{trans\\to cis}}\n",
    "= E_\\mathrm{cis} - E_\\mathrm{trans}\n",
    "= -89\\,950\\ \\text{kJ mol}^{-1} - (-90\\,000\\ \\text{kJ mol}^{-1})\n",
    "= +50\\ \\text{kJ mol}^{-1}.\n",
    "$$\n",
    "\n",
    "Ein positiver Wert bedeutet, dass die cis-Konformation energetisch ungünstiger ist (höhere Energie) – der Übergang von trans nach cis erfordert also Energiezufuhr.\n",
    "\n",
    ":::{note} Energiedifferenzen\n",
    "\n",
    "Bitte berechnen Sie Energiedifferenzen zwischen einem Anfangszustand und einem Endzustand immer wie folgt:\n",
    "\n",
    "$$\n",
    "\\Delta_{\\mathrm{Anfang\\to Ende}} = E_\\mathrm{Ende} - E_\\mathrm{Anfang}\n",
    "$$\n",
    ":::\n"
   ]
  },
  {
   "cell_type": "markdown",
   "id": "4fdbb082-ea4a-4287-8812-7987ab81ef3e",
   "metadata": {
    "deletable": false,
    "editable": false
   },
   "source": [
    "### Strukturoptimierung"
   ]
  },
  {
   "cell_type": "markdown",
   "id": "484d8e4b-cb58-48d3-b502-f62bf4a46700",
   "metadata": {
    "deletable": false,
    "editable": false,
    "slideshow": {
     "slide_type": ""
    },
    "tags": []
   },
   "source": [
    "Moleküle können viele verschiedene räumliche Strukturen annehmen, die sich in ihren Atompositionen – und damit auch in ihrer Energie – unterscheiden.\n",
    "Einige dieser Strukturen entsprechen lokalen Energieminima; ihre Energie lässt sich durch kleine Auslenkungen der Atomkoordinaten nicht weiter verringern.\n",
    "Im Falle des Azobenzols sind dies die Strukturen, die den cis- und trans-Konformationen zugeordnet werden können.\n",
    "Eine zentrale Aufgabe der computergestützten Chemie besteht darin, solche Minimumsstrukturen zu finden und zu charakterisieren – dieser Vorgang wird als Strukturoptimierung bezeichnet.\n",
    "\n",
    ":::{figure} assets/profile.png\n",
    ":align: left\n",
    ":width: 600px\n",
    "\n",
    "Könnte man die Auslenkung aller Atomkoordinaten auf eine einzelne Koordinate projizieren (Reaktionskoordinate), so würden die cis- und trans-Konformationen des Azobenzols den lokalen Minima dieser Funktion entsprechen. Schon kleinste geometrische Änderungen weg von diesen Strukturen führen zu einem Energieanstieg.\n",
    "Der Übergangsstruktur (ÜS) für die cis–trans-Umwandlung entspräche in diesem Fall dem lokalen Maximum zwischen den beiden Minima.\n",
    ":::\n",
    "\n",
    "Mindestens genauso interessant ist jedoch die Suche nach Übergangsstrukturen, also nach lokalen Maxima (bzw. Sattelpunkten in mehreren Dimensionen).\n",
    "Die Energiedifferenz zwischen stabilen Minimumsstrukturen und Übergangsstrukturen (Aktivierungsenergie, $E_A$) bestimmt maßgeblich die Geschwindigkeit chemischer Reaktionen und Umwandlungen."
   ]
  },
  {
   "cell_type": "markdown",
   "id": "a6f77794-10f1-430f-85f8-3c74323da6c9",
   "metadata": {
    "deletable": false,
    "editable": false,
    "slideshow": {
     "slide_type": ""
    },
    "tags": []
   },
   "source": [
    "### Funktionsweise von Photoschaltern\n",
    "\n",
    "Wie eingangs erwähnt, bezeichnet man als Photoschalter ein Molekül, das durch Licht zwischen zwei definierten Zuständen umgeschaltet werden kann.  \n",
    "Diese beiden Zustände unterscheiden sich in ihrer räumlichen Struktur – und damit auch in ihren chemischen bzw. physikalischen Eigenschaften.  \n",
    "Das Umschalten erfolgt durch Licht, da die Barrieren zwischen den beiden Zuständen im Grundzustand so hoch sind, dass sie durch die thermische Energie bei Raumtemperatur nicht überwunden werden können.\n",
    "\n",
    "Die grundlegende Funktionsweise eines Photoschalters lässt sich wie folgt zusammenfassen:\n",
    "\n",
    "1. Das Molekül befindet sich zunächst in einem Ausgangszustand (z. B. der trans-Form bei Azobenzol).  \n",
    "2. Trifft Licht der passenden Energie auf das Molekül, wird es absorbiert – das Molekül gelangt in einen angeregten elektronischen Zustand.  \n",
    "3. In diesem angeregten Zustand kann sich die räumliche Struktur ändern (z. B. Rotation an einer Doppelbindung). Dadurch „schaltet“ das Molekül in den zweiten Zustand um.  \n",
    "4. Nach der strukturellen Veränderung entspannt das Molekül wieder in einen neuen Grundzustand (z. B. cis-Form).\n",
    "\n",
    "Da cis- und trans-Form unterschiedliche Eigenschaften besitzen (etwa Farbe, Polarität oder Reaktivität), lässt sich das Molekül wie ein Schalter verwenden – mit Licht als Signal zum Ein- bzw. Umschalten.\n",
    "\n",
    ":::{figure} assets/photoswitch-mechanism.png\n",
    ":align: left\n",
    ":width: 600px\n",
    "\n",
    "Schematische Darstellung der Funktionsweise eines Photoschalters.\n",
    "Der Wechsel zwischen cis- und trans-Form erfolgt nicht im Grundzustand durch Überwinden des Übergangszustandes.\n",
    "Stattdessen wird das Molekül zunächst in einen angeregten elektronischen Zustand angeregt, in dem die Umwandlung stattfinden kann.\n",
    ":::"
   ]
  },
  {
   "cell_type": "markdown",
   "id": "ef6b2744-f947-4b7e-9523-4df5832052aa",
   "metadata": {
    "deletable": false,
    "editable": false,
    "slideshow": {
     "slide_type": ""
    },
    "tags": []
   },
   "source": [
    "## Versuchsdurchführung"
   ]
  },
  {
   "cell_type": "markdown",
   "id": "204182d7-2f6a-4e61-adcd-88362fabdef9",
   "metadata": {
    "deletable": false,
    "editable": false,
    "slideshow": {
     "slide_type": ""
    },
    "tags": []
   },
   "source": [
    "In den folgenden Abschnitten werden Sie Schritt für Schritt in die Verwendung der benötigten Werkzeuge eingeführt:\n",
    "\n",
    "1. Strukturerstellung  \n",
    "2. Dreidimensionale Visualisierung und Berechnung ausgewählter molekularer Eigenschaften  \n",
    "3. Strukturoptimierung  \n",
    "4. UV/Vis-Spektrum\n",
    "\n",
    "Zu Beginn jedes Abschnitts finden Sie eine kurze Beschreibung des jeweiligen Werkzeugs sowie weiterführende Aufgaben.  \n",
    "Die Ergebnisse Ihrer Untersuchungen protokollieren Sie bitte in dem über ILIAS bereitgestellten Word-Dokument (bearbeitbar z. B. mit *LibreOffice Writer*).\n",
    "\n",
    "::::{note} Hinweis\n",
    "\n",
    "Die den Berechnungen zugrunde liegenden Methoden wurden in der Programmiersprache Python implementiert.  \n",
    "Daher werden Sie im Verlauf des Versuchs gelegentlich kurze Python-Codeausschnitte sehen – beispielsweise:\n",
    "\n",
    "```python\n",
    "import achprak\n",
    "```\n",
    "\n",
    "Sie müssen diesen Code **nicht** verstehen oder bearbeiten – alle Aufgaben lassen sich interaktiv mit der Maus ausführen.\n",
    "::::"
   ]
  },
  {
   "cell_type": "code",
   "execution_count": 1,
   "id": "65ff5577-6f08-42e5-99c1-b6dc933b925b",
   "metadata": {
    "deletable": false,
    "editable": false,
    "execution": {
     "iopub.execute_input": "2025-08-27T07:40:16.281525Z",
     "iopub.status.busy": "2025-08-27T07:40:16.281086Z",
     "iopub.status.idle": "2025-08-27T07:40:24.165890Z",
     "shell.execute_reply": "2025-08-27T07:40:24.165587Z",
     "shell.execute_reply.started": "2025-08-27T07:40:16.281488Z"
    },
    "jupyter": {
     "source_hidden": true
    },
    "slideshow": {
     "slide_type": ""
    },
    "tags": []
   },
   "outputs": [
    {
     "data": {
      "application/vnd.jupyter.widget-view+json": {
       "model_id": "0c23caa13e1c4d108bb91db54c58eef0",
       "version_major": 2,
       "version_minor": 0
      },
      "text/plain": []
     },
     "metadata": {},
     "output_type": "display_data"
    }
   ],
   "source": [
    "import achprak"
   ]
  },
  {
   "cell_type": "markdown",
   "id": "1f401bdc-b3f9-4771-add2-5dfbfcc26fb3",
   "metadata": {
    "deletable": false,
    "editable": false,
    "slideshow": {
     "slide_type": ""
    },
    "tags": []
   },
   "source": [
    "## Werkzeug 1: Strukturerstellung"
   ]
  },
  {
   "cell_type": "markdown",
   "id": "fc15bbbb-6c93-4211-84c9-d0a506841b61",
   "metadata": {
    "deletable": false,
    "editable": false,
    "slideshow": {
     "slide_type": ""
    },
    "tags": []
   },
   "source": [
    "Mit diesem Werkzeug können Sie Moleküle mit einem Azobenzolgrundgerüst virtuell erzeugen.\n",
    "Die untenstehende Eingabemaske erlaubt es Ihnen, sowohl die Konformation der Azogruppe (cis/trans) als auch die Substituenten an den Kohlenstoffatomen 2–6 bzw. 2′–6′ festzulegen.\n",
    "Die zugehörige Strukturformel wird Ihnen anschließend direkt angezeigt.\n",
    "Neben Strukturformeln erzeugt das Werkzeug für Sie auch atomare Koordinaten im XYZ-Format. Diese können Sie mit einem Klick auf den `Kopieren 📋` Button in die Zwischenablage Ihres Computers kopieren und auf ähnliche Art- und Weise an anderer Stelle wieder einfügen.\n",
    "\n",
    "::::{tip} Aufgabe 1.1\n",
    "\n",
    "Erzeugen Sie eine Strukturformel der folgenden Moleküle mit den weiter unten gezeigten Werkzeug:\n",
    "\n",
    "1. trans-4-Fluoroazobenzol\n",
    "2. cis-4,4′-Difluoroazobenzol\n",
    "3. trans-2-Fluoro-4-methoxy-4′-trifluormethylsulfonylazobenzol\n",
    "\n",
    "Speichern Sie jeweils ein Bild der Strukturformel in Ihrem Protokoll.\n",
    "\n",
    "::::\n",
    "\n",
    "::::{note} Speichern von Bildern\n",
    "\n",
    "Die mit diesem Notebook erzeugten Grafiken können Sie per *Drag & Drop* direkt in Ihr Word-Dokument einfügen.  \n",
    "Bewegen Sie hierzu die Maus über das gewünschte Bild, halten Sie die linke Maustaste gedrückt und ziehen Sie das Bild an die gewünschte Stelle in Ihrem Dokument.\n",
    "\n",
    "::::\n",
    "\n",
    "::::{tip} Aufgabe 1.2\n",
    "\n",
    "Aus wie vielen Atomen bestehen trans-4,4′-Difluoroazobenzol und cis-4,4′-Difluoroazobenzol?  \n",
    "Warum ist die Anzahl in beiden Fällen gleich?\n",
    "\n",
    "::::\n",
    "\n",
    "::::{tip} Aufgabe 1.3\n",
    "\n",
    "Gehen Sie von trans-Azobenzol aus und substituieren Sie die Wasserstoffatome an den Kohlenstoffatomen 2, 2′, 6 und 6′ (also an allen Kohlenstoffatomen in direkter Nachbarschaft zu den primären Kohlenstoffatomen 1 und 1′) durch eine Methoxygruppe.\n",
    "Wie heißt dieses Molekül? Wechseln Sie anschließend die Konformation von trans nach cis.\n",
    "\n",
    "Beschreiben Sie, was passiert, und erklären Sie, warum die zweidimensionale Darstellung in diesem Fall ungeeignet ist.\n",
    "Wie könnten die Atome des Moleküls dieses Problem in der Realität umgehen?\n",
    "::::\n",
    "\n"
   ]
  },
  {
   "cell_type": "code",
   "execution_count": 2,
   "id": "188619e8-e45b-40d4-a571-a380dbb1c0f0",
   "metadata": {
    "deletable": false,
    "editable": false,
    "execution": {
     "iopub.execute_input": "2025-08-27T07:40:24.166506Z",
     "iopub.status.busy": "2025-08-27T07:40:24.166295Z",
     "iopub.status.idle": "2025-08-27T07:40:24.217293Z",
     "shell.execute_reply": "2025-08-27T07:40:24.216992Z",
     "shell.execute_reply.started": "2025-08-27T07:40:24.166495Z"
    },
    "jupyter": {
     "source_hidden": true
    },
    "slideshow": {
     "slide_type": ""
    },
    "tags": []
   },
   "outputs": [
    {
     "data": {
      "application/vnd.jupyter.widget-view+json": {
       "model_id": "926b0f2711a94f9f9f3760ef3d748b88",
       "version_major": 2,
       "version_minor": 0
      },
      "text/plain": [
       "Label(value='Konformation', style=LabelStyle(font_size='15px', font_weight='bold'))"
      ]
     },
     "metadata": {},
     "output_type": "display_data"
    },
    {
     "data": {
      "application/vnd.jupyter.widget-view+json": {
       "model_id": "dadf7ff2d37143fd9df20ca399a6ae96",
       "version_major": 2,
       "version_minor": 0
      },
      "text/plain": [
       "RadioButtons(options=('trans', 'cis'), orientation='horizontal', value='trans')"
      ]
     },
     "metadata": {},
     "output_type": "display_data"
    },
    {
     "data": {
      "application/vnd.jupyter.widget-view+json": {
       "model_id": "69d72918b30344fca12d78e203162580",
       "version_major": 2,
       "version_minor": 0
      },
      "text/plain": [
       "Label(value='Substituenten am ersten Ring', style=LabelStyle(font_size='15px', font_weight='bold'))"
      ]
     },
     "metadata": {},
     "output_type": "display_data"
    },
    {
     "data": {
      "application/vnd.jupyter.widget-view+json": {
       "model_id": "31adb3a830b34d588880da1c0ba513d1",
       "version_major": 2,
       "version_minor": 0
      },
      "text/plain": [
       "HBox(children=(Dropdown(description='C2:', layout=Layout(width='max-content'), options=('H', 'Me', 'NMe2', 'CF…"
      ]
     },
     "metadata": {},
     "output_type": "display_data"
    },
    {
     "data": {
      "application/vnd.jupyter.widget-view+json": {
       "model_id": "c6fd31a2ecbd468588607e287954129b",
       "version_major": 2,
       "version_minor": 0
      },
      "text/plain": [
       "Label(value='Substituenten am zweiten Ring', style=LabelStyle(font_size='15px', font_weight='bold'))"
      ]
     },
     "metadata": {},
     "output_type": "display_data"
    },
    {
     "data": {
      "application/vnd.jupyter.widget-view+json": {
       "model_id": "55b9374b90ea4fe7a09908a9dca0d0d6",
       "version_major": 2,
       "version_minor": 0
      },
      "text/plain": [
       "HBox(children=(Dropdown(description=\"C2':\", layout=Layout(width='max-content'), options=('H', 'Me', 'NMe2', 'C…"
      ]
     },
     "metadata": {},
     "output_type": "display_data"
    },
    {
     "data": {
      "application/vnd.jupyter.widget-view+json": {
       "model_id": "a0d00271c4334b6db66c7ecb29c5da27",
       "version_major": 2,
       "version_minor": 0
      },
      "text/plain": [
       "Label(value='2D-Struktur', style=LabelStyle(font_size='15px', font_weight='bold'))"
      ]
     },
     "metadata": {},
     "output_type": "display_data"
    },
    {
     "data": {
      "application/vnd.jupyter.widget-view+json": {
       "model_id": "c5eaf0de5a8841c6b3bf0a54e1d38f3a",
       "version_major": 2,
       "version_minor": 0
      },
      "text/plain": [
       "Output()"
      ]
     },
     "metadata": {},
     "output_type": "display_data"
    },
    {
     "data": {
      "application/vnd.jupyter.widget-view+json": {
       "model_id": "cf13f9d146b8422182f9aa2d9a2436e0",
       "version_major": 2,
       "version_minor": 0
      },
      "text/plain": [
       "Label(value='Koordinaten (XYZ-Format)', style=LabelStyle(font_size='15px', font_weight='bold'))"
      ]
     },
     "metadata": {},
     "output_type": "display_data"
    },
    {
     "data": {
      "application/vnd.jupyter.widget-view+json": {
       "model_id": "5e76a85d9a324de78873bc0bbe93f397",
       "version_major": 2,
       "version_minor": 0
      },
      "text/plain": [
       "Output()"
      ]
     },
     "metadata": {},
     "output_type": "display_data"
    },
    {
     "data": {
      "application/vnd.jupyter.widget-view+json": {
       "model_id": "90abdc663bee4d5c9f21dac6d272d36b",
       "version_major": 2,
       "version_minor": 0
      },
      "text/plain": [
       "Button(description='Kopieren 📋', style=ButtonStyle())"
      ]
     },
     "metadata": {},
     "output_type": "display_data"
    }
   ],
   "source": [
    "template_tool = achprak.azobenzene.TemplateTool()\n",
    "template_tool.show()"
   ]
  },
  {
   "cell_type": "markdown",
   "id": "9963eab1-341f-46eb-89ce-5229036b5e85",
   "metadata": {
    "deletable": false,
    "editable": false,
    "slideshow": {
     "slide_type": ""
    },
    "tags": []
   },
   "source": [
    "## Werkzeug 2: Dreidimensionale Visualisierung und Berechnung ausgewählter molekularer Eigenschaften"
   ]
  },
  {
   "cell_type": "markdown",
   "id": "ed895418-3b2f-413c-a487-8756b67b8bd9",
   "metadata": {
    "deletable": false,
    "editable": false,
    "slideshow": {
     "slide_type": ""
    },
    "tags": []
   },
   "source": [
    "Zweidimensionale Darstellungen molekularer Strukturen können wichtige Details verbergen.\n",
    "Sind die hier untersuchten Moleküle beispielsweise tatsächlich alle planar?\n",
    "Was passiert, wenn große Substituenten in unmittelbarer Nähe zu den primären Kohlenstoffatomen des Rings eingeführt werden (siehe Aufgabe 1.3)?\n",
    "Kommt es dabei zu räumlichen Überlappungen?\n",
    "\n",
    "Mithilfe dreidimensionaler Visualisierung lassen sich solche Fragen leicht und intuitiv beantworten.\n",
    "Das folgende Werkzeug ermöglicht es Ihnen, Molekülstrukturen dreidimensional darzustellen.\n",
    "\n",
    "Erzeugen Sie zunächst die Koordinaten im XYZ-Format mit Werkzeug 1, kopieren Sie diese in die Zwischenablage und fügen Sie sie anschließend mit einem Klick auf den Button `Einfügen 📥` an dieser Stelle wieder ein.\n",
    "Durch Aufklappen des Inhalts unter der Überschrift `3D-Struktur` lässt sich das Molekül als Stäbchenmodell anzeigen.\n",
    "\n",
    "::::{danger} Wichtig\n",
    "\n",
    "Werkzeug 1 erzeugt nur näherungsweise molekulare Strukturen.\n",
    "Diese entsprechen nicht zwingend der energetisch günstigsten (optimierten) Struktur in der jeweiligen Konformation.  \n",
    "Bitte behalten Sie dies bei der Beantwortung der folgenden Fragen im Hinterkopf – alle Beispiele werden später noch einmal mit optimierten Strukturen betrachtet.\n",
    "\n",
    "::::\n",
    "\n",
    "::::{tip} Aufgabe 2.1\n",
    "\n",
    "Visualisieren Sie cis- und trans-Azobenzol.\n",
    "Handelt es sich um planare Moleküle?\n",
    "\n",
    "Tipp: Die 3D-Struktur kann durch Gedrückthalten der linken Maustaste und gleichzeitiges Bewegen der Maus gedreht werden (ähnlich wie in einem Computerspiel).\n",
    "Mit dem Mausrad können Sie hinein- und herauszoomen.\n",
    "\n",
    "::::\n",
    "\n",
    "::::{tip} Aufgabe 2.2\n",
    "\n",
    "Erstellen Sie noch einmal das Molekül aus Aufgabe 1.3 und visualisieren Sie dieses.\n",
    "Haben sich Ihre Vermutungen bestätigt?\n",
    "Wie ist es möglich, vier sperrige Substituenten ohne Überlapp der Atome in einer cis-Konformation zu realisieren?\n",
    "\n",
    "::::\n",
    "\n",
    "Werkzeug 2 ermöglicht neben der Visualisierung auch die Berechnung verschiedener molekularer Eigenschaften. Diese Eigenschaften erhalten Sie durch einen Klick auf den Button `Starten ▶️`.\n",
    "\n",
    "::::{tip} Aufgabe 2.3\n",
    "\n",
    "Berechnen Sie die Energien von cis- und trans-Azobenzol sowie die Energiedifferenz für die Reaktion von trans nach cis.\n",
    "Welche Konformation ist stabiler?\n",
    "\n",
    "::::\n",
    "\n",
    "Neben der Energie können mit dem zweiten Werkzeug auch ausgewählte geometrische Eigenschaften berechnet werden.\n",
    "Der Diederwinkel (C–N=N–C) ist ein Maß dafür, wie planar das Molekül ist.\n",
    "\n",
    ":::{figure} assets/dihedral.png\n",
    ":align: left\n",
    ":width: 600px\n",
    "\n",
    "Diederwinkel werden zwischen vier miteinander verbundenen Atomen (A–B–C–D) definiert.\n",
    "Dreht man das Molekül so, dass man entlang der Bindung B–C blickt (also zwischen den beiden zentralen Atomen), so misst der Diederwinkel den Winkel zwischen den Bindungen A–B und C–D.\n",
    ":::\n",
    "\n",
    "::::{tip} Aufgabe 2.4\n",
    "\n",
    "Visualisieren Sie trans-Azobenzol.\n",
    "Rotieren Sie das Molekül so, dass Sie entlang der N=N-Bindung schauen.\n",
    "Versuchen Sie den Diederwinkel abzuschätzen und vergleichen Sie Ihre Schätzung mit dem berechneten Wert.\n",
    "\n",
    "Welche Diederwinkel haben trans- und cis-Azobenzol?\n",
    "::::\n",
    "\n",
    "Der Ringabstand gibt den Abstand zwischen den Massenschwerpunkten der beiden Phenylringe in Picometern (pm) an.\n",
    "\n",
    "::::{tip} Aufgabe 2.5\n",
    "\n",
    "Welche Ringabstände liegen in trans- und cis-Azobenzol vor?\n",
    "\n",
    "::::"
   ]
  },
  {
   "cell_type": "code",
   "execution_count": 3,
   "id": "615ee7eb-12cd-4658-9e99-b968aeb142ad",
   "metadata": {
    "deletable": false,
    "editable": false,
    "execution": {
     "iopub.execute_input": "2025-08-27T07:40:24.218114Z",
     "iopub.status.busy": "2025-08-27T07:40:24.217985Z",
     "iopub.status.idle": "2025-08-27T07:40:24.237435Z",
     "shell.execute_reply": "2025-08-27T07:40:24.237017Z",
     "shell.execute_reply.started": "2025-08-27T07:40:24.218102Z"
    },
    "jupyter": {
     "source_hidden": true
    },
    "slideshow": {
     "slide_type": ""
    },
    "tags": []
   },
   "outputs": [
    {
     "data": {
      "application/vnd.jupyter.widget-view+json": {
       "model_id": "c338843bc8e84cf4855f719bbf5628b5",
       "version_major": 2,
       "version_minor": 0
      },
      "text/plain": [
       "Label(value='Koordinaten (XYZ-Format)', style=LabelStyle(font_size='15px', font_weight='bold'))"
      ]
     },
     "metadata": {},
     "output_type": "display_data"
    },
    {
     "data": {
      "application/vnd.jupyter.widget-view+json": {
       "model_id": "eabce779335442cfac3f986217f6bd2d",
       "version_major": 2,
       "version_minor": 0
      },
      "text/plain": [
       "Button(description='Einfügen  📥', style=ButtonStyle())"
      ]
     },
     "metadata": {},
     "output_type": "display_data"
    },
    {
     "data": {
      "application/vnd.jupyter.widget-view+json": {
       "model_id": "035975c9c73b42e4aa8d8b2898f409ed",
       "version_major": 2,
       "version_minor": 0
      },
      "text/plain": [
       "Output()"
      ]
     },
     "metadata": {},
     "output_type": "display_data"
    },
    {
     "data": {
      "application/vnd.jupyter.widget-view+json": {
       "model_id": "a45e06db9ba245198feea3ffc5ac8921",
       "version_major": 2,
       "version_minor": 0
      },
      "text/plain": [
       "Accordion(children=(NGLWidget(),), titles=('3D-Struktur',))"
      ]
     },
     "metadata": {},
     "output_type": "display_data"
    },
    {
     "data": {
      "application/vnd.jupyter.widget-view+json": {
       "model_id": "bc591f1230ce444db6598f4aebd7577b",
       "version_major": 2,
       "version_minor": 0
      },
      "text/plain": [
       "Label(value='Berechnung', style=LabelStyle(font_size='15px', font_weight='bold'))"
      ]
     },
     "metadata": {},
     "output_type": "display_data"
    },
    {
     "data": {
      "application/vnd.jupyter.widget-view+json": {
       "model_id": "9a39a3cff03b48a282d71764c59abf9b",
       "version_major": 2,
       "version_minor": 0
      },
      "text/plain": [
       "Button(description='Starten  ▶️', disabled=True, style=ButtonStyle())"
      ]
     },
     "metadata": {},
     "output_type": "display_data"
    },
    {
     "data": {
      "application/vnd.jupyter.widget-view+json": {
       "model_id": "dec9232959bd4f0cb2db9bfbc7d9b2c9",
       "version_major": 2,
       "version_minor": 0
      },
      "text/plain": [
       "Accordion(children=(HBox(children=(Text(value='', disabled=True), Label(value=' kJ/mol'))),), titles=('Energie…"
      ]
     },
     "metadata": {},
     "output_type": "display_data"
    },
    {
     "data": {
      "application/vnd.jupyter.widget-view+json": {
       "model_id": "fb967fcd1dfe4c918deb63cf47e28086",
       "version_major": 2,
       "version_minor": 0
      },
      "text/plain": [
       "Accordion(children=(HBox(children=(Text(value='', disabled=True), Label(value=' °'))),), titles=('Diederwinkel…"
      ]
     },
     "metadata": {},
     "output_type": "display_data"
    },
    {
     "data": {
      "application/vnd.jupyter.widget-view+json": {
       "model_id": "a059a687af264ac4a7aefa2fe54cba0b",
       "version_major": 2,
       "version_minor": 0
      },
      "text/plain": [
       "Accordion(children=(HBox(children=(Text(value='', disabled=True), Label(value=' pm'))),), titles=('Ringabstand…"
      ]
     },
     "metadata": {},
     "output_type": "display_data"
    }
   ],
   "source": [
    "properties_tool = achprak.azobenzene.PropertiesTool()\n",
    "properties_tool.show()"
   ]
  },
  {
   "cell_type": "markdown",
   "id": "299b476b-0607-4506-aa23-337b8d60ed54",
   "metadata": {
    "deletable": false,
    "editable": false,
    "slideshow": {
     "slide_type": ""
    },
    "tags": []
   },
   "source": [
    "## Werkzeug 3: Strukturoptimierung"
   ]
  },
  {
   "cell_type": "markdown",
   "id": "fbd18b80-2c9c-4c36-80be-97e99180547a",
   "metadata": {
    "deletable": false,
    "editable": false,
    "slideshow": {
     "slide_type": ""
    },
    "tags": []
   },
   "source": [
    "Werkzeug 3 ermöglicht die Berechnung von Minimumsstrukturen und Übergangszuständen.  \n",
    "Erzeugen Sie zunächst eine Startstruktur mit Werkzeug 1 und übertragen Sie diese anschließend über `Kopieren 📋` und `Einfügen 📥` in dieses Werkzeug.  \n",
    "Über den Schalter `Zielstruktur` können Sie auswählen, ob ein Minimum oder eine Übergangsstruktur gesucht werden soll.  \n",
    "Mit einem Klick auf `Starten ▶️` wird die Rechnung gestartet.  \n",
    "Strukturoptimierungen benötigen in der Regel einige Momente.\n",
    "\n",
    ":::{seealso} Programmausgabe\n",
    ":class: dropdown\n",
    "\n",
    "Durch Aufklappen des Inhalts unter der Überschrift `Programmausgabe` lässt sich der Fortschritt der Rechnung verfolgen.\n",
    "Hier wird unter anderem der Verlauf der Energie auf dem Weg zum Minimum oder Maximum angezeigt.\n",
    ":::\n",
    "\n",
    "Nach Abschluss der Rechnung klappen Sie bitte den Inhalt unter der Überschrift `Trajektorie` auf.\n",
    "Im Falle einer Minimumsstruktur sehen Sie hier einen Film der auf dem Weg zum Minimum durchlaufenen Strukturen.\n",
    "Bei einem Übergangszustand wird eine Animation derjenigen Bewegungen angezeigt, die zu einer Verringerung der Energie führen – also hin zu den nächstgelegenen Minimumsstrukturen.\n",
    "\n",
    "Unter der  Überschrift `Koordinaten (XYZ-Format)` erhalten Sie die Koordinaten der optimierten Strukturen. Diese können Sie `Kopieren 📋` und in Werkzeug 2 `Einfügen 📥`.\n",
    "\n",
    "::::{tip} Aufgabe 3.1\n",
    "\n",
    "In dieser Aufgabe wiederholen Sie die Überlegungen aus den Aufgaben 2.1 bis 2.3 – diesmal mit optimierten Strukturen.\n",
    "\n",
    "Optimieren Sie die Strukturen von cis- und trans-Azobenzol.  \n",
    "Handelt es sich nach der Optimierung um planare Moleküle?  \n",
    "Welche Konformation ist stabiler?  \n",
    "Wie groß ist die Energiedifferenz zwischen trans- und cis-Azobenzol?\n",
    "\n",
    "::::\n",
    "\n",
    "::::{tip} Aufgabe 3.2\n",
    "\n",
    "Bestimmen Sie die Übergangsstruktur der cis–trans-Isomerisierung.  \n",
    "Betrachten Sie anschließend die Trajektorie dieser Übergangsstruktur.  \n",
    "Beschreiben Sie die molekularen Bewegungen, die von der Übergangsstruktur wegführen (z. B. Verdrehung der Ringe, Änderung von Bindungslängen usw.).\n",
    "\n",
    "::::\n",
    "\n",
    "::::{tip} Aufgabe 3.3\n",
    "\n",
    "Bestimmen Sie die Aktivierungsenergie für den Übergang von trans nach cis.\n",
    "\n",
    "Durch thermische Bewegungen bei Raumtemperatur schwanken molekulare Energien typischerweise in der Größenordnung von  \n",
    "$RT \\approx 2.5\\ \\text{kJ mol}^{-1}$ (mit $R$ als universeller Gaskonstante).  \n",
    "Reichen diese thermischen Energiefluktuationen aus, um die trans→cis-Barriere zu überwinden – oder sind deutlich größere Energien erforderlich?\n",
    "\n",
    "::::\n",
    "\n",
    "\n",
    "::::{tip} Aufgabe 3.4\n",
    "\n",
    "Welche Diederwinkel haben die optimieren trans- und cis-Azobenzolstrukturen?\n",
    "Welche Ringabstände liegen in trans- und cis-Azobenzol vor?\n",
    "\n",
    "::::"
   ]
  },
  {
   "cell_type": "code",
   "execution_count": 4,
   "id": "fc5b65d6-e245-459f-aa38-a7af3fd50b5b",
   "metadata": {
    "deletable": false,
    "editable": false,
    "execution": {
     "iopub.execute_input": "2025-08-27T07:40:24.238297Z",
     "iopub.status.busy": "2025-08-27T07:40:24.238136Z",
     "iopub.status.idle": "2025-08-27T07:40:24.277308Z",
     "shell.execute_reply": "2025-08-27T07:40:24.277031Z",
     "shell.execute_reply.started": "2025-08-27T07:40:24.238284Z"
    },
    "jupyter": {
     "source_hidden": true
    },
    "slideshow": {
     "slide_type": ""
    },
    "tags": []
   },
   "outputs": [
    {
     "data": {
      "application/vnd.jupyter.widget-view+json": {
       "model_id": "dbaf3983626645cd9cf1b2e604261544",
       "version_major": 2,
       "version_minor": 0
      },
      "text/plain": [
       "Label(value='Zielstruktur', style=LabelStyle(font_size='15px', font_weight='bold'))"
      ]
     },
     "metadata": {},
     "output_type": "display_data"
    },
    {
     "data": {
      "application/vnd.jupyter.widget-view+json": {
       "model_id": "ee4e31c1e2f74b6ba5971ca5b75b6df1",
       "version_major": 2,
       "version_minor": 0
      },
      "text/plain": [
       "RadioButtons(options=('Minimum', 'Übergangszustand'), orientation='horizontal', value='Minimum')"
      ]
     },
     "metadata": {},
     "output_type": "display_data"
    },
    {
     "data": {
      "application/vnd.jupyter.widget-view+json": {
       "model_id": "a32c4541792144f99cc37d14f9e8139e",
       "version_major": 2,
       "version_minor": 0
      },
      "text/plain": [
       "Label(value='Koordinaten (XYZ-Format)', style=LabelStyle(font_size='15px', font_weight='bold'))"
      ]
     },
     "metadata": {},
     "output_type": "display_data"
    },
    {
     "data": {
      "application/vnd.jupyter.widget-view+json": {
       "model_id": "af57693a838a4693bee2970f3027e446",
       "version_major": 2,
       "version_minor": 0
      },
      "text/plain": [
       "Button(description='Einfügen  📥', style=ButtonStyle())"
      ]
     },
     "metadata": {},
     "output_type": "display_data"
    },
    {
     "data": {
      "application/vnd.jupyter.widget-view+json": {
       "model_id": "ceebd98324a24abaa4723140b516b29e",
       "version_major": 2,
       "version_minor": 0
      },
      "text/plain": [
       "Output()"
      ]
     },
     "metadata": {},
     "output_type": "display_data"
    },
    {
     "data": {
      "application/vnd.jupyter.widget-view+json": {
       "model_id": "adf1c536968a4ab98dae8b66877a6f54",
       "version_major": 2,
       "version_minor": 0
      },
      "text/plain": [
       "Label(value='Berechnung', style=LabelStyle(font_size='15px', font_weight='bold'))"
      ]
     },
     "metadata": {},
     "output_type": "display_data"
    },
    {
     "data": {
      "application/vnd.jupyter.widget-view+json": {
       "model_id": "5952bccd04ce4b27ab64aaa98a291741",
       "version_major": 2,
       "version_minor": 0
      },
      "text/plain": [
       "Button(description='Starten  ▶️', disabled=True, style=ButtonStyle())"
      ]
     },
     "metadata": {},
     "output_type": "display_data"
    },
    {
     "data": {
      "application/vnd.jupyter.widget-view+json": {
       "model_id": "e6e7d2e9b2e443488baf3ac4cce5a564",
       "version_major": 2,
       "version_minor": 0
      },
      "text/plain": [
       "Accordion(children=(Output(layout=Layout(height='250px', overflow='auto')),), titles=('Programmausgabe',))"
      ]
     },
     "metadata": {},
     "output_type": "display_data"
    },
    {
     "data": {
      "application/vnd.jupyter.widget-view+json": {
       "model_id": "8f7dcbab0cd944149ea2d8f9144af6f9",
       "version_major": 2,
       "version_minor": 0
      },
      "text/plain": [
       "Accordion(children=(NGLWidget(),), titles=('Trajektorie',))"
      ]
     },
     "metadata": {},
     "output_type": "display_data"
    },
    {
     "data": {
      "application/vnd.jupyter.widget-view+json": {
       "model_id": "2c7d8536dbbc41f6a9bd0a7423b67565",
       "version_major": 2,
       "version_minor": 0
      },
      "text/plain": [
       "Accordion(children=(VBox(children=(Output(), Button(description='Kopieren 📋', style=ButtonStyle()))),), titles…"
      ]
     },
     "metadata": {},
     "output_type": "display_data"
    }
   ],
   "source": [
    "opt_tool = achprak.optimization.OptTool()\n",
    "opt_tool.show()"
   ]
  },
  {
   "cell_type": "markdown",
   "id": "99b60a56-0b3f-4cce-8824-900e0125b281",
   "metadata": {
    "deletable": false,
    "editable": false,
    "slideshow": {
     "slide_type": ""
    },
    "tags": []
   },
   "source": [
    "## Werkzeug 4: UV/Vis Spektrum"
   ]
  },
  {
   "cell_type": "markdown",
   "id": "5c109c06-7100-46e0-b0c1-dfddd09aaaa5",
   "metadata": {
    "deletable": false,
    "editable": false,
    "slideshow": {
     "slide_type": ""
    },
    "tags": []
   },
   "source": [
    "Werkzeug 4 ermöglicht die Berechnung von UV/Vis-Spektren.\n",
    "Die Bedienung erfolgt analog zu den anderen Werkzeugen:\n",
    "Fügen Sie geeignete Koordinaten im XYZ-Format über `Einfügen 📥` ein und starten Sie die Berechnung mit `Starten ▶️`.\n",
    "Im Anschluss erhalten Sie unter der Überschrift `Absorptionsspektrum (UV/Vis)` das simulierte Spektrum.\n",
    "\n",
    ":::{seealso} Programmausgabe\n",
    ":class: dropdown\n",
    "\n",
    "Durch Aufklappen des Inhalts unter der Überschrift `Programmausgabe` lässt sich der Fortschritt der Berechnung verfolgen.\n",
    "Bei der Berechnung von UV/Vis-Spektren ist die Ausgabe jedoch relativ ausführlich und ohne vertiefte Kenntnisse der theoretischen Chemie schwer zu interpretieren.\n",
    ":::\n",
    "\n",
    "::::{danger} Wichtig\n",
    "\n",
    "Zur Berechnung von UV/Vis-Spektren benötigen Sie optimierte Minimumsstrukturen.\n",
    "Diese erhalten Sie mithilfe von Werkzeug 3.\n",
    "Die Verwendung nicht-optimierter Strukturen führt zu quantitativ und qualitativ falschen Spektren.\n",
    "\n",
    "Der Ablauf der folgenden Aufgaben ist daher immer:\n",
    "\n",
    "1. Molekül mit Werkzeug 1 erstellen\n",
    "2. Struktur mit Werkzeug 3 optimieren\n",
    "3. UV/Vis-Spektrum mit Werkzeug 4 berechnen\n",
    "\n",
    "::::\n",
    "\n",
    "::::{tip} Aufgabe 4.1\n",
    "\n",
    "Berechnen Sie die UV/Vis-Spektren von cis- und trans-Azobenzol.\n",
    "Bei welcher Energie ist die Absorption jeweils maximal?\n",
    "In welchem Bereich des elektromagnetischen Spektrums liegen diese Energien?\n",
    "Decken sich die Vorhersagen mit der oben erwähnten Tatsache, dass Azobenzol farblos ist?\n",
    "\n",
    "::::\n",
    "\n",
    "::::{tip} Aufgabe 4.2\n",
    "\n",
    "Berechnen Sie die Absorptionsspektren der folgenden in 4-Position substituierten Azobenzolderivate (jeweils in der trans-Konformation):\n",
    "\n",
    "1. 4-Me  \n",
    "2. 4-F  \n",
    "3. 4-NMe₂  \n",
    "4. 4-OMe  \n",
    "5. 4-SO₂CF₃\n",
    "\n",
    "Bestimmen Sie in jedem Fall die Energie, bei der die Absorption maximal ist.\n",
    "Welcher Substituent führt zu der stärksten Verschiebung in Richtung des sichtbaren Bereichs des elektromagnetischen Spektrums (also zu kleineren Energien)?\n",
    "::::\n",
    "\n",
    "::::{seealso} Für besonders Interessierte: Der Einfluss von Substituenten auf das Spektrum\n",
    ":class: dropdown\n",
    "\n",
    "Aromatische Verbindungen wie Azobenzol besitzen ein System von delokalisierten π-Elektronen. Das bedeutet: Die Elektronen sind nicht nur an eine einzelne Bindung gebunden, sondern über das gesamte Grundgerüst verteilt.  \n",
    "Wenn Licht auf ein solches Molekül trifft, können diese Elektronen in einen höheren Energiezustand gehoben werden (siehe Abbildung, Fall A). Die dafür nötige Energie entspricht einer bestimmten Wellenlänge, die im UV/Vis-Spektrum sichtbar wird.  \n",
    "\n",
    "Bringt man nun Substituenten an den aromatischen Ring, verändert sich die Elektronenverteilung und damit auch der Energieunterschied, den die Elektronen beim Übergang überwinden müssen. Viele Substituenten können dabei entweder das Energieniveau des Grundzustands anheben (Fall B) oder das des angeregten Zustands absenken (Fall C). In beiden Fällen wird die Energiedifferenz kleiner – das Molekül absorbiert also Licht längerer Wellenlängen, man spricht von einer „Rotverschiebung“. (Umgekehrt kann eine Vergrößerung der Energiedifferenz zu einer „Blauverschiebung“ führen.)  \n",
    "\n",
    "Besonders stark ist dieser Effekt, wenn der Substituent selbst ein π-Elektronensystem enthält, das mit dem Ring wechselwirken kann. Dadurch vergrößert sich das gesamte delokalisierte System, sodass noch weniger Energie für die Anregung nötig ist.  \n",
    "Die Folge: Je nach Art der Substituenten kann sich die Absorption so weit verschieben, dass sie in den sichtbaren Bereich des elektromagnetischen Spektrums fällt. Das Molekül erscheint dann farbig.  \n",
    "\n",
    "Genauere Erklärungen zu den energetischen Zusammenhängen erhalten Sie im Rahmen der theoretisch-chemischen Ausbildung.\n",
    "\n",
    ":::{figure} assets/substituent-effects.png\n",
    ":align: left\n",
    ":width: 600px\n",
    "\n",
    "Einfluss von Substituenten auf die Lage ausgewählter Energieniveaus eines aromatischen Systems.  \n",
    "Fall A: Unsubstituiertes System.  \n",
    "Fall B: Anhebung des Energieniveaus des Grundzustands durch Substituenten.  \n",
    "Fall C: Absenkung des Energieniveaus des angeregten Zustands durch Substituenten.  \n",
    ":::\n",
    "\n",
    "::::\n",
    "\n",
    "\n",
    "\n",
    "\n",
    "::::{tip} Aufgabe 4.3\n",
    "\n",
    "Ihre Kreativität ist gefragt 🙂  \n",
    "Da Azobenzol selbst farblos ist, ist es ein häufiges Ziel, das Molekül durch geeignete Substitution so zu verändern, dass das Absorptionsspektrum möglichst weit in den sichtbaren Bereich verschoben wird.\n",
    "\n",
    "Erkunden Sie mindestens zehn mögliche Strukturen, indem Sie Art, Anzahl und Position der Substituenten variieren.\n",
    "Dokumentieren Sie Ihre Überlegungen und Ergebnisse.\n",
    "\n",
    "::::"
   ]
  },
  {
   "cell_type": "code",
   "execution_count": 5,
   "id": "5313d4ca-b031-4e74-a8c1-39c821849eef",
   "metadata": {
    "deletable": false,
    "editable": false,
    "execution": {
     "iopub.execute_input": "2025-08-27T07:40:24.277750Z",
     "iopub.status.busy": "2025-08-27T07:40:24.277670Z",
     "iopub.status.idle": "2025-08-27T07:40:24.287463Z",
     "shell.execute_reply": "2025-08-27T07:40:24.287220Z",
     "shell.execute_reply.started": "2025-08-27T07:40:24.277741Z"
    },
    "jupyter": {
     "source_hidden": true
    },
    "slideshow": {
     "slide_type": ""
    },
    "tags": []
   },
   "outputs": [
    {
     "data": {
      "application/vnd.jupyter.widget-view+json": {
       "model_id": "16f7832e4454428a83e94645f71ca5c8",
       "version_major": 2,
       "version_minor": 0
      },
      "text/plain": [
       "Label(value='Koordinaten (XYZ-Format)', style=LabelStyle(font_size='15px', font_weight='bold'))"
      ]
     },
     "metadata": {},
     "output_type": "display_data"
    },
    {
     "data": {
      "application/vnd.jupyter.widget-view+json": {
       "model_id": "4484b8eade684832954abf7f0a0d288f",
       "version_major": 2,
       "version_minor": 0
      },
      "text/plain": [
       "Button(description='Einfügen  📥', style=ButtonStyle())"
      ]
     },
     "metadata": {},
     "output_type": "display_data"
    },
    {
     "data": {
      "application/vnd.jupyter.widget-view+json": {
       "model_id": "e0be9246c9ef44769aafb14bf467db59",
       "version_major": 2,
       "version_minor": 0
      },
      "text/plain": [
       "Output()"
      ]
     },
     "metadata": {},
     "output_type": "display_data"
    },
    {
     "data": {
      "application/vnd.jupyter.widget-view+json": {
       "model_id": "0731d5b6d3dd4292926104c207aabb41",
       "version_major": 2,
       "version_minor": 0
      },
      "text/plain": [
       "Label(value='Berechnung', style=LabelStyle(font_size='15px', font_weight='bold'))"
      ]
     },
     "metadata": {},
     "output_type": "display_data"
    },
    {
     "data": {
      "application/vnd.jupyter.widget-view+json": {
       "model_id": "bbd77f45083a47ccbcf93355be1cfc7a",
       "version_major": 2,
       "version_minor": 0
      },
      "text/plain": [
       "Button(description='Starten  ▶️', disabled=True, style=ButtonStyle())"
      ]
     },
     "metadata": {},
     "output_type": "display_data"
    },
    {
     "data": {
      "application/vnd.jupyter.widget-view+json": {
       "model_id": "63d5197c26d14fdd8fc6d085d929f456",
       "version_major": 2,
       "version_minor": 0
      },
      "text/plain": [
       "Accordion(children=(Output(layout=Layout(height='250px', overflow='auto')),), titles=('Programmausgabe',))"
      ]
     },
     "metadata": {},
     "output_type": "display_data"
    },
    {
     "data": {
      "application/vnd.jupyter.widget-view+json": {
       "model_id": "c7dc29354dc14b8c818a91ba10612c3b",
       "version_major": 2,
       "version_minor": 0
      },
      "text/plain": [
       "Accordion(children=(Output(),), titles=('Absorptionsspektrum (UV/Vis)',))"
      ]
     },
     "metadata": {},
     "output_type": "display_data"
    }
   ],
   "source": [
    "uvvis_tool = achprak.uvvis.UVVisTool()\n",
    "uvvis_tool.show()"
   ]
  },
  {
   "cell_type": "markdown",
   "id": "e6690b3f-f3f9-483c-8ffc-c935349635d4",
   "metadata": {
    "deletable": false,
    "editable": false
   },
   "source": [
    "## Zusatzmaterial"
   ]
  },
  {
   "cell_type": "markdown",
   "id": "24249ee1-45aa-4dc2-adb1-8b2b263733e5",
   "metadata": {
    "deletable": false,
    "editable": false,
    "slideshow": {
     "slide_type": ""
    },
    "tags": []
   },
   "source": [
    "Das folgende Werkzeug können Sie benutzen um Energie und Wellenlänge im UV/Vis-Bereich ineinander umzuwandeln."
   ]
  },
  {
   "cell_type": "code",
   "execution_count": 6,
   "id": "37ec423f-2e5a-4195-a5a4-b58d26474c37",
   "metadata": {
    "deletable": false,
    "editable": false,
    "execution": {
     "iopub.execute_input": "2025-08-27T07:40:24.289276Z",
     "iopub.status.busy": "2025-08-27T07:40:24.289116Z",
     "iopub.status.idle": "2025-08-27T07:40:24.293935Z",
     "shell.execute_reply": "2025-08-27T07:40:24.293622Z",
     "shell.execute_reply.started": "2025-08-27T07:40:24.289264Z"
    },
    "jupyter": {
     "source_hidden": true
    },
    "slideshow": {
     "slide_type": ""
    },
    "tags": []
   },
   "outputs": [
    {
     "data": {
      "application/vnd.jupyter.widget-view+json": {
       "model_id": "47dc4661264845f5b54a3b04f4fbdb65",
       "version_major": 2,
       "version_minor": 0
      },
      "text/plain": [
       "FloatSlider(value=3.5, description='Energie / eV: ', max=5.5, min=1.5, step=0.01, style=SliderStyle(descriptio…"
      ]
     },
     "metadata": {},
     "output_type": "display_data"
    },
    {
     "data": {
      "application/vnd.jupyter.widget-view+json": {
       "model_id": "d77dcc6629fd49278d24078f4d7bd76f",
       "version_major": 2,
       "version_minor": 0
      },
      "text/plain": [
       "FloatSlider(value=354.0, description='Wellenlänge / nm: ', max=827.0, min=225.0, readout_format='.0f', step=1.…"
      ]
     },
     "metadata": {},
     "output_type": "display_data"
    }
   ],
   "source": [
    "conv_tool = achprak.conversion.EnergyWavelengthTool()\n",
    "conv_tool.show()"
   ]
  }
 ],
 "metadata": {
  "kernelspec": {
   "display_name": "Python 3 (ipykernel)",
   "language": "python",
   "name": "python3"
  },
  "language_info": {
   "codemirror_mode": {
    "name": "ipython",
    "version": 3
   },
   "file_extension": ".py",
   "mimetype": "text/x-python",
   "name": "python",
   "nbconvert_exporter": "python",
   "pygments_lexer": "ipython3",
   "version": "3.13.5"
  },
  "toc": {
   "base_numbering": 0
  }
 },
 "nbformat": 4,
 "nbformat_minor": 5
}
