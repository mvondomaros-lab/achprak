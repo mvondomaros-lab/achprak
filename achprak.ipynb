{
 "cells": [
  {
   "cell_type": "markdown",
   "id": "1af49bdf-e5af-43e7-9c5c-bbccd449c2f0",
   "metadata": {},
   "source": [
    "# Photoschalter\n",
    "\n",
    "## Einführung in Theoretisch-Chemische Denkweisen und Arbeitsprozesse\n",
    "\n",
    "### Motivation\n",
    "\n",
    "### Lernziele\n",
    "\n",
    "### Theorie"
   ]
  },
  {
   "cell_type": "code",
   "execution_count": 1,
   "id": "65ff5577-6f08-42e5-99c1-b6dc933b925b",
   "metadata": {},
   "outputs": [
    {
     "data": {
      "application/vnd.jupyter.widget-view+json": {
       "model_id": "13fd70019aad4856b9c6e9cdfdfa3455",
       "version_major": 2,
       "version_minor": 0
      },
      "text/plain": []
     },
     "metadata": {},
     "output_type": "display_data"
    }
   ],
   "source": [
    "import achprak"
   ]
  },
  {
   "cell_type": "markdown",
   "id": "fc15bbbb-6c93-4211-84c9-d0a506841b61",
   "metadata": {},
   "source": [
    "## Werkzeug I: Strukturerstellung\n",
    "\n",
    "Erklärungen ..."
   ]
  },
  {
   "cell_type": "code",
   "execution_count": 2,
   "id": "188619e8-e45b-40d4-a571-a380dbb1c0f0",
   "metadata": {},
   "outputs": [
    {
     "data": {
      "application/vnd.jupyter.widget-view+json": {
       "model_id": "913e13dd49204eda88ce0433cc428c37",
       "version_major": 2,
       "version_minor": 0
      },
      "text/plain": [
       "Label(value='Konformation', style=LabelStyle(font_size='15px', font_weight='bold'))"
      ]
     },
     "metadata": {},
     "output_type": "display_data"
    },
    {
     "data": {
      "application/vnd.jupyter.widget-view+json": {
       "model_id": "20589a9fc0934572ae57764dda08fc71",
       "version_major": 2,
       "version_minor": 0
      },
      "text/plain": [
       "RadioButtons(options=('trans', 'cis'), orientation='horizontal', value='trans')"
      ]
     },
     "metadata": {},
     "output_type": "display_data"
    },
    {
     "data": {
      "application/vnd.jupyter.widget-view+json": {
       "model_id": "57713e306edf46838d45edacde2a3f7d",
       "version_major": 2,
       "version_minor": 0
      },
      "text/plain": [
       "Label(value='Substituenten am ersten Ring', style=LabelStyle(font_size='15px', font_weight='bold'))"
      ]
     },
     "metadata": {},
     "output_type": "display_data"
    },
    {
     "data": {
      "application/vnd.jupyter.widget-view+json": {
       "model_id": "e73bf9ac0b534ccc94cc6a2696de6a33",
       "version_major": 2,
       "version_minor": 0
      },
      "text/plain": [
       "HBox(children=(Dropdown(description='C2 (ortho):', layout=Layout(width='max-content'), options=('H', 'Me', 'NM…"
      ]
     },
     "metadata": {},
     "output_type": "display_data"
    },
    {
     "data": {
      "application/vnd.jupyter.widget-view+json": {
       "model_id": "87551bd8cf2f4778b5b1da82aaa8f93c",
       "version_major": 2,
       "version_minor": 0
      },
      "text/plain": [
       "Label(value='Substituenten am zweiten Ring', style=LabelStyle(font_size='15px', font_weight='bold'))"
      ]
     },
     "metadata": {},
     "output_type": "display_data"
    },
    {
     "data": {
      "application/vnd.jupyter.widget-view+json": {
       "model_id": "8700fc0c6798402bb493e4a7d6f86d22",
       "version_major": 2,
       "version_minor": 0
      },
      "text/plain": [
       "HBox(children=(Dropdown(description='C2 (ortho):', layout=Layout(width='max-content'), options=('H', 'Me', 'NM…"
      ]
     },
     "metadata": {},
     "output_type": "display_data"
    },
    {
     "data": {
      "application/vnd.jupyter.widget-view+json": {
       "model_id": "e8a0da44d104420e95a8570dbb9aa5c1",
       "version_major": 2,
       "version_minor": 0
      },
      "text/plain": [
       "Label(value='2D-Struktur', style=LabelStyle(font_size='15px', font_weight='bold'))"
      ]
     },
     "metadata": {},
     "output_type": "display_data"
    },
    {
     "data": {
      "application/vnd.jupyter.widget-view+json": {
       "model_id": "e4ebd1b3ead6489c9c09b3a7cc128401",
       "version_major": 2,
       "version_minor": 0
      },
      "text/plain": [
       "Output()"
      ]
     },
     "metadata": {},
     "output_type": "display_data"
    },
    {
     "data": {
      "application/vnd.jupyter.widget-view+json": {
       "model_id": "09664bfb49cf4f4880f449638a09e954",
       "version_major": 2,
       "version_minor": 0
      },
      "text/plain": [
       "Label(value='Koordinaten (XYZ-Format)', style=LabelStyle(font_size='15px', font_weight='bold'))"
      ]
     },
     "metadata": {},
     "output_type": "display_data"
    },
    {
     "data": {
      "application/vnd.jupyter.widget-view+json": {
       "model_id": "9f551eb43f8843ecb55f3b1563f724aa",
       "version_major": 2,
       "version_minor": 0
      },
      "text/plain": [
       "Output()"
      ]
     },
     "metadata": {},
     "output_type": "display_data"
    },
    {
     "data": {
      "application/vnd.jupyter.widget-view+json": {
       "model_id": "88eca8678e9e4319944b2abacda359ce",
       "version_major": 2,
       "version_minor": 0
      },
      "text/plain": [
       "Button(description='Kopieren 📋', style=ButtonStyle())"
      ]
     },
     "metadata": {},
     "output_type": "display_data"
    }
   ],
   "source": [
    "template_tool = achprak.azobenzene.TemplateTool()\n",
    "template_tool.show()"
   ]
  },
  {
   "cell_type": "markdown",
   "id": "ed895418-3b2f-413c-a487-8756b67b8bd9",
   "metadata": {},
   "source": [
    "## Werkzeug II: 3D-Visualisierung und Berechnung ausgewählter molekularer Eigenschaften\n",
    "\n",
    "Erklärungen ..."
   ]
  },
  {
   "cell_type": "code",
   "execution_count": 3,
   "id": "615ee7eb-12cd-4658-9e99-b968aeb142ad",
   "metadata": {},
   "outputs": [
    {
     "data": {
      "application/vnd.jupyter.widget-view+json": {
       "model_id": "d3cc50081c1f4da49bb7709929d6f1a2",
       "version_major": 2,
       "version_minor": 0
      },
      "text/plain": [
       "Label(value='Koordinaten (XYZ-Format)', style=LabelStyle(font_size='15px', font_weight='bold'))"
      ]
     },
     "metadata": {},
     "output_type": "display_data"
    },
    {
     "data": {
      "application/vnd.jupyter.widget-view+json": {
       "model_id": "93394c1e7deb44efbde6446f7abb74c3",
       "version_major": 2,
       "version_minor": 0
      },
      "text/plain": [
       "Button(description='Einfügen  📥', style=ButtonStyle())"
      ]
     },
     "metadata": {},
     "output_type": "display_data"
    },
    {
     "data": {
      "application/vnd.jupyter.widget-view+json": {
       "model_id": "38551faeb54744869e759181f9c6124e",
       "version_major": 2,
       "version_minor": 0
      },
      "text/plain": [
       "Output()"
      ]
     },
     "metadata": {},
     "output_type": "display_data"
    },
    {
     "data": {
      "application/vnd.jupyter.widget-view+json": {
       "model_id": "5931810936eb4c16ac8df9174fe3d651",
       "version_major": 2,
       "version_minor": 0
      },
      "text/plain": [
       "Accordion(children=(NGLWidget(),), titles=('3D-Struktur',))"
      ]
     },
     "metadata": {},
     "output_type": "display_data"
    },
    {
     "data": {
      "application/vnd.jupyter.widget-view+json": {
       "model_id": "5d0f0361170744ad9eca487c6e693efe",
       "version_major": 2,
       "version_minor": 0
      },
      "text/plain": [
       "Label(value='Berechnung', style=LabelStyle(font_size='15px', font_weight='bold'))"
      ]
     },
     "metadata": {},
     "output_type": "display_data"
    },
    {
     "data": {
      "application/vnd.jupyter.widget-view+json": {
       "model_id": "eff16c63bdc74db6b153c39659a43726",
       "version_major": 2,
       "version_minor": 0
      },
      "text/plain": [
       "Button(description='Starten  ▶️', disabled=True, style=ButtonStyle())"
      ]
     },
     "metadata": {},
     "output_type": "display_data"
    },
    {
     "data": {
      "application/vnd.jupyter.widget-view+json": {
       "model_id": "50412c96effb4069b5d2124f89ce7350",
       "version_major": 2,
       "version_minor": 0
      },
      "text/plain": [
       "Accordion(children=(HBox(children=(Text(value='', disabled=True), Label(value=' kJ/mol'))),), titles=('Energie…"
      ]
     },
     "metadata": {},
     "output_type": "display_data"
    },
    {
     "data": {
      "application/vnd.jupyter.widget-view+json": {
       "model_id": "e4cf8144d47f48d0a8fa02438dc13dbb",
       "version_major": 2,
       "version_minor": 0
      },
      "text/plain": [
       "Accordion(children=(HBox(children=(Text(value='', disabled=True), Label(value=' °'))),), titles=('Diederwinkel…"
      ]
     },
     "metadata": {},
     "output_type": "display_data"
    },
    {
     "data": {
      "application/vnd.jupyter.widget-view+json": {
       "model_id": "66405d95529a4c5d87d0c41ac288a31c",
       "version_major": 2,
       "version_minor": 0
      },
      "text/plain": [
       "Accordion(children=(HBox(children=(Text(value='', disabled=True), Label(value=' pm'))),), titles=('Ringabstand…"
      ]
     },
     "metadata": {},
     "output_type": "display_data"
    }
   ],
   "source": [
    "properties_tool = achprak.azobenzene.PropertiesTool()\n",
    "properties_tool.show()"
   ]
  },
  {
   "cell_type": "markdown",
   "id": "fbd18b80-2c9c-4c36-80be-97e99180547a",
   "metadata": {},
   "source": [
    "## Werkzeug III: Strukturoptimierung\n",
    "\n",
    "Erklärungen ..."
   ]
  },
  {
   "cell_type": "code",
   "execution_count": 4,
   "id": "fc5b65d6-e245-459f-aa38-a7af3fd50b5b",
   "metadata": {},
   "outputs": [
    {
     "data": {
      "application/vnd.jupyter.widget-view+json": {
       "model_id": "c00826ffbe90477a93875c3da7efabff",
       "version_major": 2,
       "version_minor": 0
      },
      "text/plain": [
       "Label(value='Zielstruktur', style=LabelStyle(font_size='15px', font_weight='bold'))"
      ]
     },
     "metadata": {},
     "output_type": "display_data"
    },
    {
     "data": {
      "application/vnd.jupyter.widget-view+json": {
       "model_id": "db991fb06e5042f8a41e84110b568965",
       "version_major": 2,
       "version_minor": 0
      },
      "text/plain": [
       "RadioButtons(options=('Minimum', 'Übergangszustand'), orientation='horizontal', value='Minimum')"
      ]
     },
     "metadata": {},
     "output_type": "display_data"
    },
    {
     "data": {
      "application/vnd.jupyter.widget-view+json": {
       "model_id": "a865f6a547ab4c8eb50ee78e08d961de",
       "version_major": 2,
       "version_minor": 0
      },
      "text/plain": [
       "Label(value='Koordinaten (XYZ-Format)', style=LabelStyle(font_size='15px', font_weight='bold'))"
      ]
     },
     "metadata": {},
     "output_type": "display_data"
    },
    {
     "data": {
      "application/vnd.jupyter.widget-view+json": {
       "model_id": "e3796d5f31234a22bb018a201cb6f9be",
       "version_major": 2,
       "version_minor": 0
      },
      "text/plain": [
       "Button(description='Einfügen  📥', style=ButtonStyle())"
      ]
     },
     "metadata": {},
     "output_type": "display_data"
    },
    {
     "data": {
      "application/vnd.jupyter.widget-view+json": {
       "model_id": "406364bc86904c67b95ef64a5b65ced1",
       "version_major": 2,
       "version_minor": 0
      },
      "text/plain": [
       "Output()"
      ]
     },
     "metadata": {},
     "output_type": "display_data"
    },
    {
     "data": {
      "application/vnd.jupyter.widget-view+json": {
       "model_id": "b9dc27035edd4a82827171d0a8849aa9",
       "version_major": 2,
       "version_minor": 0
      },
      "text/plain": [
       "Label(value='Berechnung', style=LabelStyle(font_size='15px', font_weight='bold'))"
      ]
     },
     "metadata": {},
     "output_type": "display_data"
    },
    {
     "data": {
      "application/vnd.jupyter.widget-view+json": {
       "model_id": "4b8795a761004399ad1de761d464ee4b",
       "version_major": 2,
       "version_minor": 0
      },
      "text/plain": [
       "Button(description='Starten  ▶️', disabled=True, style=ButtonStyle())"
      ]
     },
     "metadata": {},
     "output_type": "display_data"
    },
    {
     "data": {
      "application/vnd.jupyter.widget-view+json": {
       "model_id": "bb63d5f87ec44173a2ab5f59610d22f4",
       "version_major": 2,
       "version_minor": 0
      },
      "text/plain": [
       "Accordion(children=(Output(layout=Layout(height='250px', overflow='auto')),), titles=('Programmausgabe',))"
      ]
     },
     "metadata": {},
     "output_type": "display_data"
    },
    {
     "data": {
      "application/vnd.jupyter.widget-view+json": {
       "model_id": "f601a3aa77954531a5d0092cab158f78",
       "version_major": 2,
       "version_minor": 0
      },
      "text/plain": [
       "Accordion(children=(NGLWidget(),), titles=('Trajektorie',))"
      ]
     },
     "metadata": {},
     "output_type": "display_data"
    },
    {
     "data": {
      "application/vnd.jupyter.widget-view+json": {
       "model_id": "dd8cbd5a1e3443248b8bfb5da2a7dca0",
       "version_major": 2,
       "version_minor": 0
      },
      "text/plain": [
       "Accordion(children=(VBox(children=(Output(), Button(description='Kopieren 📋', style=ButtonStyle()))),), titles…"
      ]
     },
     "metadata": {},
     "output_type": "display_data"
    }
   ],
   "source": [
    "opt_tool = achprak.optimization.OptTool()\n",
    "opt_tool.show()"
   ]
  },
  {
   "cell_type": "markdown",
   "id": "5c109c06-7100-46e0-b0c1-dfddd09aaaa5",
   "metadata": {},
   "source": [
    "## Werkzeug IV: UV/Vis Spektrum\n",
    "\n",
    "Erklärungen ..."
   ]
  },
  {
   "cell_type": "code",
   "execution_count": 5,
   "id": "5313d4ca-b031-4e74-a8c1-39c821849eef",
   "metadata": {},
   "outputs": [
    {
     "data": {
      "application/vnd.jupyter.widget-view+json": {
       "model_id": "10bafb1e07b64ca0a46016e60be3c677",
       "version_major": 2,
       "version_minor": 0
      },
      "text/plain": [
       "Label(value='Koordinaten (XYZ-Format)', style=LabelStyle(font_size='15px', font_weight='bold'))"
      ]
     },
     "metadata": {},
     "output_type": "display_data"
    },
    {
     "data": {
      "application/vnd.jupyter.widget-view+json": {
       "model_id": "616eedd8dd0c45ff83b220ec38ea04c4",
       "version_major": 2,
       "version_minor": 0
      },
      "text/plain": [
       "Button(description='Einfügen  📥', style=ButtonStyle())"
      ]
     },
     "metadata": {},
     "output_type": "display_data"
    },
    {
     "data": {
      "application/vnd.jupyter.widget-view+json": {
       "model_id": "a07a20cdbd0040609b0b38309388026f",
       "version_major": 2,
       "version_minor": 0
      },
      "text/plain": [
       "Output()"
      ]
     },
     "metadata": {},
     "output_type": "display_data"
    },
    {
     "data": {
      "application/vnd.jupyter.widget-view+json": {
       "model_id": "6e7d308aa9564f1d844773ff775ff5f2",
       "version_major": 2,
       "version_minor": 0
      },
      "text/plain": [
       "Label(value='Berechnung', style=LabelStyle(font_size='15px', font_weight='bold'))"
      ]
     },
     "metadata": {},
     "output_type": "display_data"
    },
    {
     "data": {
      "application/vnd.jupyter.widget-view+json": {
       "model_id": "b43b3fe3e07b43b7903a40b6d8976e38",
       "version_major": 2,
       "version_minor": 0
      },
      "text/plain": [
       "Button(description='Starten  ▶️', disabled=True, style=ButtonStyle())"
      ]
     },
     "metadata": {},
     "output_type": "display_data"
    },
    {
     "data": {
      "application/vnd.jupyter.widget-view+json": {
       "model_id": "7fd4c723331e4a01bff718c65e9c37c4",
       "version_major": 2,
       "version_minor": 0
      },
      "text/plain": [
       "Accordion(children=(Output(layout=Layout(height='250px', overflow='auto')),), titles=('Programmausgabe',))"
      ]
     },
     "metadata": {},
     "output_type": "display_data"
    },
    {
     "data": {
      "application/vnd.jupyter.widget-view+json": {
       "model_id": "1f83ec7f33e245aea0e748a8d5399235",
       "version_major": 2,
       "version_minor": 0
      },
      "text/plain": [
       "Accordion(children=(Output(),), titles=('Absorptionsspektrum (UV/Vis)',))"
      ]
     },
     "metadata": {},
     "output_type": "display_data"
    }
   ],
   "source": [
    "uvvis_tool = achprak.uvvis.UVVisTool()\n",
    "uvvis_tool.show()"
   ]
  },
  {
   "cell_type": "code",
   "execution_count": null,
   "id": "80df5296-5dc9-4e6f-9425-98b4c27e3c46",
   "metadata": {},
   "outputs": [],
   "source": []
  }
 ],
 "metadata": {
  "kernelspec": {
   "display_name": "Python 3 (ipykernel)",
   "language": "python",
   "name": "python3"
  },
  "language_info": {
   "codemirror_mode": {
    "name": "ipython",
    "version": 3
   },
   "file_extension": ".py",
   "mimetype": "text/x-python",
   "name": "python",
   "nbconvert_exporter": "python",
   "pygments_lexer": "ipython3",
   "version": "3.13.5"
  }
 },
 "nbformat": 4,
 "nbformat_minor": 5
}
